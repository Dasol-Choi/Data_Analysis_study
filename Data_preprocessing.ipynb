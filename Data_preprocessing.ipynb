{
  "nbformat": 4,
  "nbformat_minor": 0,
  "metadata": {
    "colab": {
      "provenance": [],
      "collapsed_sections": [],
      "toc_visible": true
    },
    "kernelspec": {
      "name": "python3",
      "display_name": "Python 3"
    },
    "language_info": {
      "name": "python"
    }
  },
  "cells": [
    {
      "cell_type": "markdown",
      "source": [
        "# 누락데이터 처리"
      ],
      "metadata": {
        "id": "ssUfhrQlRWjq"
      }
    },
    {
      "cell_type": "markdown",
      "source": [
        "* 데이터가 누락되는 경우 : 데이터를 입력할 때 빠트리거나 파일 형식을 변환하는 과정에서 데이터가 소실되는 것이 주요 원인\n",
        "* 일반적으로 유효한 데이터 값이 존재하지 않는 누락 데이터를 NaN(Not a Number)으로 표시\n",
        "* 머신러닝 모델에 데이터 입력 전 반드시 누락 데이터 제거 혹은 다른 적절한 값으로 대체하는 과정 필요\n",
        "* 누락 데이터가 많아지면 데이터의 품질이 떨어지고 머신러닝 분석 알고리즘을 왜곡하는 현상 발생"
      ],
      "metadata": {
        "id": "lrLENx2YRZFq"
      }
    },
    {
      "cell_type": "code",
      "execution_count": null,
      "metadata": {
        "id": "A3Bl-0nyQjml"
      },
      "outputs": [],
      "source": [
        "#라이브러리 import\n",
        "import seaborn as sns\n",
        "import pandas as pd"
      ]
    },
    {
      "cell_type": "code",
      "source": [
        "#titanic 데이터 가져오기\n",
        "df = sns.load_dataset('titanic')\n",
        "df.head(5)"
      ],
      "metadata": {
        "colab": {
          "base_uri": "https://localhost:8080/",
          "height": 250
        },
        "id": "MTrsJ8vQQmeu",
        "outputId": "45981473-d118-4357-80e1-5f642550b041"
      },
      "execution_count": null,
      "outputs": [
        {
          "output_type": "execute_result",
          "data": {
            "text/plain": [
              "   survived  pclass     sex   age  sibsp  parch     fare embarked  class  \\\n",
              "0         0       3    male  22.0      1      0   7.2500        S  Third   \n",
              "1         1       1  female  38.0      1      0  71.2833        C  First   \n",
              "2         1       3  female  26.0      0      0   7.9250        S  Third   \n",
              "3         1       1  female  35.0      1      0  53.1000        S  First   \n",
              "4         0       3    male  35.0      0      0   8.0500        S  Third   \n",
              "\n",
              "     who  adult_male deck  embark_town alive  alone  \n",
              "0    man        True  NaN  Southampton    no  False  \n",
              "1  woman       False    C    Cherbourg   yes  False  \n",
              "2  woman       False  NaN  Southampton   yes   True  \n",
              "3  woman       False    C  Southampton   yes  False  \n",
              "4    man        True  NaN  Southampton    no   True  "
            ],
            "text/html": [
              "\n",
              "  <div id=\"df-23c91d5e-1fca-4357-a91f-81c118c59857\">\n",
              "    <div class=\"colab-df-container\">\n",
              "      <div>\n",
              "<style scoped>\n",
              "    .dataframe tbody tr th:only-of-type {\n",
              "        vertical-align: middle;\n",
              "    }\n",
              "\n",
              "    .dataframe tbody tr th {\n",
              "        vertical-align: top;\n",
              "    }\n",
              "\n",
              "    .dataframe thead th {\n",
              "        text-align: right;\n",
              "    }\n",
              "</style>\n",
              "<table border=\"1\" class=\"dataframe\">\n",
              "  <thead>\n",
              "    <tr style=\"text-align: right;\">\n",
              "      <th></th>\n",
              "      <th>survived</th>\n",
              "      <th>pclass</th>\n",
              "      <th>sex</th>\n",
              "      <th>age</th>\n",
              "      <th>sibsp</th>\n",
              "      <th>parch</th>\n",
              "      <th>fare</th>\n",
              "      <th>embarked</th>\n",
              "      <th>class</th>\n",
              "      <th>who</th>\n",
              "      <th>adult_male</th>\n",
              "      <th>deck</th>\n",
              "      <th>embark_town</th>\n",
              "      <th>alive</th>\n",
              "      <th>alone</th>\n",
              "    </tr>\n",
              "  </thead>\n",
              "  <tbody>\n",
              "    <tr>\n",
              "      <th>0</th>\n",
              "      <td>0</td>\n",
              "      <td>3</td>\n",
              "      <td>male</td>\n",
              "      <td>22.0</td>\n",
              "      <td>1</td>\n",
              "      <td>0</td>\n",
              "      <td>7.2500</td>\n",
              "      <td>S</td>\n",
              "      <td>Third</td>\n",
              "      <td>man</td>\n",
              "      <td>True</td>\n",
              "      <td>NaN</td>\n",
              "      <td>Southampton</td>\n",
              "      <td>no</td>\n",
              "      <td>False</td>\n",
              "    </tr>\n",
              "    <tr>\n",
              "      <th>1</th>\n",
              "      <td>1</td>\n",
              "      <td>1</td>\n",
              "      <td>female</td>\n",
              "      <td>38.0</td>\n",
              "      <td>1</td>\n",
              "      <td>0</td>\n",
              "      <td>71.2833</td>\n",
              "      <td>C</td>\n",
              "      <td>First</td>\n",
              "      <td>woman</td>\n",
              "      <td>False</td>\n",
              "      <td>C</td>\n",
              "      <td>Cherbourg</td>\n",
              "      <td>yes</td>\n",
              "      <td>False</td>\n",
              "    </tr>\n",
              "    <tr>\n",
              "      <th>2</th>\n",
              "      <td>1</td>\n",
              "      <td>3</td>\n",
              "      <td>female</td>\n",
              "      <td>26.0</td>\n",
              "      <td>0</td>\n",
              "      <td>0</td>\n",
              "      <td>7.9250</td>\n",
              "      <td>S</td>\n",
              "      <td>Third</td>\n",
              "      <td>woman</td>\n",
              "      <td>False</td>\n",
              "      <td>NaN</td>\n",
              "      <td>Southampton</td>\n",
              "      <td>yes</td>\n",
              "      <td>True</td>\n",
              "    </tr>\n",
              "    <tr>\n",
              "      <th>3</th>\n",
              "      <td>1</td>\n",
              "      <td>1</td>\n",
              "      <td>female</td>\n",
              "      <td>35.0</td>\n",
              "      <td>1</td>\n",
              "      <td>0</td>\n",
              "      <td>53.1000</td>\n",
              "      <td>S</td>\n",
              "      <td>First</td>\n",
              "      <td>woman</td>\n",
              "      <td>False</td>\n",
              "      <td>C</td>\n",
              "      <td>Southampton</td>\n",
              "      <td>yes</td>\n",
              "      <td>False</td>\n",
              "    </tr>\n",
              "    <tr>\n",
              "      <th>4</th>\n",
              "      <td>0</td>\n",
              "      <td>3</td>\n",
              "      <td>male</td>\n",
              "      <td>35.0</td>\n",
              "      <td>0</td>\n",
              "      <td>0</td>\n",
              "      <td>8.0500</td>\n",
              "      <td>S</td>\n",
              "      <td>Third</td>\n",
              "      <td>man</td>\n",
              "      <td>True</td>\n",
              "      <td>NaN</td>\n",
              "      <td>Southampton</td>\n",
              "      <td>no</td>\n",
              "      <td>True</td>\n",
              "    </tr>\n",
              "  </tbody>\n",
              "</table>\n",
              "</div>\n",
              "      <button class=\"colab-df-convert\" onclick=\"convertToInteractive('df-23c91d5e-1fca-4357-a91f-81c118c59857')\"\n",
              "              title=\"Convert this dataframe to an interactive table.\"\n",
              "              style=\"display:none;\">\n",
              "        \n",
              "  <svg xmlns=\"http://www.w3.org/2000/svg\" height=\"24px\"viewBox=\"0 0 24 24\"\n",
              "       width=\"24px\">\n",
              "    <path d=\"M0 0h24v24H0V0z\" fill=\"none\"/>\n",
              "    <path d=\"M18.56 5.44l.94 2.06.94-2.06 2.06-.94-2.06-.94-.94-2.06-.94 2.06-2.06.94zm-11 1L8.5 8.5l.94-2.06 2.06-.94-2.06-.94L8.5 2.5l-.94 2.06-2.06.94zm10 10l.94 2.06.94-2.06 2.06-.94-2.06-.94-.94-2.06-.94 2.06-2.06.94z\"/><path d=\"M17.41 7.96l-1.37-1.37c-.4-.4-.92-.59-1.43-.59-.52 0-1.04.2-1.43.59L10.3 9.45l-7.72 7.72c-.78.78-.78 2.05 0 2.83L4 21.41c.39.39.9.59 1.41.59.51 0 1.02-.2 1.41-.59l7.78-7.78 2.81-2.81c.8-.78.8-2.07 0-2.86zM5.41 20L4 18.59l7.72-7.72 1.47 1.35L5.41 20z\"/>\n",
              "  </svg>\n",
              "      </button>\n",
              "      \n",
              "  <style>\n",
              "    .colab-df-container {\n",
              "      display:flex;\n",
              "      flex-wrap:wrap;\n",
              "      gap: 12px;\n",
              "    }\n",
              "\n",
              "    .colab-df-convert {\n",
              "      background-color: #E8F0FE;\n",
              "      border: none;\n",
              "      border-radius: 50%;\n",
              "      cursor: pointer;\n",
              "      display: none;\n",
              "      fill: #1967D2;\n",
              "      height: 32px;\n",
              "      padding: 0 0 0 0;\n",
              "      width: 32px;\n",
              "    }\n",
              "\n",
              "    .colab-df-convert:hover {\n",
              "      background-color: #E2EBFA;\n",
              "      box-shadow: 0px 1px 2px rgba(60, 64, 67, 0.3), 0px 1px 3px 1px rgba(60, 64, 67, 0.15);\n",
              "      fill: #174EA6;\n",
              "    }\n",
              "\n",
              "    [theme=dark] .colab-df-convert {\n",
              "      background-color: #3B4455;\n",
              "      fill: #D2E3FC;\n",
              "    }\n",
              "\n",
              "    [theme=dark] .colab-df-convert:hover {\n",
              "      background-color: #434B5C;\n",
              "      box-shadow: 0px 1px 3px 1px rgba(0, 0, 0, 0.15);\n",
              "      filter: drop-shadow(0px 1px 2px rgba(0, 0, 0, 0.3));\n",
              "      fill: #FFFFFF;\n",
              "    }\n",
              "  </style>\n",
              "\n",
              "      <script>\n",
              "        const buttonEl =\n",
              "          document.querySelector('#df-23c91d5e-1fca-4357-a91f-81c118c59857 button.colab-df-convert');\n",
              "        buttonEl.style.display =\n",
              "          google.colab.kernel.accessAllowed ? 'block' : 'none';\n",
              "\n",
              "        async function convertToInteractive(key) {\n",
              "          const element = document.querySelector('#df-23c91d5e-1fca-4357-a91f-81c118c59857');\n",
              "          const dataTable =\n",
              "            await google.colab.kernel.invokeFunction('convertToInteractive',\n",
              "                                                     [key], {});\n",
              "          if (!dataTable) return;\n",
              "\n",
              "          const docLinkHtml = 'Like what you see? Visit the ' +\n",
              "            '<a target=\"_blank\" href=https://colab.research.google.com/notebooks/data_table.ipynb>data table notebook</a>'\n",
              "            + ' to learn more about interactive tables.';\n",
              "          element.innerHTML = '';\n",
              "          dataTable['output_type'] = 'display_data';\n",
              "          await google.colab.output.renderOutput(dataTable, element);\n",
              "          const docLink = document.createElement('div');\n",
              "          docLink.innerHTML = docLinkHtml;\n",
              "          element.appendChild(docLink);\n",
              "        }\n",
              "      </script>\n",
              "    </div>\n",
              "  </div>\n",
              "  "
            ]
          },
          "metadata": {},
          "execution_count": 158
        }
      ]
    },
    {
      "cell_type": "markdown",
      "source": [
        "## NaN 값 개수 확인"
      ],
      "metadata": {
        "id": "rJKfVuFAqo1y"
      }
    },
    {
      "cell_type": "code",
      "source": [
        "#데이터프레임 요약 정보 출력 후 NaN값 개수 확인\n",
        "df.info()"
      ],
      "metadata": {
        "colab": {
          "base_uri": "https://localhost:8080/"
        },
        "id": "ykWOLvXBQmhS",
        "outputId": "60c3e0e4-23ec-401f-9a66-f7b1074f19d2"
      },
      "execution_count": null,
      "outputs": [
        {
          "output_type": "stream",
          "name": "stdout",
          "text": [
            "<class 'pandas.core.frame.DataFrame'>\n",
            "RangeIndex: 891 entries, 0 to 890\n",
            "Data columns (total 15 columns):\n",
            " #   Column       Non-Null Count  Dtype   \n",
            "---  ------       --------------  -----   \n",
            " 0   survived     891 non-null    int64   \n",
            " 1   pclass       891 non-null    int64   \n",
            " 2   sex          891 non-null    object  \n",
            " 3   age          714 non-null    float64 \n",
            " 4   sibsp        891 non-null    int64   \n",
            " 5   parch        891 non-null    int64   \n",
            " 6   fare         891 non-null    float64 \n",
            " 7   embarked     889 non-null    object  \n",
            " 8   class        891 non-null    category\n",
            " 9   who          891 non-null    object  \n",
            " 10  adult_male   891 non-null    bool    \n",
            " 11  deck         203 non-null    category\n",
            " 12  embark_town  889 non-null    object  \n",
            " 13  alive        891 non-null    object  \n",
            " 14  alone        891 non-null    bool    \n",
            "dtypes: bool(2), category(2), float64(2), int64(4), object(5)\n",
            "memory usage: 80.7+ KB\n"
          ]
        }
      ]
    },
    {
      "cell_type": "code",
      "source": [
        "#deck 열의 NaN값 개수 확인\n",
        "df.deck.value_counts(dropna=False)"
      ],
      "metadata": {
        "colab": {
          "base_uri": "https://localhost:8080/"
        },
        "id": "XKal8irxSo6D",
        "outputId": "c4906254-5c49-4dbc-a4de-657b459bc63b"
      },
      "execution_count": null,
      "outputs": [
        {
          "output_type": "execute_result",
          "data": {
            "text/plain": [
              "NaN    688\n",
              "C       59\n",
              "B       47\n",
              "D       33\n",
              "E       32\n",
              "A       15\n",
              "F       13\n",
              "G        4\n",
              "Name: deck, dtype: int64"
            ]
          },
          "metadata": {},
          "execution_count": 160
        }
      ]
    },
    {
      "cell_type": "markdown",
      "source": [
        "## 누락 데이터를 찾는 직접적인 방법\n",
        " * isnull() : 누락데이터면 True반환, 유효한 데이터가 존재하면 False 반환\n",
        " * notnull() : 유효한 데이터가 존재하면 True 반환, 누락 데이터면 False 반환"
      ],
      "metadata": {
        "id": "7iBGQJbCX4N5"
      }
    },
    {
      "cell_type": "code",
      "source": [
        "#데이터프레임 첫 5행이 누락 데이터인지 여부 확인\n",
        "df.head().isnull()"
      ],
      "metadata": {
        "colab": {
          "base_uri": "https://localhost:8080/",
          "height": 250
        },
        "id": "nKUPYDQIQmi8",
        "outputId": "e25996b0-0e48-42d6-9652-3ee8195ef9db"
      },
      "execution_count": null,
      "outputs": [
        {
          "output_type": "execute_result",
          "data": {
            "text/plain": [
              "   survived  pclass    sex    age  sibsp  parch   fare  embarked  class  \\\n",
              "0     False   False  False  False  False  False  False     False  False   \n",
              "1     False   False  False  False  False  False  False     False  False   \n",
              "2     False   False  False  False  False  False  False     False  False   \n",
              "3     False   False  False  False  False  False  False     False  False   \n",
              "4     False   False  False  False  False  False  False     False  False   \n",
              "\n",
              "     who  adult_male   deck  embark_town  alive  alone  \n",
              "0  False       False   True        False  False  False  \n",
              "1  False       False  False        False  False  False  \n",
              "2  False       False   True        False  False  False  \n",
              "3  False       False  False        False  False  False  \n",
              "4  False       False   True        False  False  False  "
            ],
            "text/html": [
              "\n",
              "  <div id=\"df-ddb543a7-5b20-4fcf-b187-43221c95d43c\">\n",
              "    <div class=\"colab-df-container\">\n",
              "      <div>\n",
              "<style scoped>\n",
              "    .dataframe tbody tr th:only-of-type {\n",
              "        vertical-align: middle;\n",
              "    }\n",
              "\n",
              "    .dataframe tbody tr th {\n",
              "        vertical-align: top;\n",
              "    }\n",
              "\n",
              "    .dataframe thead th {\n",
              "        text-align: right;\n",
              "    }\n",
              "</style>\n",
              "<table border=\"1\" class=\"dataframe\">\n",
              "  <thead>\n",
              "    <tr style=\"text-align: right;\">\n",
              "      <th></th>\n",
              "      <th>survived</th>\n",
              "      <th>pclass</th>\n",
              "      <th>sex</th>\n",
              "      <th>age</th>\n",
              "      <th>sibsp</th>\n",
              "      <th>parch</th>\n",
              "      <th>fare</th>\n",
              "      <th>embarked</th>\n",
              "      <th>class</th>\n",
              "      <th>who</th>\n",
              "      <th>adult_male</th>\n",
              "      <th>deck</th>\n",
              "      <th>embark_town</th>\n",
              "      <th>alive</th>\n",
              "      <th>alone</th>\n",
              "    </tr>\n",
              "  </thead>\n",
              "  <tbody>\n",
              "    <tr>\n",
              "      <th>0</th>\n",
              "      <td>False</td>\n",
              "      <td>False</td>\n",
              "      <td>False</td>\n",
              "      <td>False</td>\n",
              "      <td>False</td>\n",
              "      <td>False</td>\n",
              "      <td>False</td>\n",
              "      <td>False</td>\n",
              "      <td>False</td>\n",
              "      <td>False</td>\n",
              "      <td>False</td>\n",
              "      <td>True</td>\n",
              "      <td>False</td>\n",
              "      <td>False</td>\n",
              "      <td>False</td>\n",
              "    </tr>\n",
              "    <tr>\n",
              "      <th>1</th>\n",
              "      <td>False</td>\n",
              "      <td>False</td>\n",
              "      <td>False</td>\n",
              "      <td>False</td>\n",
              "      <td>False</td>\n",
              "      <td>False</td>\n",
              "      <td>False</td>\n",
              "      <td>False</td>\n",
              "      <td>False</td>\n",
              "      <td>False</td>\n",
              "      <td>False</td>\n",
              "      <td>False</td>\n",
              "      <td>False</td>\n",
              "      <td>False</td>\n",
              "      <td>False</td>\n",
              "    </tr>\n",
              "    <tr>\n",
              "      <th>2</th>\n",
              "      <td>False</td>\n",
              "      <td>False</td>\n",
              "      <td>False</td>\n",
              "      <td>False</td>\n",
              "      <td>False</td>\n",
              "      <td>False</td>\n",
              "      <td>False</td>\n",
              "      <td>False</td>\n",
              "      <td>False</td>\n",
              "      <td>False</td>\n",
              "      <td>False</td>\n",
              "      <td>True</td>\n",
              "      <td>False</td>\n",
              "      <td>False</td>\n",
              "      <td>False</td>\n",
              "    </tr>\n",
              "    <tr>\n",
              "      <th>3</th>\n",
              "      <td>False</td>\n",
              "      <td>False</td>\n",
              "      <td>False</td>\n",
              "      <td>False</td>\n",
              "      <td>False</td>\n",
              "      <td>False</td>\n",
              "      <td>False</td>\n",
              "      <td>False</td>\n",
              "      <td>False</td>\n",
              "      <td>False</td>\n",
              "      <td>False</td>\n",
              "      <td>False</td>\n",
              "      <td>False</td>\n",
              "      <td>False</td>\n",
              "      <td>False</td>\n",
              "    </tr>\n",
              "    <tr>\n",
              "      <th>4</th>\n",
              "      <td>False</td>\n",
              "      <td>False</td>\n",
              "      <td>False</td>\n",
              "      <td>False</td>\n",
              "      <td>False</td>\n",
              "      <td>False</td>\n",
              "      <td>False</td>\n",
              "      <td>False</td>\n",
              "      <td>False</td>\n",
              "      <td>False</td>\n",
              "      <td>False</td>\n",
              "      <td>True</td>\n",
              "      <td>False</td>\n",
              "      <td>False</td>\n",
              "      <td>False</td>\n",
              "    </tr>\n",
              "  </tbody>\n",
              "</table>\n",
              "</div>\n",
              "      <button class=\"colab-df-convert\" onclick=\"convertToInteractive('df-ddb543a7-5b20-4fcf-b187-43221c95d43c')\"\n",
              "              title=\"Convert this dataframe to an interactive table.\"\n",
              "              style=\"display:none;\">\n",
              "        \n",
              "  <svg xmlns=\"http://www.w3.org/2000/svg\" height=\"24px\"viewBox=\"0 0 24 24\"\n",
              "       width=\"24px\">\n",
              "    <path d=\"M0 0h24v24H0V0z\" fill=\"none\"/>\n",
              "    <path d=\"M18.56 5.44l.94 2.06.94-2.06 2.06-.94-2.06-.94-.94-2.06-.94 2.06-2.06.94zm-11 1L8.5 8.5l.94-2.06 2.06-.94-2.06-.94L8.5 2.5l-.94 2.06-2.06.94zm10 10l.94 2.06.94-2.06 2.06-.94-2.06-.94-.94-2.06-.94 2.06-2.06.94z\"/><path d=\"M17.41 7.96l-1.37-1.37c-.4-.4-.92-.59-1.43-.59-.52 0-1.04.2-1.43.59L10.3 9.45l-7.72 7.72c-.78.78-.78 2.05 0 2.83L4 21.41c.39.39.9.59 1.41.59.51 0 1.02-.2 1.41-.59l7.78-7.78 2.81-2.81c.8-.78.8-2.07 0-2.86zM5.41 20L4 18.59l7.72-7.72 1.47 1.35L5.41 20z\"/>\n",
              "  </svg>\n",
              "      </button>\n",
              "      \n",
              "  <style>\n",
              "    .colab-df-container {\n",
              "      display:flex;\n",
              "      flex-wrap:wrap;\n",
              "      gap: 12px;\n",
              "    }\n",
              "\n",
              "    .colab-df-convert {\n",
              "      background-color: #E8F0FE;\n",
              "      border: none;\n",
              "      border-radius: 50%;\n",
              "      cursor: pointer;\n",
              "      display: none;\n",
              "      fill: #1967D2;\n",
              "      height: 32px;\n",
              "      padding: 0 0 0 0;\n",
              "      width: 32px;\n",
              "    }\n",
              "\n",
              "    .colab-df-convert:hover {\n",
              "      background-color: #E2EBFA;\n",
              "      box-shadow: 0px 1px 2px rgba(60, 64, 67, 0.3), 0px 1px 3px 1px rgba(60, 64, 67, 0.15);\n",
              "      fill: #174EA6;\n",
              "    }\n",
              "\n",
              "    [theme=dark] .colab-df-convert {\n",
              "      background-color: #3B4455;\n",
              "      fill: #D2E3FC;\n",
              "    }\n",
              "\n",
              "    [theme=dark] .colab-df-convert:hover {\n",
              "      background-color: #434B5C;\n",
              "      box-shadow: 0px 1px 3px 1px rgba(0, 0, 0, 0.15);\n",
              "      filter: drop-shadow(0px 1px 2px rgba(0, 0, 0, 0.3));\n",
              "      fill: #FFFFFF;\n",
              "    }\n",
              "  </style>\n",
              "\n",
              "      <script>\n",
              "        const buttonEl =\n",
              "          document.querySelector('#df-ddb543a7-5b20-4fcf-b187-43221c95d43c button.colab-df-convert');\n",
              "        buttonEl.style.display =\n",
              "          google.colab.kernel.accessAllowed ? 'block' : 'none';\n",
              "\n",
              "        async function convertToInteractive(key) {\n",
              "          const element = document.querySelector('#df-ddb543a7-5b20-4fcf-b187-43221c95d43c');\n",
              "          const dataTable =\n",
              "            await google.colab.kernel.invokeFunction('convertToInteractive',\n",
              "                                                     [key], {});\n",
              "          if (!dataTable) return;\n",
              "\n",
              "          const docLinkHtml = 'Like what you see? Visit the ' +\n",
              "            '<a target=\"_blank\" href=https://colab.research.google.com/notebooks/data_table.ipynb>data table notebook</a>'\n",
              "            + ' to learn more about interactive tables.';\n",
              "          element.innerHTML = '';\n",
              "          dataTable['output_type'] = 'display_data';\n",
              "          await google.colab.output.renderOutput(dataTable, element);\n",
              "          const docLink = document.createElement('div');\n",
              "          docLink.innerHTML = docLinkHtml;\n",
              "          element.appendChild(docLink);\n",
              "        }\n",
              "      </script>\n",
              "    </div>\n",
              "  </div>\n",
              "  "
            ]
          },
          "metadata": {},
          "execution_count": 161
        }
      ]
    },
    {
      "cell_type": "code",
      "source": [
        "df.head().notnull()"
      ],
      "metadata": {
        "colab": {
          "base_uri": "https://localhost:8080/",
          "height": 206
        },
        "id": "U4G4emo4Qmkg",
        "outputId": "48e3809f-3274-42fa-e1da-86a3aa3825c9"
      },
      "execution_count": null,
      "outputs": [
        {
          "output_type": "execute_result",
          "data": {
            "text/plain": [
              "   survived  pclass   sex   age  sibsp  parch  fare  embarked  class   who  \\\n",
              "0      True    True  True  True   True   True  True      True   True  True   \n",
              "1      True    True  True  True   True   True  True      True   True  True   \n",
              "2      True    True  True  True   True   True  True      True   True  True   \n",
              "3      True    True  True  True   True   True  True      True   True  True   \n",
              "4      True    True  True  True   True   True  True      True   True  True   \n",
              "\n",
              "   adult_male   deck  embark_town  alive  alone  \n",
              "0        True  False         True   True   True  \n",
              "1        True   True         True   True   True  \n",
              "2        True  False         True   True   True  \n",
              "3        True   True         True   True   True  \n",
              "4        True  False         True   True   True  "
            ],
            "text/html": [
              "\n",
              "  <div id=\"df-34e4c258-2975-45f5-9d58-45a791e64ed6\">\n",
              "    <div class=\"colab-df-container\">\n",
              "      <div>\n",
              "<style scoped>\n",
              "    .dataframe tbody tr th:only-of-type {\n",
              "        vertical-align: middle;\n",
              "    }\n",
              "\n",
              "    .dataframe tbody tr th {\n",
              "        vertical-align: top;\n",
              "    }\n",
              "\n",
              "    .dataframe thead th {\n",
              "        text-align: right;\n",
              "    }\n",
              "</style>\n",
              "<table border=\"1\" class=\"dataframe\">\n",
              "  <thead>\n",
              "    <tr style=\"text-align: right;\">\n",
              "      <th></th>\n",
              "      <th>survived</th>\n",
              "      <th>pclass</th>\n",
              "      <th>sex</th>\n",
              "      <th>age</th>\n",
              "      <th>sibsp</th>\n",
              "      <th>parch</th>\n",
              "      <th>fare</th>\n",
              "      <th>embarked</th>\n",
              "      <th>class</th>\n",
              "      <th>who</th>\n",
              "      <th>adult_male</th>\n",
              "      <th>deck</th>\n",
              "      <th>embark_town</th>\n",
              "      <th>alive</th>\n",
              "      <th>alone</th>\n",
              "    </tr>\n",
              "  </thead>\n",
              "  <tbody>\n",
              "    <tr>\n",
              "      <th>0</th>\n",
              "      <td>True</td>\n",
              "      <td>True</td>\n",
              "      <td>True</td>\n",
              "      <td>True</td>\n",
              "      <td>True</td>\n",
              "      <td>True</td>\n",
              "      <td>True</td>\n",
              "      <td>True</td>\n",
              "      <td>True</td>\n",
              "      <td>True</td>\n",
              "      <td>True</td>\n",
              "      <td>False</td>\n",
              "      <td>True</td>\n",
              "      <td>True</td>\n",
              "      <td>True</td>\n",
              "    </tr>\n",
              "    <tr>\n",
              "      <th>1</th>\n",
              "      <td>True</td>\n",
              "      <td>True</td>\n",
              "      <td>True</td>\n",
              "      <td>True</td>\n",
              "      <td>True</td>\n",
              "      <td>True</td>\n",
              "      <td>True</td>\n",
              "      <td>True</td>\n",
              "      <td>True</td>\n",
              "      <td>True</td>\n",
              "      <td>True</td>\n",
              "      <td>True</td>\n",
              "      <td>True</td>\n",
              "      <td>True</td>\n",
              "      <td>True</td>\n",
              "    </tr>\n",
              "    <tr>\n",
              "      <th>2</th>\n",
              "      <td>True</td>\n",
              "      <td>True</td>\n",
              "      <td>True</td>\n",
              "      <td>True</td>\n",
              "      <td>True</td>\n",
              "      <td>True</td>\n",
              "      <td>True</td>\n",
              "      <td>True</td>\n",
              "      <td>True</td>\n",
              "      <td>True</td>\n",
              "      <td>True</td>\n",
              "      <td>False</td>\n",
              "      <td>True</td>\n",
              "      <td>True</td>\n",
              "      <td>True</td>\n",
              "    </tr>\n",
              "    <tr>\n",
              "      <th>3</th>\n",
              "      <td>True</td>\n",
              "      <td>True</td>\n",
              "      <td>True</td>\n",
              "      <td>True</td>\n",
              "      <td>True</td>\n",
              "      <td>True</td>\n",
              "      <td>True</td>\n",
              "      <td>True</td>\n",
              "      <td>True</td>\n",
              "      <td>True</td>\n",
              "      <td>True</td>\n",
              "      <td>True</td>\n",
              "      <td>True</td>\n",
              "      <td>True</td>\n",
              "      <td>True</td>\n",
              "    </tr>\n",
              "    <tr>\n",
              "      <th>4</th>\n",
              "      <td>True</td>\n",
              "      <td>True</td>\n",
              "      <td>True</td>\n",
              "      <td>True</td>\n",
              "      <td>True</td>\n",
              "      <td>True</td>\n",
              "      <td>True</td>\n",
              "      <td>True</td>\n",
              "      <td>True</td>\n",
              "      <td>True</td>\n",
              "      <td>True</td>\n",
              "      <td>False</td>\n",
              "      <td>True</td>\n",
              "      <td>True</td>\n",
              "      <td>True</td>\n",
              "    </tr>\n",
              "  </tbody>\n",
              "</table>\n",
              "</div>\n",
              "      <button class=\"colab-df-convert\" onclick=\"convertToInteractive('df-34e4c258-2975-45f5-9d58-45a791e64ed6')\"\n",
              "              title=\"Convert this dataframe to an interactive table.\"\n",
              "              style=\"display:none;\">\n",
              "        \n",
              "  <svg xmlns=\"http://www.w3.org/2000/svg\" height=\"24px\"viewBox=\"0 0 24 24\"\n",
              "       width=\"24px\">\n",
              "    <path d=\"M0 0h24v24H0V0z\" fill=\"none\"/>\n",
              "    <path d=\"M18.56 5.44l.94 2.06.94-2.06 2.06-.94-2.06-.94-.94-2.06-.94 2.06-2.06.94zm-11 1L8.5 8.5l.94-2.06 2.06-.94-2.06-.94L8.5 2.5l-.94 2.06-2.06.94zm10 10l.94 2.06.94-2.06 2.06-.94-2.06-.94-.94-2.06-.94 2.06-2.06.94z\"/><path d=\"M17.41 7.96l-1.37-1.37c-.4-.4-.92-.59-1.43-.59-.52 0-1.04.2-1.43.59L10.3 9.45l-7.72 7.72c-.78.78-.78 2.05 0 2.83L4 21.41c.39.39.9.59 1.41.59.51 0 1.02-.2 1.41-.59l7.78-7.78 2.81-2.81c.8-.78.8-2.07 0-2.86zM5.41 20L4 18.59l7.72-7.72 1.47 1.35L5.41 20z\"/>\n",
              "  </svg>\n",
              "      </button>\n",
              "      \n",
              "  <style>\n",
              "    .colab-df-container {\n",
              "      display:flex;\n",
              "      flex-wrap:wrap;\n",
              "      gap: 12px;\n",
              "    }\n",
              "\n",
              "    .colab-df-convert {\n",
              "      background-color: #E8F0FE;\n",
              "      border: none;\n",
              "      border-radius: 50%;\n",
              "      cursor: pointer;\n",
              "      display: none;\n",
              "      fill: #1967D2;\n",
              "      height: 32px;\n",
              "      padding: 0 0 0 0;\n",
              "      width: 32px;\n",
              "    }\n",
              "\n",
              "    .colab-df-convert:hover {\n",
              "      background-color: #E2EBFA;\n",
              "      box-shadow: 0px 1px 2px rgba(60, 64, 67, 0.3), 0px 1px 3px 1px rgba(60, 64, 67, 0.15);\n",
              "      fill: #174EA6;\n",
              "    }\n",
              "\n",
              "    [theme=dark] .colab-df-convert {\n",
              "      background-color: #3B4455;\n",
              "      fill: #D2E3FC;\n",
              "    }\n",
              "\n",
              "    [theme=dark] .colab-df-convert:hover {\n",
              "      background-color: #434B5C;\n",
              "      box-shadow: 0px 1px 3px 1px rgba(0, 0, 0, 0.15);\n",
              "      filter: drop-shadow(0px 1px 2px rgba(0, 0, 0, 0.3));\n",
              "      fill: #FFFFFF;\n",
              "    }\n",
              "  </style>\n",
              "\n",
              "      <script>\n",
              "        const buttonEl =\n",
              "          document.querySelector('#df-34e4c258-2975-45f5-9d58-45a791e64ed6 button.colab-df-convert');\n",
              "        buttonEl.style.display =\n",
              "          google.colab.kernel.accessAllowed ? 'block' : 'none';\n",
              "\n",
              "        async function convertToInteractive(key) {\n",
              "          const element = document.querySelector('#df-34e4c258-2975-45f5-9d58-45a791e64ed6');\n",
              "          const dataTable =\n",
              "            await google.colab.kernel.invokeFunction('convertToInteractive',\n",
              "                                                     [key], {});\n",
              "          if (!dataTable) return;\n",
              "\n",
              "          const docLinkHtml = 'Like what you see? Visit the ' +\n",
              "            '<a target=\"_blank\" href=https://colab.research.google.com/notebooks/data_table.ipynb>data table notebook</a>'\n",
              "            + ' to learn more about interactive tables.';\n",
              "          element.innerHTML = '';\n",
              "          dataTable['output_type'] = 'display_data';\n",
              "          await google.colab.output.renderOutput(dataTable, element);\n",
              "          const docLink = document.createElement('div');\n",
              "          docLink.innerHTML = docLinkHtml;\n",
              "          element.appendChild(docLink);\n",
              "        }\n",
              "      </script>\n",
              "    </div>\n",
              "  </div>\n",
              "  "
            ]
          },
          "metadata": {},
          "execution_count": 162
        }
      ]
    },
    {
      "cell_type": "markdown",
      "source": [
        "* 누락 데이터의 개수 확인 : isnull과 notnull을 활용할 수 있다. \n",
        " * isnull은 반환값이 참이면 1, 거짓이면 0으로 판별\n",
        " * isnull 실행후 sum(axis=0)적용시 참(1)의 합이 구해진다. \n"
      ],
      "metadata": {
        "id": "kVDsi3IkYv_6"
      }
    },
    {
      "cell_type": "code",
      "source": [
        "#상위 5개 행의 누락 데이터 개수 구하기(isnull)\n",
        "df.head().isnull().sum(axis=0)"
      ],
      "metadata": {
        "colab": {
          "base_uri": "https://localhost:8080/"
        },
        "id": "LNFbJweAZErK",
        "outputId": "b6855000-fa6d-49ab-e177-72a8b3f4adfe"
      },
      "execution_count": null,
      "outputs": [
        {
          "output_type": "execute_result",
          "data": {
            "text/plain": [
              "survived       0\n",
              "pclass         0\n",
              "sex            0\n",
              "age            0\n",
              "sibsp          0\n",
              "parch          0\n",
              "fare           0\n",
              "embarked       0\n",
              "class          0\n",
              "who            0\n",
              "adult_male     0\n",
              "deck           3\n",
              "embark_town    0\n",
              "alive          0\n",
              "alone          0\n",
              "dtype: int64"
            ]
          },
          "metadata": {},
          "execution_count": 163
        }
      ]
    },
    {
      "cell_type": "code",
      "source": [
        "#상위 5개 행의 누락 데이터 개수 구하기(notnull)\n",
        "df.head().notnull().sum(axis=0)"
      ],
      "metadata": {
        "colab": {
          "base_uri": "https://localhost:8080/"
        },
        "id": "vOZaOFybZEt_",
        "outputId": "0fb3ee8a-59cd-44c8-d739-313d1d685de8"
      },
      "execution_count": null,
      "outputs": [
        {
          "output_type": "execute_result",
          "data": {
            "text/plain": [
              "survived       5\n",
              "pclass         5\n",
              "sex            5\n",
              "age            5\n",
              "sibsp          5\n",
              "parch          5\n",
              "fare           5\n",
              "embarked       5\n",
              "class          5\n",
              "who            5\n",
              "adult_male     5\n",
              "deck           2\n",
              "embark_town    5\n",
              "alive          5\n",
              "alone          5\n",
              "dtype: int64"
            ]
          },
          "metadata": {},
          "execution_count": 164
        }
      ]
    },
    {
      "cell_type": "code",
      "source": [
        "# for문으로 각 열의 NaN 개수 계산하기\n",
        "missing_df = df.isnull()\n",
        "for col in missing_df.columns:\n",
        "  missing_count = missing_df[col].value_counts() #각 열의 NaN 개수 파악\n",
        "  try:\n",
        "    print(col, ':', [True]) #NaN 값이 있으면 개수를 출력\n",
        "  except:\n",
        "    print(col, ':', 0) #NaN 값이 없으면 0개 출력"
      ],
      "metadata": {
        "colab": {
          "base_uri": "https://localhost:8080/"
        },
        "id": "4gmCBSSwZExQ",
        "outputId": "b6d3f471-317f-4935-f6ee-a43762293bf0"
      },
      "execution_count": null,
      "outputs": [
        {
          "output_type": "stream",
          "name": "stdout",
          "text": [
            "survived : [True]\n",
            "pclass : [True]\n",
            "sex : [True]\n",
            "age : [True]\n",
            "sibsp : [True]\n",
            "parch : [True]\n",
            "fare : [True]\n",
            "embarked : [True]\n",
            "class : [True]\n",
            "who : [True]\n",
            "adult_male : [True]\n",
            "deck : [True]\n",
            "embark_town : [True]\n",
            "alive : [True]\n",
            "alone : [True]\n"
          ]
        }
      ]
    },
    {
      "cell_type": "code",
      "source": [
        "df.isnull().sum()"
      ],
      "metadata": {
        "colab": {
          "base_uri": "https://localhost:8080/"
        },
        "id": "o7I-yyPrZymQ",
        "outputId": "b7558034-dfc1-42eb-c3cd-502077c90d49"
      },
      "execution_count": null,
      "outputs": [
        {
          "output_type": "execute_result",
          "data": {
            "text/plain": [
              "survived         0\n",
              "pclass           0\n",
              "sex              0\n",
              "age            177\n",
              "sibsp            0\n",
              "parch            0\n",
              "fare             0\n",
              "embarked         2\n",
              "class            0\n",
              "who              0\n",
              "adult_male       0\n",
              "deck           688\n",
              "embark_town      2\n",
              "alive            0\n",
              "alone            0\n",
              "dtype: int64"
            ]
          },
          "metadata": {},
          "execution_count": 166
        }
      ]
    },
    {
      "cell_type": "markdown",
      "source": [
        "## 누락 데이터 제거\n",
        " * 누락 데이터가 들어있는 열 또는 행을 삭제\n",
        " * 열 삭제 시 분석 대상이 갖는 특성(변수)를 제거\n",
        " * 행 삭제 시 분석 대상의 관측값(레코드)를 제거"
      ],
      "metadata": {
        "id": "liu1Fy0WZzkI"
      }
    },
    {
      "cell_type": "markdown",
      "source": [
        "* dropna() 메소드 : thresh, subset, how, axis, inplace 옵션 등"
      ],
      "metadata": {
        "id": "jmuiBi3Y1RYy"
      }
    },
    {
      "cell_type": "markdown",
      "source": [
        "* 열삭제"
      ],
      "metadata": {
        "id": "xO3psjL615bV"
      }
    },
    {
      "cell_type": "code",
      "source": [
        "# 누락없는 데이터가 500개 이상인 열만 선택\n",
        "# deck 열 - 891개 중 688개의 NaN값 -> 203개의 데이터 존재\n",
        "# dropna() 메소드, thresh옵션 사용\n",
        "df.dropna(thresh=500, axis=1, inplace=True)"
      ],
      "metadata": {
        "id": "gbBak86YZyot"
      },
      "execution_count": null,
      "outputs": []
    },
    {
      "cell_type": "markdown",
      "source": [
        "* 행삭제"
      ],
      "metadata": {
        "id": "P-RlSJ0z16_8"
      }
    },
    {
      "cell_type": "markdown",
      "source": [
        "  * axis = 0 / axis = 1 \n",
        "\n",
        "    0  : NaN 값이 포함된 행을 drop (default)\n",
        "\n",
        "    1  : NaN 값이 포함된 열을 drop\n",
        "\n",
        "\n",
        "\n",
        " * how = 'any' / how ='all'\n",
        "\n",
        "  any : 행 또는 열에 NaN값이 1개만 있어도 drop (default 값입니다.)\n",
        "\n",
        "  all : 행 또는 열에 있는 모든 값이 NaN이어야 drop\n",
        "\n",
        "\n",
        "\n",
        " * inplace = True /  inplace = False\n",
        "\n",
        "  True : 원본 DataFrame 자체에 dropna를 적용\n",
        "\n",
        "  False : 원본  DataFrame는 그대로 두고 dropna를 적용한 새로운 DataFrame을 반환\n",
        "\n",
        "\n",
        "\n",
        " * subset = [ ]\n",
        "\n",
        "  subset을 명시하지 않으면 DataFrame 전체(모든 행 & 모든 열에 대해 dropna를 진행\n",
        "\n",
        "  subset을 명시하면 지정된 적힌 열의 값에 대해서만 dropna를 진행\n",
        "\n"
      ],
      "metadata": {
        "id": "-ocrMD1k3mG4"
      }
    },
    {
      "cell_type": "code",
      "source": [
        "# 나이 데이터가 없는 모든 행을 삭제 (891개 중 177개가 NaN)\n",
        "# dropna 메소드, subset, how, axis 옵션 활용\n",
        "df_age = df.dropna(subset=['age'], how='any', axis=0) \n",
        "print(len(df_age))"
      ],
      "metadata": {
        "colab": {
          "base_uri": "https://localhost:8080/"
        },
        "id": "oc-2nZ5sbJSx",
        "outputId": "e8d0fce4-ef8a-4def-d711-cfdcd90c30eb"
      },
      "execution_count": null,
      "outputs": [
        {
          "output_type": "stream",
          "name": "stdout",
          "text": [
            "714\n"
          ]
        }
      ]
    },
    {
      "cell_type": "markdown",
      "source": [
        "## 누락데이터 변경"
      ],
      "metadata": {
        "id": "PCxlY29G47qo"
      }
    },
    {
      "cell_type": "code",
      "source": [
        "# age열의 NaN 값을 삭제하지 않고 다른 나이 데이터의 평균으로 변경"
      ],
      "metadata": {
        "id": "M29kIm_HfJFW"
      },
      "execution_count": null,
      "outputs": []
    },
    {
      "cell_type": "code",
      "source": [
        "df = sns.load_dataset('titanic')\n",
        "df.age.head(10)"
      ],
      "metadata": {
        "id": "0-HNnGvd6Yyt",
        "colab": {
          "base_uri": "https://localhost:8080/"
        },
        "outputId": "44a9add1-9b82-40f4-d4b3-464dd841bc31"
      },
      "execution_count": null,
      "outputs": [
        {
          "output_type": "execute_result",
          "data": {
            "text/plain": [
              "0    22.0\n",
              "1    38.0\n",
              "2    26.0\n",
              "3    35.0\n",
              "4    35.0\n",
              "5     NaN\n",
              "6    54.0\n",
              "7     2.0\n",
              "8    27.0\n",
              "9    14.0\n",
              "Name: age, dtype: float64"
            ]
          },
          "metadata": {},
          "execution_count": 170
        }
      ]
    },
    {
      "cell_type": "code",
      "source": [
        "#age 열의 평균계산 (NaN값 제외, mean 메소드 활용)\n",
        "age_mean = df.age.mean()\n",
        "#fillna 메소드 활용 평균값으로 NaN 변경\n",
        "df.age.fillna(age_mean, inplace=True)\n",
        "df.age.head(10)"
      ],
      "metadata": {
        "colab": {
          "base_uri": "https://localhost:8080/"
        },
        "id": "6bWmHd8vbJVn",
        "outputId": "8ac33a07-f2d3-4e65-fec2-169750b0cfd0"
      },
      "execution_count": null,
      "outputs": [
        {
          "output_type": "execute_result",
          "data": {
            "text/plain": [
              "0    22.000000\n",
              "1    38.000000\n",
              "2    26.000000\n",
              "3    35.000000\n",
              "4    35.000000\n",
              "5    29.699118\n",
              "6    54.000000\n",
              "7     2.000000\n",
              "8    27.000000\n",
              "9    14.000000\n",
              "Name: age, dtype: float64"
            ]
          },
          "metadata": {},
          "execution_count": 171
        }
      ]
    },
    {
      "cell_type": "code",
      "source": [
        "# embark_town 열의 NaN처리 : 승객들이 가장 많이 승선한 곳의 이름을 찾아 NaN값을 치환\n",
        "df.loc[825:830, 'embark_town']"
      ],
      "metadata": {
        "colab": {
          "base_uri": "https://localhost:8080/"
        },
        "id": "XDHJ7o_nZE1Y",
        "outputId": "41a8467f-0e0b-498a-f7f1-7ce8b0127291"
      },
      "execution_count": null,
      "outputs": [
        {
          "output_type": "execute_result",
          "data": {
            "text/plain": [
              "825     Queenstown\n",
              "826    Southampton\n",
              "827      Cherbourg\n",
              "828     Queenstown\n",
              "829            NaN\n",
              "830      Cherbourg\n",
              "Name: embark_town, dtype: object"
            ]
          },
          "metadata": {},
          "execution_count": 172
        }
      ]
    },
    {
      "cell_type": "code",
      "source": [
        "mos_fruq = df.embark_town.value_counts().idxmax()\n",
        "df.embark_town.fillna(mos_fruq, inplace=True)\n",
        "df.loc[825:830, 'embark_town']"
      ],
      "metadata": {
        "colab": {
          "base_uri": "https://localhost:8080/"
        },
        "id": "hI1nYFMLgr1J",
        "outputId": "29db50ae-9265-4646-a839-c9b13e39afaf"
      },
      "execution_count": null,
      "outputs": [
        {
          "output_type": "execute_result",
          "data": {
            "text/plain": [
              "825     Queenstown\n",
              "826    Southampton\n",
              "827      Cherbourg\n",
              "828     Queenstown\n",
              "829    Southampton\n",
              "830      Cherbourg\n",
              "Name: embark_town, dtype: object"
            ]
          },
          "metadata": {},
          "execution_count": 173
        }
      ]
    },
    {
      "cell_type": "code",
      "source": [
        "#embarked 열의 NaN값을 바로 앞에 있는 828행의 값으로 변경하기\n",
        "df.loc[829, 'embarked']"
      ],
      "metadata": {
        "colab": {
          "base_uri": "https://localhost:8080/"
        },
        "id": "CJCFcl9Dgr3f",
        "outputId": "10c48d3f-352b-4e00-d7e5-281a0b5fb6e3"
      },
      "execution_count": null,
      "outputs": [
        {
          "output_type": "execute_result",
          "data": {
            "text/plain": [
              "nan"
            ]
          },
          "metadata": {},
          "execution_count": 174
        }
      ]
    },
    {
      "cell_type": "code",
      "source": [
        "df.embarked.fillna(method='ffill')[828:831] #바로 앞의 값으로 채움"
      ],
      "metadata": {
        "colab": {
          "base_uri": "https://localhost:8080/"
        },
        "id": "Ngn8GTqlnWXM",
        "outputId": "9f6207ca-ba13-4416-d54d-b976473562ad"
      },
      "execution_count": null,
      "outputs": [
        {
          "output_type": "execute_result",
          "data": {
            "text/plain": [
              "828    Q\n",
              "829    Q\n",
              "830    C\n",
              "Name: embarked, dtype: object"
            ]
          },
          "metadata": {},
          "execution_count": 175
        }
      ]
    },
    {
      "cell_type": "code",
      "source": [
        "df.embarked.fillna(method='bfill')[828:831] #바로 뒤의 값으로 채움"
      ],
      "metadata": {
        "colab": {
          "base_uri": "https://localhost:8080/"
        },
        "id": "RWWwfguB8swy",
        "outputId": "02afcaeb-1934-45bf-a749-ae54b16ed351"
      },
      "execution_count": null,
      "outputs": [
        {
          "output_type": "execute_result",
          "data": {
            "text/plain": [
              "828    Q\n",
              "829    C\n",
              "830    C\n",
              "Name: embarked, dtype: object"
            ]
          },
          "metadata": {},
          "execution_count": 176
        }
      ]
    },
    {
      "cell_type": "markdown",
      "source": [
        "# 중복 데이터 처리"
      ],
      "metadata": {
        "id": "3_Il7SJbpZME"
      }
    },
    {
      "cell_type": "markdown",
      "source": [
        "* 중복 데이터 확인\n",
        " * 동일한 관측값이 중복되는지 여부를 확인하려면 duplicated() 메소드 이용\n",
        " * 전에 나온 행들과 비교하여 중복되는 행이면 True, 처음 나오는 행은 False 반환"
      ],
      "metadata": {
        "id": "6a-BVtz__ZWY"
      }
    },
    {
      "cell_type": "code",
      "source": [
        "df = pd.DataFrame({'c1':['a', 'a', 'b', 'a', 'b'],\n",
        "                  'c2':[1, 1, 1, 2, 2],\n",
        "                  'c3':[1, 1, 2, 2, 2]})\n",
        "df"
      ],
      "metadata": {
        "colab": {
          "base_uri": "https://localhost:8080/",
          "height": 206
        },
        "id": "k-kq_hsGnWau",
        "outputId": "5c55f30a-953f-4ef4-941b-4c7e0cffc02a"
      },
      "execution_count": null,
      "outputs": [
        {
          "output_type": "execute_result",
          "data": {
            "text/plain": [
              "  c1  c2  c3\n",
              "0  a   1   1\n",
              "1  a   1   1\n",
              "2  b   1   2\n",
              "3  a   2   2\n",
              "4  b   2   2"
            ],
            "text/html": [
              "\n",
              "  <div id=\"df-489b18e3-d187-4eb9-8c32-7e5823fd83af\">\n",
              "    <div class=\"colab-df-container\">\n",
              "      <div>\n",
              "<style scoped>\n",
              "    .dataframe tbody tr th:only-of-type {\n",
              "        vertical-align: middle;\n",
              "    }\n",
              "\n",
              "    .dataframe tbody tr th {\n",
              "        vertical-align: top;\n",
              "    }\n",
              "\n",
              "    .dataframe thead th {\n",
              "        text-align: right;\n",
              "    }\n",
              "</style>\n",
              "<table border=\"1\" class=\"dataframe\">\n",
              "  <thead>\n",
              "    <tr style=\"text-align: right;\">\n",
              "      <th></th>\n",
              "      <th>c1</th>\n",
              "      <th>c2</th>\n",
              "      <th>c3</th>\n",
              "    </tr>\n",
              "  </thead>\n",
              "  <tbody>\n",
              "    <tr>\n",
              "      <th>0</th>\n",
              "      <td>a</td>\n",
              "      <td>1</td>\n",
              "      <td>1</td>\n",
              "    </tr>\n",
              "    <tr>\n",
              "      <th>1</th>\n",
              "      <td>a</td>\n",
              "      <td>1</td>\n",
              "      <td>1</td>\n",
              "    </tr>\n",
              "    <tr>\n",
              "      <th>2</th>\n",
              "      <td>b</td>\n",
              "      <td>1</td>\n",
              "      <td>2</td>\n",
              "    </tr>\n",
              "    <tr>\n",
              "      <th>3</th>\n",
              "      <td>a</td>\n",
              "      <td>2</td>\n",
              "      <td>2</td>\n",
              "    </tr>\n",
              "    <tr>\n",
              "      <th>4</th>\n",
              "      <td>b</td>\n",
              "      <td>2</td>\n",
              "      <td>2</td>\n",
              "    </tr>\n",
              "  </tbody>\n",
              "</table>\n",
              "</div>\n",
              "      <button class=\"colab-df-convert\" onclick=\"convertToInteractive('df-489b18e3-d187-4eb9-8c32-7e5823fd83af')\"\n",
              "              title=\"Convert this dataframe to an interactive table.\"\n",
              "              style=\"display:none;\">\n",
              "        \n",
              "  <svg xmlns=\"http://www.w3.org/2000/svg\" height=\"24px\"viewBox=\"0 0 24 24\"\n",
              "       width=\"24px\">\n",
              "    <path d=\"M0 0h24v24H0V0z\" fill=\"none\"/>\n",
              "    <path d=\"M18.56 5.44l.94 2.06.94-2.06 2.06-.94-2.06-.94-.94-2.06-.94 2.06-2.06.94zm-11 1L8.5 8.5l.94-2.06 2.06-.94-2.06-.94L8.5 2.5l-.94 2.06-2.06.94zm10 10l.94 2.06.94-2.06 2.06-.94-2.06-.94-.94-2.06-.94 2.06-2.06.94z\"/><path d=\"M17.41 7.96l-1.37-1.37c-.4-.4-.92-.59-1.43-.59-.52 0-1.04.2-1.43.59L10.3 9.45l-7.72 7.72c-.78.78-.78 2.05 0 2.83L4 21.41c.39.39.9.59 1.41.59.51 0 1.02-.2 1.41-.59l7.78-7.78 2.81-2.81c.8-.78.8-2.07 0-2.86zM5.41 20L4 18.59l7.72-7.72 1.47 1.35L5.41 20z\"/>\n",
              "  </svg>\n",
              "      </button>\n",
              "      \n",
              "  <style>\n",
              "    .colab-df-container {\n",
              "      display:flex;\n",
              "      flex-wrap:wrap;\n",
              "      gap: 12px;\n",
              "    }\n",
              "\n",
              "    .colab-df-convert {\n",
              "      background-color: #E8F0FE;\n",
              "      border: none;\n",
              "      border-radius: 50%;\n",
              "      cursor: pointer;\n",
              "      display: none;\n",
              "      fill: #1967D2;\n",
              "      height: 32px;\n",
              "      padding: 0 0 0 0;\n",
              "      width: 32px;\n",
              "    }\n",
              "\n",
              "    .colab-df-convert:hover {\n",
              "      background-color: #E2EBFA;\n",
              "      box-shadow: 0px 1px 2px rgba(60, 64, 67, 0.3), 0px 1px 3px 1px rgba(60, 64, 67, 0.15);\n",
              "      fill: #174EA6;\n",
              "    }\n",
              "\n",
              "    [theme=dark] .colab-df-convert {\n",
              "      background-color: #3B4455;\n",
              "      fill: #D2E3FC;\n",
              "    }\n",
              "\n",
              "    [theme=dark] .colab-df-convert:hover {\n",
              "      background-color: #434B5C;\n",
              "      box-shadow: 0px 1px 3px 1px rgba(0, 0, 0, 0.15);\n",
              "      filter: drop-shadow(0px 1px 2px rgba(0, 0, 0, 0.3));\n",
              "      fill: #FFFFFF;\n",
              "    }\n",
              "  </style>\n",
              "\n",
              "      <script>\n",
              "        const buttonEl =\n",
              "          document.querySelector('#df-489b18e3-d187-4eb9-8c32-7e5823fd83af button.colab-df-convert');\n",
              "        buttonEl.style.display =\n",
              "          google.colab.kernel.accessAllowed ? 'block' : 'none';\n",
              "\n",
              "        async function convertToInteractive(key) {\n",
              "          const element = document.querySelector('#df-489b18e3-d187-4eb9-8c32-7e5823fd83af');\n",
              "          const dataTable =\n",
              "            await google.colab.kernel.invokeFunction('convertToInteractive',\n",
              "                                                     [key], {});\n",
              "          if (!dataTable) return;\n",
              "\n",
              "          const docLinkHtml = 'Like what you see? Visit the ' +\n",
              "            '<a target=\"_blank\" href=https://colab.research.google.com/notebooks/data_table.ipynb>data table notebook</a>'\n",
              "            + ' to learn more about interactive tables.';\n",
              "          element.innerHTML = '';\n",
              "          dataTable['output_type'] = 'display_data';\n",
              "          await google.colab.output.renderOutput(dataTable, element);\n",
              "          const docLink = document.createElement('div');\n",
              "          docLink.innerHTML = docLinkHtml;\n",
              "          element.appendChild(docLink);\n",
              "        }\n",
              "      </script>\n",
              "    </div>\n",
              "  </div>\n",
              "  "
            ]
          },
          "metadata": {},
          "execution_count": 177
        }
      ]
    },
    {
      "cell_type": "code",
      "source": [
        "#데이터 프레임 전체행에서 중복값 찾기\n",
        "df.duplicated()"
      ],
      "metadata": {
        "colab": {
          "base_uri": "https://localhost:8080/"
        },
        "id": "b12xGvkmnM7m",
        "outputId": "85206c9e-72a2-4475-d5d2-d9ebdf6287d7"
      },
      "execution_count": null,
      "outputs": [
        {
          "output_type": "execute_result",
          "data": {
            "text/plain": [
              "0    False\n",
              "1     True\n",
              "2    False\n",
              "3    False\n",
              "4    False\n",
              "dtype: bool"
            ]
          },
          "metadata": {},
          "execution_count": 24
        }
      ]
    },
    {
      "cell_type": "code",
      "source": [
        "# c2열에서 중복값 찾기\n",
        "df.c2.duplicated()"
      ],
      "metadata": {
        "colab": {
          "base_uri": "https://localhost:8080/"
        },
        "id": "tlhqWPvInM-c",
        "outputId": "5c4a7614-f105-4167-9e00-a5460ee1e993"
      },
      "execution_count": null,
      "outputs": [
        {
          "output_type": "execute_result",
          "data": {
            "text/plain": [
              "0    False\n",
              "1     True\n",
              "2     True\n",
              "3    False\n",
              "4     True\n",
              "Name: c2, dtype: bool"
            ]
          },
          "metadata": {},
          "execution_count": 25
        }
      ]
    },
    {
      "cell_type": "markdown",
      "source": [
        "* 중복 데이터 제거"
      ],
      "metadata": {
        "id": "D8SKgmvbATpJ"
      }
    },
    {
      "cell_type": "code",
      "source": [
        "#중복된 행을 제거하고 고유한 관측값을 가진 행들만 보존 : drop_duplicates()\n",
        "#데이터 프래임에서 중복 행을 제거\n",
        "df.drop_duplicates()"
      ],
      "metadata": {
        "colab": {
          "base_uri": "https://localhost:8080/",
          "height": 175
        },
        "id": "ePF4DExuqI11",
        "outputId": "c52a5aa8-9a65-4177-a595-04466e99798b"
      },
      "execution_count": null,
      "outputs": [
        {
          "output_type": "execute_result",
          "data": {
            "text/plain": [
              "  c1  c2  c3\n",
              "0  a   1   1\n",
              "2  b   1   2\n",
              "3  a   2   2\n",
              "4  b   2   2"
            ],
            "text/html": [
              "\n",
              "  <div id=\"df-582b3f4f-8515-4f5b-a354-4637434902d6\">\n",
              "    <div class=\"colab-df-container\">\n",
              "      <div>\n",
              "<style scoped>\n",
              "    .dataframe tbody tr th:only-of-type {\n",
              "        vertical-align: middle;\n",
              "    }\n",
              "\n",
              "    .dataframe tbody tr th {\n",
              "        vertical-align: top;\n",
              "    }\n",
              "\n",
              "    .dataframe thead th {\n",
              "        text-align: right;\n",
              "    }\n",
              "</style>\n",
              "<table border=\"1\" class=\"dataframe\">\n",
              "  <thead>\n",
              "    <tr style=\"text-align: right;\">\n",
              "      <th></th>\n",
              "      <th>c1</th>\n",
              "      <th>c2</th>\n",
              "      <th>c3</th>\n",
              "    </tr>\n",
              "  </thead>\n",
              "  <tbody>\n",
              "    <tr>\n",
              "      <th>0</th>\n",
              "      <td>a</td>\n",
              "      <td>1</td>\n",
              "      <td>1</td>\n",
              "    </tr>\n",
              "    <tr>\n",
              "      <th>2</th>\n",
              "      <td>b</td>\n",
              "      <td>1</td>\n",
              "      <td>2</td>\n",
              "    </tr>\n",
              "    <tr>\n",
              "      <th>3</th>\n",
              "      <td>a</td>\n",
              "      <td>2</td>\n",
              "      <td>2</td>\n",
              "    </tr>\n",
              "    <tr>\n",
              "      <th>4</th>\n",
              "      <td>b</td>\n",
              "      <td>2</td>\n",
              "      <td>2</td>\n",
              "    </tr>\n",
              "  </tbody>\n",
              "</table>\n",
              "</div>\n",
              "      <button class=\"colab-df-convert\" onclick=\"convertToInteractive('df-582b3f4f-8515-4f5b-a354-4637434902d6')\"\n",
              "              title=\"Convert this dataframe to an interactive table.\"\n",
              "              style=\"display:none;\">\n",
              "        \n",
              "  <svg xmlns=\"http://www.w3.org/2000/svg\" height=\"24px\"viewBox=\"0 0 24 24\"\n",
              "       width=\"24px\">\n",
              "    <path d=\"M0 0h24v24H0V0z\" fill=\"none\"/>\n",
              "    <path d=\"M18.56 5.44l.94 2.06.94-2.06 2.06-.94-2.06-.94-.94-2.06-.94 2.06-2.06.94zm-11 1L8.5 8.5l.94-2.06 2.06-.94-2.06-.94L8.5 2.5l-.94 2.06-2.06.94zm10 10l.94 2.06.94-2.06 2.06-.94-2.06-.94-.94-2.06-.94 2.06-2.06.94z\"/><path d=\"M17.41 7.96l-1.37-1.37c-.4-.4-.92-.59-1.43-.59-.52 0-1.04.2-1.43.59L10.3 9.45l-7.72 7.72c-.78.78-.78 2.05 0 2.83L4 21.41c.39.39.9.59 1.41.59.51 0 1.02-.2 1.41-.59l7.78-7.78 2.81-2.81c.8-.78.8-2.07 0-2.86zM5.41 20L4 18.59l7.72-7.72 1.47 1.35L5.41 20z\"/>\n",
              "  </svg>\n",
              "      </button>\n",
              "      \n",
              "  <style>\n",
              "    .colab-df-container {\n",
              "      display:flex;\n",
              "      flex-wrap:wrap;\n",
              "      gap: 12px;\n",
              "    }\n",
              "\n",
              "    .colab-df-convert {\n",
              "      background-color: #E8F0FE;\n",
              "      border: none;\n",
              "      border-radius: 50%;\n",
              "      cursor: pointer;\n",
              "      display: none;\n",
              "      fill: #1967D2;\n",
              "      height: 32px;\n",
              "      padding: 0 0 0 0;\n",
              "      width: 32px;\n",
              "    }\n",
              "\n",
              "    .colab-df-convert:hover {\n",
              "      background-color: #E2EBFA;\n",
              "      box-shadow: 0px 1px 2px rgba(60, 64, 67, 0.3), 0px 1px 3px 1px rgba(60, 64, 67, 0.15);\n",
              "      fill: #174EA6;\n",
              "    }\n",
              "\n",
              "    [theme=dark] .colab-df-convert {\n",
              "      background-color: #3B4455;\n",
              "      fill: #D2E3FC;\n",
              "    }\n",
              "\n",
              "    [theme=dark] .colab-df-convert:hover {\n",
              "      background-color: #434B5C;\n",
              "      box-shadow: 0px 1px 3px 1px rgba(0, 0, 0, 0.15);\n",
              "      filter: drop-shadow(0px 1px 2px rgba(0, 0, 0, 0.3));\n",
              "      fill: #FFFFFF;\n",
              "    }\n",
              "  </style>\n",
              "\n",
              "      <script>\n",
              "        const buttonEl =\n",
              "          document.querySelector('#df-582b3f4f-8515-4f5b-a354-4637434902d6 button.colab-df-convert');\n",
              "        buttonEl.style.display =\n",
              "          google.colab.kernel.accessAllowed ? 'block' : 'none';\n",
              "\n",
              "        async function convertToInteractive(key) {\n",
              "          const element = document.querySelector('#df-582b3f4f-8515-4f5b-a354-4637434902d6');\n",
              "          const dataTable =\n",
              "            await google.colab.kernel.invokeFunction('convertToInteractive',\n",
              "                                                     [key], {});\n",
              "          if (!dataTable) return;\n",
              "\n",
              "          const docLinkHtml = 'Like what you see? Visit the ' +\n",
              "            '<a target=\"_blank\" href=https://colab.research.google.com/notebooks/data_table.ipynb>data table notebook</a>'\n",
              "            + ' to learn more about interactive tables.';\n",
              "          element.innerHTML = '';\n",
              "          dataTable['output_type'] = 'display_data';\n",
              "          await google.colab.output.renderOutput(dataTable, element);\n",
              "          const docLink = document.createElement('div');\n",
              "          docLink.innerHTML = docLinkHtml;\n",
              "          element.appendChild(docLink);\n",
              "        }\n",
              "      </script>\n",
              "    </div>\n",
              "  </div>\n",
              "  "
            ]
          },
          "metadata": {},
          "execution_count": 26
        }
      ]
    },
    {
      "cell_type": "code",
      "source": [
        "# c2,c3 열을 기준으로 중복 행을 제거(subset 옵션)\n",
        "df.drop_duplicates(subset=['c2', 'c3'])"
      ],
      "metadata": {
        "colab": {
          "base_uri": "https://localhost:8080/",
          "height": 143
        },
        "id": "s2q1Dg3bqI4L",
        "outputId": "a50c5eb4-deb7-4fda-82cb-c5a989d9a909"
      },
      "execution_count": null,
      "outputs": [
        {
          "output_type": "execute_result",
          "data": {
            "text/plain": [
              "  c1  c2  c3\n",
              "0  a   1   1\n",
              "2  b   1   2\n",
              "3  a   2   2"
            ],
            "text/html": [
              "\n",
              "  <div id=\"df-ba091d27-f64f-48da-88e6-8f1e4abbf1d6\">\n",
              "    <div class=\"colab-df-container\">\n",
              "      <div>\n",
              "<style scoped>\n",
              "    .dataframe tbody tr th:only-of-type {\n",
              "        vertical-align: middle;\n",
              "    }\n",
              "\n",
              "    .dataframe tbody tr th {\n",
              "        vertical-align: top;\n",
              "    }\n",
              "\n",
              "    .dataframe thead th {\n",
              "        text-align: right;\n",
              "    }\n",
              "</style>\n",
              "<table border=\"1\" class=\"dataframe\">\n",
              "  <thead>\n",
              "    <tr style=\"text-align: right;\">\n",
              "      <th></th>\n",
              "      <th>c1</th>\n",
              "      <th>c2</th>\n",
              "      <th>c3</th>\n",
              "    </tr>\n",
              "  </thead>\n",
              "  <tbody>\n",
              "    <tr>\n",
              "      <th>0</th>\n",
              "      <td>a</td>\n",
              "      <td>1</td>\n",
              "      <td>1</td>\n",
              "    </tr>\n",
              "    <tr>\n",
              "      <th>2</th>\n",
              "      <td>b</td>\n",
              "      <td>1</td>\n",
              "      <td>2</td>\n",
              "    </tr>\n",
              "    <tr>\n",
              "      <th>3</th>\n",
              "      <td>a</td>\n",
              "      <td>2</td>\n",
              "      <td>2</td>\n",
              "    </tr>\n",
              "  </tbody>\n",
              "</table>\n",
              "</div>\n",
              "      <button class=\"colab-df-convert\" onclick=\"convertToInteractive('df-ba091d27-f64f-48da-88e6-8f1e4abbf1d6')\"\n",
              "              title=\"Convert this dataframe to an interactive table.\"\n",
              "              style=\"display:none;\">\n",
              "        \n",
              "  <svg xmlns=\"http://www.w3.org/2000/svg\" height=\"24px\"viewBox=\"0 0 24 24\"\n",
              "       width=\"24px\">\n",
              "    <path d=\"M0 0h24v24H0V0z\" fill=\"none\"/>\n",
              "    <path d=\"M18.56 5.44l.94 2.06.94-2.06 2.06-.94-2.06-.94-.94-2.06-.94 2.06-2.06.94zm-11 1L8.5 8.5l.94-2.06 2.06-.94-2.06-.94L8.5 2.5l-.94 2.06-2.06.94zm10 10l.94 2.06.94-2.06 2.06-.94-2.06-.94-.94-2.06-.94 2.06-2.06.94z\"/><path d=\"M17.41 7.96l-1.37-1.37c-.4-.4-.92-.59-1.43-.59-.52 0-1.04.2-1.43.59L10.3 9.45l-7.72 7.72c-.78.78-.78 2.05 0 2.83L4 21.41c.39.39.9.59 1.41.59.51 0 1.02-.2 1.41-.59l7.78-7.78 2.81-2.81c.8-.78.8-2.07 0-2.86zM5.41 20L4 18.59l7.72-7.72 1.47 1.35L5.41 20z\"/>\n",
              "  </svg>\n",
              "      </button>\n",
              "      \n",
              "  <style>\n",
              "    .colab-df-container {\n",
              "      display:flex;\n",
              "      flex-wrap:wrap;\n",
              "      gap: 12px;\n",
              "    }\n",
              "\n",
              "    .colab-df-convert {\n",
              "      background-color: #E8F0FE;\n",
              "      border: none;\n",
              "      border-radius: 50%;\n",
              "      cursor: pointer;\n",
              "      display: none;\n",
              "      fill: #1967D2;\n",
              "      height: 32px;\n",
              "      padding: 0 0 0 0;\n",
              "      width: 32px;\n",
              "    }\n",
              "\n",
              "    .colab-df-convert:hover {\n",
              "      background-color: #E2EBFA;\n",
              "      box-shadow: 0px 1px 2px rgba(60, 64, 67, 0.3), 0px 1px 3px 1px rgba(60, 64, 67, 0.15);\n",
              "      fill: #174EA6;\n",
              "    }\n",
              "\n",
              "    [theme=dark] .colab-df-convert {\n",
              "      background-color: #3B4455;\n",
              "      fill: #D2E3FC;\n",
              "    }\n",
              "\n",
              "    [theme=dark] .colab-df-convert:hover {\n",
              "      background-color: #434B5C;\n",
              "      box-shadow: 0px 1px 3px 1px rgba(0, 0, 0, 0.15);\n",
              "      filter: drop-shadow(0px 1px 2px rgba(0, 0, 0, 0.3));\n",
              "      fill: #FFFFFF;\n",
              "    }\n",
              "  </style>\n",
              "\n",
              "      <script>\n",
              "        const buttonEl =\n",
              "          document.querySelector('#df-ba091d27-f64f-48da-88e6-8f1e4abbf1d6 button.colab-df-convert');\n",
              "        buttonEl.style.display =\n",
              "          google.colab.kernel.accessAllowed ? 'block' : 'none';\n",
              "\n",
              "        async function convertToInteractive(key) {\n",
              "          const element = document.querySelector('#df-ba091d27-f64f-48da-88e6-8f1e4abbf1d6');\n",
              "          const dataTable =\n",
              "            await google.colab.kernel.invokeFunction('convertToInteractive',\n",
              "                                                     [key], {});\n",
              "          if (!dataTable) return;\n",
              "\n",
              "          const docLinkHtml = 'Like what you see? Visit the ' +\n",
              "            '<a target=\"_blank\" href=https://colab.research.google.com/notebooks/data_table.ipynb>data table notebook</a>'\n",
              "            + ' to learn more about interactive tables.';\n",
              "          element.innerHTML = '';\n",
              "          dataTable['output_type'] = 'display_data';\n",
              "          await google.colab.output.renderOutput(dataTable, element);\n",
              "          const docLink = document.createElement('div');\n",
              "          docLink.innerHTML = docLinkHtml;\n",
              "          element.appendChild(docLink);\n",
              "        }\n",
              "      </script>\n",
              "    </div>\n",
              "  </div>\n",
              "  "
            ]
          },
          "metadata": {},
          "execution_count": 27
        }
      ]
    },
    {
      "cell_type": "markdown",
      "source": [
        "# 데이터 표준화"
      ],
      "metadata": {
        "id": "J_KxP1LYsajm"
      }
    },
    {
      "cell_type": "markdown",
      "source": [
        "## 단위 변경"
      ],
      "metadata": {
        "id": "I3vWWtv4gGOP"
      }
    },
    {
      "cell_type": "markdown",
      "source": [
        "* 같은 데이터셋에서 서로 다른 측정 단위 사용 시 전체 데이터의 일관성 측면에서 문제 발생\n",
        "* 측정 단위를 동일하게 맞출 필요\n",
        "* 외국 데이터를 가져오면 국내에서 잘 사용하지 않는 도량형 단위 많이 사용\n",
        "* 영미권의 마일드, 야드, 온스 등은 한국의 미터, 평, 그램 등으로 변환"
      ],
      "metadata": {
        "id": "iIqgOVVJsdP2"
      }
    },
    {
      "cell_type": "code",
      "source": [
        "# mpg 데이터프래임의 mpg(mile per gallon)을 kpl(kilometer per liter)로 변환\n",
        "df = pd.read_csv('/content/drive/MyDrive/ Encore Prac/auto-mpg.csv', header=None)\n",
        "df"
      ],
      "metadata": {
        "id": "PfqhJqourvCd",
        "colab": {
          "base_uri": "https://localhost:8080/",
          "height": 424
        },
        "outputId": "be5d2b97-1d27-4ae1-a30b-ce6ce7bcd998"
      },
      "execution_count": null,
      "outputs": [
        {
          "output_type": "execute_result",
          "data": {
            "text/plain": [
              "        0  1      2      3       4     5   6  7                          8\n",
              "0    18.0  8  307.0  130.0  3504.0  12.0  70  1  chevrolet chevelle malibu\n",
              "1    15.0  8  350.0  165.0  3693.0  11.5  70  1          buick skylark 320\n",
              "2    18.0  8  318.0  150.0  3436.0  11.0  70  1         plymouth satellite\n",
              "3    16.0  8  304.0  150.0  3433.0  12.0  70  1              amc rebel sst\n",
              "4    17.0  8  302.0  140.0  3449.0  10.5  70  1                ford torino\n",
              "..    ... ..    ...    ...     ...   ...  .. ..                        ...\n",
              "393  27.0  4  140.0  86.00  2790.0  15.6  82  1            ford mustang gl\n",
              "394  44.0  4   97.0  52.00  2130.0  24.6  82  2                  vw pickup\n",
              "395  32.0  4  135.0  84.00  2295.0  11.6  82  1              dodge rampage\n",
              "396  28.0  4  120.0  79.00  2625.0  18.6  82  1                ford ranger\n",
              "397  31.0  4  119.0  82.00  2720.0  19.4  82  1                 chevy s-10\n",
              "\n",
              "[398 rows x 9 columns]"
            ],
            "text/html": [
              "\n",
              "  <div id=\"df-b7b2cdd7-97aa-496a-9257-f3e059ea779d\">\n",
              "    <div class=\"colab-df-container\">\n",
              "      <div>\n",
              "<style scoped>\n",
              "    .dataframe tbody tr th:only-of-type {\n",
              "        vertical-align: middle;\n",
              "    }\n",
              "\n",
              "    .dataframe tbody tr th {\n",
              "        vertical-align: top;\n",
              "    }\n",
              "\n",
              "    .dataframe thead th {\n",
              "        text-align: right;\n",
              "    }\n",
              "</style>\n",
              "<table border=\"1\" class=\"dataframe\">\n",
              "  <thead>\n",
              "    <tr style=\"text-align: right;\">\n",
              "      <th></th>\n",
              "      <th>0</th>\n",
              "      <th>1</th>\n",
              "      <th>2</th>\n",
              "      <th>3</th>\n",
              "      <th>4</th>\n",
              "      <th>5</th>\n",
              "      <th>6</th>\n",
              "      <th>7</th>\n",
              "      <th>8</th>\n",
              "    </tr>\n",
              "  </thead>\n",
              "  <tbody>\n",
              "    <tr>\n",
              "      <th>0</th>\n",
              "      <td>18.0</td>\n",
              "      <td>8</td>\n",
              "      <td>307.0</td>\n",
              "      <td>130.0</td>\n",
              "      <td>3504.0</td>\n",
              "      <td>12.0</td>\n",
              "      <td>70</td>\n",
              "      <td>1</td>\n",
              "      <td>chevrolet chevelle malibu</td>\n",
              "    </tr>\n",
              "    <tr>\n",
              "      <th>1</th>\n",
              "      <td>15.0</td>\n",
              "      <td>8</td>\n",
              "      <td>350.0</td>\n",
              "      <td>165.0</td>\n",
              "      <td>3693.0</td>\n",
              "      <td>11.5</td>\n",
              "      <td>70</td>\n",
              "      <td>1</td>\n",
              "      <td>buick skylark 320</td>\n",
              "    </tr>\n",
              "    <tr>\n",
              "      <th>2</th>\n",
              "      <td>18.0</td>\n",
              "      <td>8</td>\n",
              "      <td>318.0</td>\n",
              "      <td>150.0</td>\n",
              "      <td>3436.0</td>\n",
              "      <td>11.0</td>\n",
              "      <td>70</td>\n",
              "      <td>1</td>\n",
              "      <td>plymouth satellite</td>\n",
              "    </tr>\n",
              "    <tr>\n",
              "      <th>3</th>\n",
              "      <td>16.0</td>\n",
              "      <td>8</td>\n",
              "      <td>304.0</td>\n",
              "      <td>150.0</td>\n",
              "      <td>3433.0</td>\n",
              "      <td>12.0</td>\n",
              "      <td>70</td>\n",
              "      <td>1</td>\n",
              "      <td>amc rebel sst</td>\n",
              "    </tr>\n",
              "    <tr>\n",
              "      <th>4</th>\n",
              "      <td>17.0</td>\n",
              "      <td>8</td>\n",
              "      <td>302.0</td>\n",
              "      <td>140.0</td>\n",
              "      <td>3449.0</td>\n",
              "      <td>10.5</td>\n",
              "      <td>70</td>\n",
              "      <td>1</td>\n",
              "      <td>ford torino</td>\n",
              "    </tr>\n",
              "    <tr>\n",
              "      <th>...</th>\n",
              "      <td>...</td>\n",
              "      <td>...</td>\n",
              "      <td>...</td>\n",
              "      <td>...</td>\n",
              "      <td>...</td>\n",
              "      <td>...</td>\n",
              "      <td>...</td>\n",
              "      <td>...</td>\n",
              "      <td>...</td>\n",
              "    </tr>\n",
              "    <tr>\n",
              "      <th>393</th>\n",
              "      <td>27.0</td>\n",
              "      <td>4</td>\n",
              "      <td>140.0</td>\n",
              "      <td>86.00</td>\n",
              "      <td>2790.0</td>\n",
              "      <td>15.6</td>\n",
              "      <td>82</td>\n",
              "      <td>1</td>\n",
              "      <td>ford mustang gl</td>\n",
              "    </tr>\n",
              "    <tr>\n",
              "      <th>394</th>\n",
              "      <td>44.0</td>\n",
              "      <td>4</td>\n",
              "      <td>97.0</td>\n",
              "      <td>52.00</td>\n",
              "      <td>2130.0</td>\n",
              "      <td>24.6</td>\n",
              "      <td>82</td>\n",
              "      <td>2</td>\n",
              "      <td>vw pickup</td>\n",
              "    </tr>\n",
              "    <tr>\n",
              "      <th>395</th>\n",
              "      <td>32.0</td>\n",
              "      <td>4</td>\n",
              "      <td>135.0</td>\n",
              "      <td>84.00</td>\n",
              "      <td>2295.0</td>\n",
              "      <td>11.6</td>\n",
              "      <td>82</td>\n",
              "      <td>1</td>\n",
              "      <td>dodge rampage</td>\n",
              "    </tr>\n",
              "    <tr>\n",
              "      <th>396</th>\n",
              "      <td>28.0</td>\n",
              "      <td>4</td>\n",
              "      <td>120.0</td>\n",
              "      <td>79.00</td>\n",
              "      <td>2625.0</td>\n",
              "      <td>18.6</td>\n",
              "      <td>82</td>\n",
              "      <td>1</td>\n",
              "      <td>ford ranger</td>\n",
              "    </tr>\n",
              "    <tr>\n",
              "      <th>397</th>\n",
              "      <td>31.0</td>\n",
              "      <td>4</td>\n",
              "      <td>119.0</td>\n",
              "      <td>82.00</td>\n",
              "      <td>2720.0</td>\n",
              "      <td>19.4</td>\n",
              "      <td>82</td>\n",
              "      <td>1</td>\n",
              "      <td>chevy s-10</td>\n",
              "    </tr>\n",
              "  </tbody>\n",
              "</table>\n",
              "<p>398 rows × 9 columns</p>\n",
              "</div>\n",
              "      <button class=\"colab-df-convert\" onclick=\"convertToInteractive('df-b7b2cdd7-97aa-496a-9257-f3e059ea779d')\"\n",
              "              title=\"Convert this dataframe to an interactive table.\"\n",
              "              style=\"display:none;\">\n",
              "        \n",
              "  <svg xmlns=\"http://www.w3.org/2000/svg\" height=\"24px\"viewBox=\"0 0 24 24\"\n",
              "       width=\"24px\">\n",
              "    <path d=\"M0 0h24v24H0V0z\" fill=\"none\"/>\n",
              "    <path d=\"M18.56 5.44l.94 2.06.94-2.06 2.06-.94-2.06-.94-.94-2.06-.94 2.06-2.06.94zm-11 1L8.5 8.5l.94-2.06 2.06-.94-2.06-.94L8.5 2.5l-.94 2.06-2.06.94zm10 10l.94 2.06.94-2.06 2.06-.94-2.06-.94-.94-2.06-.94 2.06-2.06.94z\"/><path d=\"M17.41 7.96l-1.37-1.37c-.4-.4-.92-.59-1.43-.59-.52 0-1.04.2-1.43.59L10.3 9.45l-7.72 7.72c-.78.78-.78 2.05 0 2.83L4 21.41c.39.39.9.59 1.41.59.51 0 1.02-.2 1.41-.59l7.78-7.78 2.81-2.81c.8-.78.8-2.07 0-2.86zM5.41 20L4 18.59l7.72-7.72 1.47 1.35L5.41 20z\"/>\n",
              "  </svg>\n",
              "      </button>\n",
              "      \n",
              "  <style>\n",
              "    .colab-df-container {\n",
              "      display:flex;\n",
              "      flex-wrap:wrap;\n",
              "      gap: 12px;\n",
              "    }\n",
              "\n",
              "    .colab-df-convert {\n",
              "      background-color: #E8F0FE;\n",
              "      border: none;\n",
              "      border-radius: 50%;\n",
              "      cursor: pointer;\n",
              "      display: none;\n",
              "      fill: #1967D2;\n",
              "      height: 32px;\n",
              "      padding: 0 0 0 0;\n",
              "      width: 32px;\n",
              "    }\n",
              "\n",
              "    .colab-df-convert:hover {\n",
              "      background-color: #E2EBFA;\n",
              "      box-shadow: 0px 1px 2px rgba(60, 64, 67, 0.3), 0px 1px 3px 1px rgba(60, 64, 67, 0.15);\n",
              "      fill: #174EA6;\n",
              "    }\n",
              "\n",
              "    [theme=dark] .colab-df-convert {\n",
              "      background-color: #3B4455;\n",
              "      fill: #D2E3FC;\n",
              "    }\n",
              "\n",
              "    [theme=dark] .colab-df-convert:hover {\n",
              "      background-color: #434B5C;\n",
              "      box-shadow: 0px 1px 3px 1px rgba(0, 0, 0, 0.15);\n",
              "      filter: drop-shadow(0px 1px 2px rgba(0, 0, 0, 0.3));\n",
              "      fill: #FFFFFF;\n",
              "    }\n",
              "  </style>\n",
              "\n",
              "      <script>\n",
              "        const buttonEl =\n",
              "          document.querySelector('#df-b7b2cdd7-97aa-496a-9257-f3e059ea779d button.colab-df-convert');\n",
              "        buttonEl.style.display =\n",
              "          google.colab.kernel.accessAllowed ? 'block' : 'none';\n",
              "\n",
              "        async function convertToInteractive(key) {\n",
              "          const element = document.querySelector('#df-b7b2cdd7-97aa-496a-9257-f3e059ea779d');\n",
              "          const dataTable =\n",
              "            await google.colab.kernel.invokeFunction('convertToInteractive',\n",
              "                                                     [key], {});\n",
              "          if (!dataTable) return;\n",
              "\n",
              "          const docLinkHtml = 'Like what you see? Visit the ' +\n",
              "            '<a target=\"_blank\" href=https://colab.research.google.com/notebooks/data_table.ipynb>data table notebook</a>'\n",
              "            + ' to learn more about interactive tables.';\n",
              "          element.innerHTML = '';\n",
              "          dataTable['output_type'] = 'display_data';\n",
              "          await google.colab.output.renderOutput(dataTable, element);\n",
              "          const docLink = document.createElement('div');\n",
              "          docLink.innerHTML = docLinkHtml;\n",
              "          element.appendChild(docLink);\n",
              "        }\n",
              "      </script>\n",
              "    </div>\n",
              "  </div>\n",
              "  "
            ]
          },
          "metadata": {},
          "execution_count": 28
        }
      ]
    },
    {
      "cell_type": "code",
      "source": [
        "# 데이터 프레임 열 이름 변경\n",
        "df.columns =  ['mpg','cylinders','displacement','horsepower','weight','acceleration','model year','origin','name']\n",
        "df"
      ],
      "metadata": {
        "colab": {
          "base_uri": "https://localhost:8080/",
          "height": 424
        },
        "id": "lXxsrHatYNTR",
        "outputId": "9917950a-def0-4f12-9eff-2f106ec756ae"
      },
      "execution_count": null,
      "outputs": [
        {
          "output_type": "execute_result",
          "data": {
            "text/plain": [
              "      mpg  cylinders  displacement horsepower  weight  acceleration  \\\n",
              "0    18.0          8         307.0      130.0  3504.0          12.0   \n",
              "1    15.0          8         350.0      165.0  3693.0          11.5   \n",
              "2    18.0          8         318.0      150.0  3436.0          11.0   \n",
              "3    16.0          8         304.0      150.0  3433.0          12.0   \n",
              "4    17.0          8         302.0      140.0  3449.0          10.5   \n",
              "..    ...        ...           ...        ...     ...           ...   \n",
              "393  27.0          4         140.0      86.00  2790.0          15.6   \n",
              "394  44.0          4          97.0      52.00  2130.0          24.6   \n",
              "395  32.0          4         135.0      84.00  2295.0          11.6   \n",
              "396  28.0          4         120.0      79.00  2625.0          18.6   \n",
              "397  31.0          4         119.0      82.00  2720.0          19.4   \n",
              "\n",
              "     model year  origin                       name  \n",
              "0            70       1  chevrolet chevelle malibu  \n",
              "1            70       1          buick skylark 320  \n",
              "2            70       1         plymouth satellite  \n",
              "3            70       1              amc rebel sst  \n",
              "4            70       1                ford torino  \n",
              "..          ...     ...                        ...  \n",
              "393          82       1            ford mustang gl  \n",
              "394          82       2                  vw pickup  \n",
              "395          82       1              dodge rampage  \n",
              "396          82       1                ford ranger  \n",
              "397          82       1                 chevy s-10  \n",
              "\n",
              "[398 rows x 9 columns]"
            ],
            "text/html": [
              "\n",
              "  <div id=\"df-e01739d4-ca16-46dc-ba6e-89643bfb2cc0\">\n",
              "    <div class=\"colab-df-container\">\n",
              "      <div>\n",
              "<style scoped>\n",
              "    .dataframe tbody tr th:only-of-type {\n",
              "        vertical-align: middle;\n",
              "    }\n",
              "\n",
              "    .dataframe tbody tr th {\n",
              "        vertical-align: top;\n",
              "    }\n",
              "\n",
              "    .dataframe thead th {\n",
              "        text-align: right;\n",
              "    }\n",
              "</style>\n",
              "<table border=\"1\" class=\"dataframe\">\n",
              "  <thead>\n",
              "    <tr style=\"text-align: right;\">\n",
              "      <th></th>\n",
              "      <th>mpg</th>\n",
              "      <th>cylinders</th>\n",
              "      <th>displacement</th>\n",
              "      <th>horsepower</th>\n",
              "      <th>weight</th>\n",
              "      <th>acceleration</th>\n",
              "      <th>model year</th>\n",
              "      <th>origin</th>\n",
              "      <th>name</th>\n",
              "    </tr>\n",
              "  </thead>\n",
              "  <tbody>\n",
              "    <tr>\n",
              "      <th>0</th>\n",
              "      <td>18.0</td>\n",
              "      <td>8</td>\n",
              "      <td>307.0</td>\n",
              "      <td>130.0</td>\n",
              "      <td>3504.0</td>\n",
              "      <td>12.0</td>\n",
              "      <td>70</td>\n",
              "      <td>1</td>\n",
              "      <td>chevrolet chevelle malibu</td>\n",
              "    </tr>\n",
              "    <tr>\n",
              "      <th>1</th>\n",
              "      <td>15.0</td>\n",
              "      <td>8</td>\n",
              "      <td>350.0</td>\n",
              "      <td>165.0</td>\n",
              "      <td>3693.0</td>\n",
              "      <td>11.5</td>\n",
              "      <td>70</td>\n",
              "      <td>1</td>\n",
              "      <td>buick skylark 320</td>\n",
              "    </tr>\n",
              "    <tr>\n",
              "      <th>2</th>\n",
              "      <td>18.0</td>\n",
              "      <td>8</td>\n",
              "      <td>318.0</td>\n",
              "      <td>150.0</td>\n",
              "      <td>3436.0</td>\n",
              "      <td>11.0</td>\n",
              "      <td>70</td>\n",
              "      <td>1</td>\n",
              "      <td>plymouth satellite</td>\n",
              "    </tr>\n",
              "    <tr>\n",
              "      <th>3</th>\n",
              "      <td>16.0</td>\n",
              "      <td>8</td>\n",
              "      <td>304.0</td>\n",
              "      <td>150.0</td>\n",
              "      <td>3433.0</td>\n",
              "      <td>12.0</td>\n",
              "      <td>70</td>\n",
              "      <td>1</td>\n",
              "      <td>amc rebel sst</td>\n",
              "    </tr>\n",
              "    <tr>\n",
              "      <th>4</th>\n",
              "      <td>17.0</td>\n",
              "      <td>8</td>\n",
              "      <td>302.0</td>\n",
              "      <td>140.0</td>\n",
              "      <td>3449.0</td>\n",
              "      <td>10.5</td>\n",
              "      <td>70</td>\n",
              "      <td>1</td>\n",
              "      <td>ford torino</td>\n",
              "    </tr>\n",
              "    <tr>\n",
              "      <th>...</th>\n",
              "      <td>...</td>\n",
              "      <td>...</td>\n",
              "      <td>...</td>\n",
              "      <td>...</td>\n",
              "      <td>...</td>\n",
              "      <td>...</td>\n",
              "      <td>...</td>\n",
              "      <td>...</td>\n",
              "      <td>...</td>\n",
              "    </tr>\n",
              "    <tr>\n",
              "      <th>393</th>\n",
              "      <td>27.0</td>\n",
              "      <td>4</td>\n",
              "      <td>140.0</td>\n",
              "      <td>86.00</td>\n",
              "      <td>2790.0</td>\n",
              "      <td>15.6</td>\n",
              "      <td>82</td>\n",
              "      <td>1</td>\n",
              "      <td>ford mustang gl</td>\n",
              "    </tr>\n",
              "    <tr>\n",
              "      <th>394</th>\n",
              "      <td>44.0</td>\n",
              "      <td>4</td>\n",
              "      <td>97.0</td>\n",
              "      <td>52.00</td>\n",
              "      <td>2130.0</td>\n",
              "      <td>24.6</td>\n",
              "      <td>82</td>\n",
              "      <td>2</td>\n",
              "      <td>vw pickup</td>\n",
              "    </tr>\n",
              "    <tr>\n",
              "      <th>395</th>\n",
              "      <td>32.0</td>\n",
              "      <td>4</td>\n",
              "      <td>135.0</td>\n",
              "      <td>84.00</td>\n",
              "      <td>2295.0</td>\n",
              "      <td>11.6</td>\n",
              "      <td>82</td>\n",
              "      <td>1</td>\n",
              "      <td>dodge rampage</td>\n",
              "    </tr>\n",
              "    <tr>\n",
              "      <th>396</th>\n",
              "      <td>28.0</td>\n",
              "      <td>4</td>\n",
              "      <td>120.0</td>\n",
              "      <td>79.00</td>\n",
              "      <td>2625.0</td>\n",
              "      <td>18.6</td>\n",
              "      <td>82</td>\n",
              "      <td>1</td>\n",
              "      <td>ford ranger</td>\n",
              "    </tr>\n",
              "    <tr>\n",
              "      <th>397</th>\n",
              "      <td>31.0</td>\n",
              "      <td>4</td>\n",
              "      <td>119.0</td>\n",
              "      <td>82.00</td>\n",
              "      <td>2720.0</td>\n",
              "      <td>19.4</td>\n",
              "      <td>82</td>\n",
              "      <td>1</td>\n",
              "      <td>chevy s-10</td>\n",
              "    </tr>\n",
              "  </tbody>\n",
              "</table>\n",
              "<p>398 rows × 9 columns</p>\n",
              "</div>\n",
              "      <button class=\"colab-df-convert\" onclick=\"convertToInteractive('df-e01739d4-ca16-46dc-ba6e-89643bfb2cc0')\"\n",
              "              title=\"Convert this dataframe to an interactive table.\"\n",
              "              style=\"display:none;\">\n",
              "        \n",
              "  <svg xmlns=\"http://www.w3.org/2000/svg\" height=\"24px\"viewBox=\"0 0 24 24\"\n",
              "       width=\"24px\">\n",
              "    <path d=\"M0 0h24v24H0V0z\" fill=\"none\"/>\n",
              "    <path d=\"M18.56 5.44l.94 2.06.94-2.06 2.06-.94-2.06-.94-.94-2.06-.94 2.06-2.06.94zm-11 1L8.5 8.5l.94-2.06 2.06-.94-2.06-.94L8.5 2.5l-.94 2.06-2.06.94zm10 10l.94 2.06.94-2.06 2.06-.94-2.06-.94-.94-2.06-.94 2.06-2.06.94z\"/><path d=\"M17.41 7.96l-1.37-1.37c-.4-.4-.92-.59-1.43-.59-.52 0-1.04.2-1.43.59L10.3 9.45l-7.72 7.72c-.78.78-.78 2.05 0 2.83L4 21.41c.39.39.9.59 1.41.59.51 0 1.02-.2 1.41-.59l7.78-7.78 2.81-2.81c.8-.78.8-2.07 0-2.86zM5.41 20L4 18.59l7.72-7.72 1.47 1.35L5.41 20z\"/>\n",
              "  </svg>\n",
              "      </button>\n",
              "      \n",
              "  <style>\n",
              "    .colab-df-container {\n",
              "      display:flex;\n",
              "      flex-wrap:wrap;\n",
              "      gap: 12px;\n",
              "    }\n",
              "\n",
              "    .colab-df-convert {\n",
              "      background-color: #E8F0FE;\n",
              "      border: none;\n",
              "      border-radius: 50%;\n",
              "      cursor: pointer;\n",
              "      display: none;\n",
              "      fill: #1967D2;\n",
              "      height: 32px;\n",
              "      padding: 0 0 0 0;\n",
              "      width: 32px;\n",
              "    }\n",
              "\n",
              "    .colab-df-convert:hover {\n",
              "      background-color: #E2EBFA;\n",
              "      box-shadow: 0px 1px 2px rgba(60, 64, 67, 0.3), 0px 1px 3px 1px rgba(60, 64, 67, 0.15);\n",
              "      fill: #174EA6;\n",
              "    }\n",
              "\n",
              "    [theme=dark] .colab-df-convert {\n",
              "      background-color: #3B4455;\n",
              "      fill: #D2E3FC;\n",
              "    }\n",
              "\n",
              "    [theme=dark] .colab-df-convert:hover {\n",
              "      background-color: #434B5C;\n",
              "      box-shadow: 0px 1px 3px 1px rgba(0, 0, 0, 0.15);\n",
              "      filter: drop-shadow(0px 1px 2px rgba(0, 0, 0, 0.3));\n",
              "      fill: #FFFFFF;\n",
              "    }\n",
              "  </style>\n",
              "\n",
              "      <script>\n",
              "        const buttonEl =\n",
              "          document.querySelector('#df-e01739d4-ca16-46dc-ba6e-89643bfb2cc0 button.colab-df-convert');\n",
              "        buttonEl.style.display =\n",
              "          google.colab.kernel.accessAllowed ? 'block' : 'none';\n",
              "\n",
              "        async function convertToInteractive(key) {\n",
              "          const element = document.querySelector('#df-e01739d4-ca16-46dc-ba6e-89643bfb2cc0');\n",
              "          const dataTable =\n",
              "            await google.colab.kernel.invokeFunction('convertToInteractive',\n",
              "                                                     [key], {});\n",
              "          if (!dataTable) return;\n",
              "\n",
              "          const docLinkHtml = 'Like what you see? Visit the ' +\n",
              "            '<a target=\"_blank\" href=https://colab.research.google.com/notebooks/data_table.ipynb>data table notebook</a>'\n",
              "            + ' to learn more about interactive tables.';\n",
              "          element.innerHTML = '';\n",
              "          dataTable['output_type'] = 'display_data';\n",
              "          await google.colab.output.renderOutput(dataTable, element);\n",
              "          const docLink = document.createElement('div');\n",
              "          docLink.innerHTML = docLinkHtml;\n",
              "          element.appendChild(docLink);\n",
              "        }\n",
              "      </script>\n",
              "    </div>\n",
              "  </div>\n",
              "  "
            ]
          },
          "metadata": {},
          "execution_count": 29
        }
      ]
    },
    {
      "cell_type": "code",
      "source": [
        "# mpg(mile per gallon)을 kpl(kilometer per liter)로 변환 후 소수점 둘째자리까지 반올림\n",
        "df['kpl'] = df.mpg * 0.425 \n",
        "df['kpl'] = df.kpl.round(2)"
      ],
      "metadata": {
        "id": "_2xqECSBrvFO"
      },
      "execution_count": null,
      "outputs": []
    },
    {
      "cell_type": "code",
      "source": [
        "# kpl 열 확인\n",
        "df"
      ],
      "metadata": {
        "colab": {
          "base_uri": "https://localhost:8080/",
          "height": 424
        },
        "id": "zSjlwnjZrvH6",
        "outputId": "6b35db31-be53-4e40-ed75-05e0cebfa28f"
      },
      "execution_count": null,
      "outputs": [
        {
          "output_type": "execute_result",
          "data": {
            "text/plain": [
              "      mpg  cylinders  displacement horsepower  weight  acceleration  \\\n",
              "0    18.0          8         307.0      130.0  3504.0          12.0   \n",
              "1    15.0          8         350.0      165.0  3693.0          11.5   \n",
              "2    18.0          8         318.0      150.0  3436.0          11.0   \n",
              "3    16.0          8         304.0      150.0  3433.0          12.0   \n",
              "4    17.0          8         302.0      140.0  3449.0          10.5   \n",
              "..    ...        ...           ...        ...     ...           ...   \n",
              "393  27.0          4         140.0      86.00  2790.0          15.6   \n",
              "394  44.0          4          97.0      52.00  2130.0          24.6   \n",
              "395  32.0          4         135.0      84.00  2295.0          11.6   \n",
              "396  28.0          4         120.0      79.00  2625.0          18.6   \n",
              "397  31.0          4         119.0      82.00  2720.0          19.4   \n",
              "\n",
              "     model year  origin                       name    kpl  \n",
              "0            70       1  chevrolet chevelle malibu   7.65  \n",
              "1            70       1          buick skylark 320   6.38  \n",
              "2            70       1         plymouth satellite   7.65  \n",
              "3            70       1              amc rebel sst   6.80  \n",
              "4            70       1                ford torino   7.22  \n",
              "..          ...     ...                        ...    ...  \n",
              "393          82       1            ford mustang gl  11.48  \n",
              "394          82       2                  vw pickup  18.70  \n",
              "395          82       1              dodge rampage  13.60  \n",
              "396          82       1                ford ranger  11.90  \n",
              "397          82       1                 chevy s-10  13.18  \n",
              "\n",
              "[398 rows x 10 columns]"
            ],
            "text/html": [
              "\n",
              "  <div id=\"df-4711cad2-8bd7-4c1a-b9ce-2dfdf3c689d8\">\n",
              "    <div class=\"colab-df-container\">\n",
              "      <div>\n",
              "<style scoped>\n",
              "    .dataframe tbody tr th:only-of-type {\n",
              "        vertical-align: middle;\n",
              "    }\n",
              "\n",
              "    .dataframe tbody tr th {\n",
              "        vertical-align: top;\n",
              "    }\n",
              "\n",
              "    .dataframe thead th {\n",
              "        text-align: right;\n",
              "    }\n",
              "</style>\n",
              "<table border=\"1\" class=\"dataframe\">\n",
              "  <thead>\n",
              "    <tr style=\"text-align: right;\">\n",
              "      <th></th>\n",
              "      <th>mpg</th>\n",
              "      <th>cylinders</th>\n",
              "      <th>displacement</th>\n",
              "      <th>horsepower</th>\n",
              "      <th>weight</th>\n",
              "      <th>acceleration</th>\n",
              "      <th>model year</th>\n",
              "      <th>origin</th>\n",
              "      <th>name</th>\n",
              "      <th>kpl</th>\n",
              "    </tr>\n",
              "  </thead>\n",
              "  <tbody>\n",
              "    <tr>\n",
              "      <th>0</th>\n",
              "      <td>18.0</td>\n",
              "      <td>8</td>\n",
              "      <td>307.0</td>\n",
              "      <td>130.0</td>\n",
              "      <td>3504.0</td>\n",
              "      <td>12.0</td>\n",
              "      <td>70</td>\n",
              "      <td>1</td>\n",
              "      <td>chevrolet chevelle malibu</td>\n",
              "      <td>7.65</td>\n",
              "    </tr>\n",
              "    <tr>\n",
              "      <th>1</th>\n",
              "      <td>15.0</td>\n",
              "      <td>8</td>\n",
              "      <td>350.0</td>\n",
              "      <td>165.0</td>\n",
              "      <td>3693.0</td>\n",
              "      <td>11.5</td>\n",
              "      <td>70</td>\n",
              "      <td>1</td>\n",
              "      <td>buick skylark 320</td>\n",
              "      <td>6.38</td>\n",
              "    </tr>\n",
              "    <tr>\n",
              "      <th>2</th>\n",
              "      <td>18.0</td>\n",
              "      <td>8</td>\n",
              "      <td>318.0</td>\n",
              "      <td>150.0</td>\n",
              "      <td>3436.0</td>\n",
              "      <td>11.0</td>\n",
              "      <td>70</td>\n",
              "      <td>1</td>\n",
              "      <td>plymouth satellite</td>\n",
              "      <td>7.65</td>\n",
              "    </tr>\n",
              "    <tr>\n",
              "      <th>3</th>\n",
              "      <td>16.0</td>\n",
              "      <td>8</td>\n",
              "      <td>304.0</td>\n",
              "      <td>150.0</td>\n",
              "      <td>3433.0</td>\n",
              "      <td>12.0</td>\n",
              "      <td>70</td>\n",
              "      <td>1</td>\n",
              "      <td>amc rebel sst</td>\n",
              "      <td>6.80</td>\n",
              "    </tr>\n",
              "    <tr>\n",
              "      <th>4</th>\n",
              "      <td>17.0</td>\n",
              "      <td>8</td>\n",
              "      <td>302.0</td>\n",
              "      <td>140.0</td>\n",
              "      <td>3449.0</td>\n",
              "      <td>10.5</td>\n",
              "      <td>70</td>\n",
              "      <td>1</td>\n",
              "      <td>ford torino</td>\n",
              "      <td>7.22</td>\n",
              "    </tr>\n",
              "    <tr>\n",
              "      <th>...</th>\n",
              "      <td>...</td>\n",
              "      <td>...</td>\n",
              "      <td>...</td>\n",
              "      <td>...</td>\n",
              "      <td>...</td>\n",
              "      <td>...</td>\n",
              "      <td>...</td>\n",
              "      <td>...</td>\n",
              "      <td>...</td>\n",
              "      <td>...</td>\n",
              "    </tr>\n",
              "    <tr>\n",
              "      <th>393</th>\n",
              "      <td>27.0</td>\n",
              "      <td>4</td>\n",
              "      <td>140.0</td>\n",
              "      <td>86.00</td>\n",
              "      <td>2790.0</td>\n",
              "      <td>15.6</td>\n",
              "      <td>82</td>\n",
              "      <td>1</td>\n",
              "      <td>ford mustang gl</td>\n",
              "      <td>11.48</td>\n",
              "    </tr>\n",
              "    <tr>\n",
              "      <th>394</th>\n",
              "      <td>44.0</td>\n",
              "      <td>4</td>\n",
              "      <td>97.0</td>\n",
              "      <td>52.00</td>\n",
              "      <td>2130.0</td>\n",
              "      <td>24.6</td>\n",
              "      <td>82</td>\n",
              "      <td>2</td>\n",
              "      <td>vw pickup</td>\n",
              "      <td>18.70</td>\n",
              "    </tr>\n",
              "    <tr>\n",
              "      <th>395</th>\n",
              "      <td>32.0</td>\n",
              "      <td>4</td>\n",
              "      <td>135.0</td>\n",
              "      <td>84.00</td>\n",
              "      <td>2295.0</td>\n",
              "      <td>11.6</td>\n",
              "      <td>82</td>\n",
              "      <td>1</td>\n",
              "      <td>dodge rampage</td>\n",
              "      <td>13.60</td>\n",
              "    </tr>\n",
              "    <tr>\n",
              "      <th>396</th>\n",
              "      <td>28.0</td>\n",
              "      <td>4</td>\n",
              "      <td>120.0</td>\n",
              "      <td>79.00</td>\n",
              "      <td>2625.0</td>\n",
              "      <td>18.6</td>\n",
              "      <td>82</td>\n",
              "      <td>1</td>\n",
              "      <td>ford ranger</td>\n",
              "      <td>11.90</td>\n",
              "    </tr>\n",
              "    <tr>\n",
              "      <th>397</th>\n",
              "      <td>31.0</td>\n",
              "      <td>4</td>\n",
              "      <td>119.0</td>\n",
              "      <td>82.00</td>\n",
              "      <td>2720.0</td>\n",
              "      <td>19.4</td>\n",
              "      <td>82</td>\n",
              "      <td>1</td>\n",
              "      <td>chevy s-10</td>\n",
              "      <td>13.18</td>\n",
              "    </tr>\n",
              "  </tbody>\n",
              "</table>\n",
              "<p>398 rows × 10 columns</p>\n",
              "</div>\n",
              "      <button class=\"colab-df-convert\" onclick=\"convertToInteractive('df-4711cad2-8bd7-4c1a-b9ce-2dfdf3c689d8')\"\n",
              "              title=\"Convert this dataframe to an interactive table.\"\n",
              "              style=\"display:none;\">\n",
              "        \n",
              "  <svg xmlns=\"http://www.w3.org/2000/svg\" height=\"24px\"viewBox=\"0 0 24 24\"\n",
              "       width=\"24px\">\n",
              "    <path d=\"M0 0h24v24H0V0z\" fill=\"none\"/>\n",
              "    <path d=\"M18.56 5.44l.94 2.06.94-2.06 2.06-.94-2.06-.94-.94-2.06-.94 2.06-2.06.94zm-11 1L8.5 8.5l.94-2.06 2.06-.94-2.06-.94L8.5 2.5l-.94 2.06-2.06.94zm10 10l.94 2.06.94-2.06 2.06-.94-2.06-.94-.94-2.06-.94 2.06-2.06.94z\"/><path d=\"M17.41 7.96l-1.37-1.37c-.4-.4-.92-.59-1.43-.59-.52 0-1.04.2-1.43.59L10.3 9.45l-7.72 7.72c-.78.78-.78 2.05 0 2.83L4 21.41c.39.39.9.59 1.41.59.51 0 1.02-.2 1.41-.59l7.78-7.78 2.81-2.81c.8-.78.8-2.07 0-2.86zM5.41 20L4 18.59l7.72-7.72 1.47 1.35L5.41 20z\"/>\n",
              "  </svg>\n",
              "      </button>\n",
              "      \n",
              "  <style>\n",
              "    .colab-df-container {\n",
              "      display:flex;\n",
              "      flex-wrap:wrap;\n",
              "      gap: 12px;\n",
              "    }\n",
              "\n",
              "    .colab-df-convert {\n",
              "      background-color: #E8F0FE;\n",
              "      border: none;\n",
              "      border-radius: 50%;\n",
              "      cursor: pointer;\n",
              "      display: none;\n",
              "      fill: #1967D2;\n",
              "      height: 32px;\n",
              "      padding: 0 0 0 0;\n",
              "      width: 32px;\n",
              "    }\n",
              "\n",
              "    .colab-df-convert:hover {\n",
              "      background-color: #E2EBFA;\n",
              "      box-shadow: 0px 1px 2px rgba(60, 64, 67, 0.3), 0px 1px 3px 1px rgba(60, 64, 67, 0.15);\n",
              "      fill: #174EA6;\n",
              "    }\n",
              "\n",
              "    [theme=dark] .colab-df-convert {\n",
              "      background-color: #3B4455;\n",
              "      fill: #D2E3FC;\n",
              "    }\n",
              "\n",
              "    [theme=dark] .colab-df-convert:hover {\n",
              "      background-color: #434B5C;\n",
              "      box-shadow: 0px 1px 3px 1px rgba(0, 0, 0, 0.15);\n",
              "      filter: drop-shadow(0px 1px 2px rgba(0, 0, 0, 0.3));\n",
              "      fill: #FFFFFF;\n",
              "    }\n",
              "  </style>\n",
              "\n",
              "      <script>\n",
              "        const buttonEl =\n",
              "          document.querySelector('#df-4711cad2-8bd7-4c1a-b9ce-2dfdf3c689d8 button.colab-df-convert');\n",
              "        buttonEl.style.display =\n",
              "          google.colab.kernel.accessAllowed ? 'block' : 'none';\n",
              "\n",
              "        async function convertToInteractive(key) {\n",
              "          const element = document.querySelector('#df-4711cad2-8bd7-4c1a-b9ce-2dfdf3c689d8');\n",
              "          const dataTable =\n",
              "            await google.colab.kernel.invokeFunction('convertToInteractive',\n",
              "                                                     [key], {});\n",
              "          if (!dataTable) return;\n",
              "\n",
              "          const docLinkHtml = 'Like what you see? Visit the ' +\n",
              "            '<a target=\"_blank\" href=https://colab.research.google.com/notebooks/data_table.ipynb>data table notebook</a>'\n",
              "            + ' to learn more about interactive tables.';\n",
              "          element.innerHTML = '';\n",
              "          dataTable['output_type'] = 'display_data';\n",
              "          await google.colab.output.renderOutput(dataTable, element);\n",
              "          const docLink = document.createElement('div');\n",
              "          docLink.innerHTML = docLinkHtml;\n",
              "          element.appendChild(docLink);\n",
              "        }\n",
              "      </script>\n",
              "    </div>\n",
              "  </div>\n",
              "  "
            ]
          },
          "metadata": {},
          "execution_count": 181
        }
      ]
    },
    {
      "cell_type": "markdown",
      "source": [
        "## 데이터타입 변경"
      ],
      "metadata": {
        "id": "Ur9lyrHhgJpO"
      }
    },
    {
      "cell_type": "markdown",
      "source": [
        "* 숫자가 문자열(object)로 저장된 경우 숫자형(int or float)으로 변환 필요\n",
        " * dtypes 속성을 사용해 자료형 확인\n",
        " * info() 메소드도 활용 가능"
      ],
      "metadata": {
        "id": "htz2znxiVCUX"
      }
    },
    {
      "cell_type": "code",
      "source": [
        "# df 데이터프레임 데이터타입 확인\n",
        "df.dtypes"
      ],
      "metadata": {
        "colab": {
          "base_uri": "https://localhost:8080/"
        },
        "id": "SzZVmQieZido",
        "outputId": "f0f2e9e5-57fb-4d37-9855-da94ac5f1a99"
      },
      "execution_count": null,
      "outputs": [
        {
          "output_type": "execute_result",
          "data": {
            "text/plain": [
              "mpg             float64\n",
              "cylinders         int64\n",
              "displacement    float64\n",
              "horsepower       object\n",
              "weight          float64\n",
              "acceleration    float64\n",
              "model year        int64\n",
              "origin            int64\n",
              "name             object\n",
              "kpl             float64\n",
              "dtype: object"
            ]
          },
          "metadata": {},
          "execution_count": 182
        }
      ]
    },
    {
      "cell_type": "code",
      "source": [
        "# horsepower 열 데이터타입을 float으로 바꾸기\n",
        "# ValueError: could not convert string to float: '?' \n",
        "df.horsepower.astype('float64')"
      ],
      "metadata": {
        "id": "vIf7_IjsrvKr",
        "colab": {
          "base_uri": "https://localhost:8080/",
          "height": 323
        },
        "outputId": "c7483700-5516-4b7a-dc4b-ee012671ebce"
      },
      "execution_count": null,
      "outputs": [
        {
          "output_type": "error",
          "ename": "ValueError",
          "evalue": "ignored",
          "traceback": [
            "\u001b[0;31m---------------------------------------------------------------------------\u001b[0m",
            "\u001b[0;31mValueError\u001b[0m                                Traceback (most recent call last)",
            "\u001b[0;32m<ipython-input-79-e1f794152dfb>\u001b[0m in \u001b[0;36m<module>\u001b[0;34m\u001b[0m\n\u001b[0;32m----> 1\u001b[0;31m \u001b[0mdf\u001b[0m\u001b[0;34m.\u001b[0m\u001b[0mhorsepower\u001b[0m\u001b[0;34m.\u001b[0m\u001b[0mastype\u001b[0m\u001b[0;34m(\u001b[0m\u001b[0;34m'float64'\u001b[0m\u001b[0;34m)\u001b[0m\u001b[0;34m\u001b[0m\u001b[0;34m\u001b[0m\u001b[0m\n\u001b[0m",
            "\u001b[0;32m/usr/local/lib/python3.7/dist-packages/pandas/core/generic.py\u001b[0m in \u001b[0;36mastype\u001b[0;34m(self, dtype, copy, errors)\u001b[0m\n\u001b[1;32m   5813\u001b[0m         \u001b[0;32melse\u001b[0m\u001b[0;34m:\u001b[0m\u001b[0;34m\u001b[0m\u001b[0;34m\u001b[0m\u001b[0m\n\u001b[1;32m   5814\u001b[0m             \u001b[0;31m# else, only a single dtype is given\u001b[0m\u001b[0;34m\u001b[0m\u001b[0;34m\u001b[0m\u001b[0;34m\u001b[0m\u001b[0m\n\u001b[0;32m-> 5815\u001b[0;31m             \u001b[0mnew_data\u001b[0m \u001b[0;34m=\u001b[0m \u001b[0mself\u001b[0m\u001b[0;34m.\u001b[0m\u001b[0m_mgr\u001b[0m\u001b[0;34m.\u001b[0m\u001b[0mastype\u001b[0m\u001b[0;34m(\u001b[0m\u001b[0mdtype\u001b[0m\u001b[0;34m=\u001b[0m\u001b[0mdtype\u001b[0m\u001b[0;34m,\u001b[0m \u001b[0mcopy\u001b[0m\u001b[0;34m=\u001b[0m\u001b[0mcopy\u001b[0m\u001b[0;34m,\u001b[0m \u001b[0merrors\u001b[0m\u001b[0;34m=\u001b[0m\u001b[0merrors\u001b[0m\u001b[0;34m)\u001b[0m\u001b[0;34m\u001b[0m\u001b[0;34m\u001b[0m\u001b[0m\n\u001b[0m\u001b[1;32m   5816\u001b[0m             \u001b[0;32mreturn\u001b[0m \u001b[0mself\u001b[0m\u001b[0;34m.\u001b[0m\u001b[0m_constructor\u001b[0m\u001b[0;34m(\u001b[0m\u001b[0mnew_data\u001b[0m\u001b[0;34m)\u001b[0m\u001b[0;34m.\u001b[0m\u001b[0m__finalize__\u001b[0m\u001b[0;34m(\u001b[0m\u001b[0mself\u001b[0m\u001b[0;34m,\u001b[0m \u001b[0mmethod\u001b[0m\u001b[0;34m=\u001b[0m\u001b[0;34m\"astype\"\u001b[0m\u001b[0;34m)\u001b[0m\u001b[0;34m\u001b[0m\u001b[0;34m\u001b[0m\u001b[0m\n\u001b[1;32m   5817\u001b[0m \u001b[0;34m\u001b[0m\u001b[0m\n",
            "\u001b[0;32m/usr/local/lib/python3.7/dist-packages/pandas/core/internals/managers.py\u001b[0m in \u001b[0;36mastype\u001b[0;34m(self, dtype, copy, errors)\u001b[0m\n\u001b[1;32m    416\u001b[0m \u001b[0;34m\u001b[0m\u001b[0m\n\u001b[1;32m    417\u001b[0m     \u001b[0;32mdef\u001b[0m \u001b[0mastype\u001b[0m\u001b[0;34m(\u001b[0m\u001b[0mself\u001b[0m\u001b[0;34m:\u001b[0m \u001b[0mT\u001b[0m\u001b[0;34m,\u001b[0m \u001b[0mdtype\u001b[0m\u001b[0;34m,\u001b[0m \u001b[0mcopy\u001b[0m\u001b[0;34m:\u001b[0m \u001b[0mbool\u001b[0m \u001b[0;34m=\u001b[0m \u001b[0;32mFalse\u001b[0m\u001b[0;34m,\u001b[0m \u001b[0merrors\u001b[0m\u001b[0;34m:\u001b[0m \u001b[0mstr\u001b[0m \u001b[0;34m=\u001b[0m \u001b[0;34m\"raise\"\u001b[0m\u001b[0;34m)\u001b[0m \u001b[0;34m->\u001b[0m \u001b[0mT\u001b[0m\u001b[0;34m:\u001b[0m\u001b[0;34m\u001b[0m\u001b[0;34m\u001b[0m\u001b[0m\n\u001b[0;32m--> 418\u001b[0;31m         \u001b[0;32mreturn\u001b[0m \u001b[0mself\u001b[0m\u001b[0;34m.\u001b[0m\u001b[0mapply\u001b[0m\u001b[0;34m(\u001b[0m\u001b[0;34m\"astype\"\u001b[0m\u001b[0;34m,\u001b[0m \u001b[0mdtype\u001b[0m\u001b[0;34m=\u001b[0m\u001b[0mdtype\u001b[0m\u001b[0;34m,\u001b[0m \u001b[0mcopy\u001b[0m\u001b[0;34m=\u001b[0m\u001b[0mcopy\u001b[0m\u001b[0;34m,\u001b[0m \u001b[0merrors\u001b[0m\u001b[0;34m=\u001b[0m\u001b[0merrors\u001b[0m\u001b[0;34m)\u001b[0m\u001b[0;34m\u001b[0m\u001b[0;34m\u001b[0m\u001b[0m\n\u001b[0m\u001b[1;32m    419\u001b[0m \u001b[0;34m\u001b[0m\u001b[0m\n\u001b[1;32m    420\u001b[0m     def convert(\n",
            "\u001b[0;32m/usr/local/lib/python3.7/dist-packages/pandas/core/internals/managers.py\u001b[0m in \u001b[0;36mapply\u001b[0;34m(self, f, align_keys, ignore_failures, **kwargs)\u001b[0m\n\u001b[1;32m    325\u001b[0m                     \u001b[0mapplied\u001b[0m \u001b[0;34m=\u001b[0m \u001b[0mb\u001b[0m\u001b[0;34m.\u001b[0m\u001b[0mapply\u001b[0m\u001b[0;34m(\u001b[0m\u001b[0mf\u001b[0m\u001b[0;34m,\u001b[0m \u001b[0;34m**\u001b[0m\u001b[0mkwargs\u001b[0m\u001b[0;34m)\u001b[0m\u001b[0;34m\u001b[0m\u001b[0;34m\u001b[0m\u001b[0m\n\u001b[1;32m    326\u001b[0m                 \u001b[0;32melse\u001b[0m\u001b[0;34m:\u001b[0m\u001b[0;34m\u001b[0m\u001b[0;34m\u001b[0m\u001b[0m\n\u001b[0;32m--> 327\u001b[0;31m                     \u001b[0mapplied\u001b[0m \u001b[0;34m=\u001b[0m \u001b[0mgetattr\u001b[0m\u001b[0;34m(\u001b[0m\u001b[0mb\u001b[0m\u001b[0;34m,\u001b[0m \u001b[0mf\u001b[0m\u001b[0;34m)\u001b[0m\u001b[0;34m(\u001b[0m\u001b[0;34m**\u001b[0m\u001b[0mkwargs\u001b[0m\u001b[0;34m)\u001b[0m\u001b[0;34m\u001b[0m\u001b[0;34m\u001b[0m\u001b[0m\n\u001b[0m\u001b[1;32m    328\u001b[0m             \u001b[0;32mexcept\u001b[0m \u001b[0;34m(\u001b[0m\u001b[0mTypeError\u001b[0m\u001b[0;34m,\u001b[0m \u001b[0mNotImplementedError\u001b[0m\u001b[0;34m)\u001b[0m\u001b[0;34m:\u001b[0m\u001b[0;34m\u001b[0m\u001b[0;34m\u001b[0m\u001b[0m\n\u001b[1;32m    329\u001b[0m                 \u001b[0;32mif\u001b[0m \u001b[0;32mnot\u001b[0m \u001b[0mignore_failures\u001b[0m\u001b[0;34m:\u001b[0m\u001b[0;34m\u001b[0m\u001b[0;34m\u001b[0m\u001b[0m\n",
            "\u001b[0;32m/usr/local/lib/python3.7/dist-packages/pandas/core/internals/blocks.py\u001b[0m in \u001b[0;36mastype\u001b[0;34m(self, dtype, copy, errors)\u001b[0m\n\u001b[1;32m    589\u001b[0m         \u001b[0mvalues\u001b[0m \u001b[0;34m=\u001b[0m \u001b[0mself\u001b[0m\u001b[0;34m.\u001b[0m\u001b[0mvalues\u001b[0m\u001b[0;34m\u001b[0m\u001b[0;34m\u001b[0m\u001b[0m\n\u001b[1;32m    590\u001b[0m \u001b[0;34m\u001b[0m\u001b[0m\n\u001b[0;32m--> 591\u001b[0;31m         \u001b[0mnew_values\u001b[0m \u001b[0;34m=\u001b[0m \u001b[0mastype_array_safe\u001b[0m\u001b[0;34m(\u001b[0m\u001b[0mvalues\u001b[0m\u001b[0;34m,\u001b[0m \u001b[0mdtype\u001b[0m\u001b[0;34m,\u001b[0m \u001b[0mcopy\u001b[0m\u001b[0;34m=\u001b[0m\u001b[0mcopy\u001b[0m\u001b[0;34m,\u001b[0m \u001b[0merrors\u001b[0m\u001b[0;34m=\u001b[0m\u001b[0merrors\u001b[0m\u001b[0;34m)\u001b[0m\u001b[0;34m\u001b[0m\u001b[0;34m\u001b[0m\u001b[0m\n\u001b[0m\u001b[1;32m    592\u001b[0m \u001b[0;34m\u001b[0m\u001b[0m\n\u001b[1;32m    593\u001b[0m         \u001b[0mnew_values\u001b[0m \u001b[0;34m=\u001b[0m \u001b[0mmaybe_coerce_values\u001b[0m\u001b[0;34m(\u001b[0m\u001b[0mnew_values\u001b[0m\u001b[0;34m)\u001b[0m\u001b[0;34m\u001b[0m\u001b[0;34m\u001b[0m\u001b[0m\n",
            "\u001b[0;32m/usr/local/lib/python3.7/dist-packages/pandas/core/dtypes/cast.py\u001b[0m in \u001b[0;36mastype_array_safe\u001b[0;34m(values, dtype, copy, errors)\u001b[0m\n\u001b[1;32m   1307\u001b[0m \u001b[0;34m\u001b[0m\u001b[0m\n\u001b[1;32m   1308\u001b[0m     \u001b[0;32mtry\u001b[0m\u001b[0;34m:\u001b[0m\u001b[0;34m\u001b[0m\u001b[0;34m\u001b[0m\u001b[0m\n\u001b[0;32m-> 1309\u001b[0;31m         \u001b[0mnew_values\u001b[0m \u001b[0;34m=\u001b[0m \u001b[0mastype_array\u001b[0m\u001b[0;34m(\u001b[0m\u001b[0mvalues\u001b[0m\u001b[0;34m,\u001b[0m \u001b[0mdtype\u001b[0m\u001b[0;34m,\u001b[0m \u001b[0mcopy\u001b[0m\u001b[0;34m=\u001b[0m\u001b[0mcopy\u001b[0m\u001b[0;34m)\u001b[0m\u001b[0;34m\u001b[0m\u001b[0;34m\u001b[0m\u001b[0m\n\u001b[0m\u001b[1;32m   1310\u001b[0m     \u001b[0;32mexcept\u001b[0m \u001b[0;34m(\u001b[0m\u001b[0mValueError\u001b[0m\u001b[0;34m,\u001b[0m \u001b[0mTypeError\u001b[0m\u001b[0;34m)\u001b[0m\u001b[0;34m:\u001b[0m\u001b[0;34m\u001b[0m\u001b[0;34m\u001b[0m\u001b[0m\n\u001b[1;32m   1311\u001b[0m         \u001b[0;31m# e.g. astype_nansafe can fail on object-dtype of strings\u001b[0m\u001b[0;34m\u001b[0m\u001b[0;34m\u001b[0m\u001b[0;34m\u001b[0m\u001b[0m\n",
            "\u001b[0;32m/usr/local/lib/python3.7/dist-packages/pandas/core/dtypes/cast.py\u001b[0m in \u001b[0;36mastype_array\u001b[0;34m(values, dtype, copy)\u001b[0m\n\u001b[1;32m   1255\u001b[0m \u001b[0;34m\u001b[0m\u001b[0m\n\u001b[1;32m   1256\u001b[0m     \u001b[0;32melse\u001b[0m\u001b[0;34m:\u001b[0m\u001b[0;34m\u001b[0m\u001b[0;34m\u001b[0m\u001b[0m\n\u001b[0;32m-> 1257\u001b[0;31m         \u001b[0mvalues\u001b[0m \u001b[0;34m=\u001b[0m \u001b[0mastype_nansafe\u001b[0m\u001b[0;34m(\u001b[0m\u001b[0mvalues\u001b[0m\u001b[0;34m,\u001b[0m \u001b[0mdtype\u001b[0m\u001b[0;34m,\u001b[0m \u001b[0mcopy\u001b[0m\u001b[0;34m=\u001b[0m\u001b[0mcopy\u001b[0m\u001b[0;34m)\u001b[0m\u001b[0;34m\u001b[0m\u001b[0;34m\u001b[0m\u001b[0m\n\u001b[0m\u001b[1;32m   1258\u001b[0m \u001b[0;34m\u001b[0m\u001b[0m\n\u001b[1;32m   1259\u001b[0m     \u001b[0;31m# in pandas we don't store numpy str dtypes, so convert to object\u001b[0m\u001b[0;34m\u001b[0m\u001b[0;34m\u001b[0m\u001b[0;34m\u001b[0m\u001b[0m\n",
            "\u001b[0;32m/usr/local/lib/python3.7/dist-packages/pandas/core/dtypes/cast.py\u001b[0m in \u001b[0;36mastype_nansafe\u001b[0;34m(arr, dtype, copy, skipna)\u001b[0m\n\u001b[1;32m   1199\u001b[0m     \u001b[0;32mif\u001b[0m \u001b[0mcopy\u001b[0m \u001b[0;32mor\u001b[0m \u001b[0mis_object_dtype\u001b[0m\u001b[0;34m(\u001b[0m\u001b[0marr\u001b[0m\u001b[0;34m.\u001b[0m\u001b[0mdtype\u001b[0m\u001b[0;34m)\u001b[0m \u001b[0;32mor\u001b[0m \u001b[0mis_object_dtype\u001b[0m\u001b[0;34m(\u001b[0m\u001b[0mdtype\u001b[0m\u001b[0;34m)\u001b[0m\u001b[0;34m:\u001b[0m\u001b[0;34m\u001b[0m\u001b[0;34m\u001b[0m\u001b[0m\n\u001b[1;32m   1200\u001b[0m         \u001b[0;31m# Explicit copy, or required since NumPy can't view from / to object.\u001b[0m\u001b[0;34m\u001b[0m\u001b[0;34m\u001b[0m\u001b[0;34m\u001b[0m\u001b[0m\n\u001b[0;32m-> 1201\u001b[0;31m         \u001b[0;32mreturn\u001b[0m \u001b[0marr\u001b[0m\u001b[0;34m.\u001b[0m\u001b[0mastype\u001b[0m\u001b[0;34m(\u001b[0m\u001b[0mdtype\u001b[0m\u001b[0;34m,\u001b[0m \u001b[0mcopy\u001b[0m\u001b[0;34m=\u001b[0m\u001b[0;32mTrue\u001b[0m\u001b[0;34m)\u001b[0m\u001b[0;34m\u001b[0m\u001b[0;34m\u001b[0m\u001b[0m\n\u001b[0m\u001b[1;32m   1202\u001b[0m \u001b[0;34m\u001b[0m\u001b[0m\n\u001b[1;32m   1203\u001b[0m     \u001b[0;32mreturn\u001b[0m \u001b[0marr\u001b[0m\u001b[0;34m.\u001b[0m\u001b[0mastype\u001b[0m\u001b[0;34m(\u001b[0m\u001b[0mdtype\u001b[0m\u001b[0;34m,\u001b[0m \u001b[0mcopy\u001b[0m\u001b[0;34m=\u001b[0m\u001b[0mcopy\u001b[0m\u001b[0;34m)\u001b[0m\u001b[0;34m\u001b[0m\u001b[0;34m\u001b[0m\u001b[0m\n",
            "\u001b[0;31mValueError\u001b[0m: could not convert string to float: '?'"
          ]
        }
      ]
    },
    {
      "cell_type": "code",
      "source": [
        "# horsepower 열의 유니크 값 확인\n",
        "df.horsepower.unique()"
      ],
      "metadata": {
        "colab": {
          "base_uri": "https://localhost:8080/"
        },
        "id": "qikZHxfEae95",
        "outputId": "8478bc6e-f493-4a63-bf77-415e882dc87f"
      },
      "execution_count": null,
      "outputs": [
        {
          "output_type": "execute_result",
          "data": {
            "text/plain": [
              "array(['130.0', '165.0', '150.0', '140.0', '198.0', '220.0', '215.0',\n",
              "       '225.0', '190.0', '170.0', '160.0', '95.00', '97.00', '85.00',\n",
              "       '88.00', '46.00', '87.00', '90.00', '113.0', '200.0', '210.0',\n",
              "       '193.0', '?', '100.0', '105.0', '175.0', '153.0', '180.0', '110.0',\n",
              "       '72.00', '86.00', '70.00', '76.00', '65.00', '69.00', '60.00',\n",
              "       '80.00', '54.00', '208.0', '155.0', '112.0', '92.00', '145.0',\n",
              "       '137.0', '158.0', '167.0', '94.00', '107.0', '230.0', '49.00',\n",
              "       '75.00', '91.00', '122.0', '67.00', '83.00', '78.00', '52.00',\n",
              "       '61.00', '93.00', '148.0', '129.0', '96.00', '71.00', '98.00',\n",
              "       '115.0', '53.00', '81.00', '79.00', '120.0', '152.0', '102.0',\n",
              "       '108.0', '68.00', '58.00', '149.0', '89.00', '63.00', '48.00',\n",
              "       '66.00', '139.0', '103.0', '125.0', '133.0', '138.0', '135.0',\n",
              "       '142.0', '77.00', '62.00', '132.0', '84.00', '64.00', '74.00',\n",
              "       '116.0', '82.00'], dtype=object)"
            ]
          },
          "metadata": {},
          "execution_count": 183
        }
      ]
    },
    {
      "cell_type": "code",
      "source": [
        "import numpy as np\n",
        "# horsepower 열의 '?' 값을 nan으로 변경\n",
        "df.horsepower.replace('?', np.nan, inplace=True)"
      ],
      "metadata": {
        "id": "rmuJ6T4PZojw"
      },
      "execution_count": null,
      "outputs": []
    },
    {
      "cell_type": "code",
      "source": [
        "# horsepower 열 데이터타입을 float으로 바꾸기\n",
        "# 성공!\n",
        "df.horsepower = df.horsepower.astype('float64')"
      ],
      "metadata": {
        "id": "88pZe7drUT7A"
      },
      "execution_count": null,
      "outputs": []
    },
    {
      "cell_type": "code",
      "source": [
        "# df의 데이터타입 확인\n",
        "df.dtypes"
      ],
      "metadata": {
        "colab": {
          "base_uri": "https://localhost:8080/"
        },
        "id": "QnwRrzBjSx9F",
        "outputId": "02536a35-fccc-4408-d672-19d957a206e3"
      },
      "execution_count": null,
      "outputs": [
        {
          "output_type": "execute_result",
          "data": {
            "text/plain": [
              "mpg             float64\n",
              "cylinders         int64\n",
              "displacement    float64\n",
              "horsepower      float64\n",
              "weight          float64\n",
              "acceleration    float64\n",
              "model year        int64\n",
              "origin            int64\n",
              "name             object\n",
              "dtype: object"
            ]
          },
          "metadata": {},
          "execution_count": 32
        }
      ]
    },
    {
      "cell_type": "markdown",
      "source": [
        "* 범주형으로 변경 : 적은 수의 고유값이 반복적으로 나타나는 경우에는 범주형(category)데이터를 표현하는 것이 효율적"
      ],
      "metadata": {
        "id": "yl0jkBZVbjOp"
      }
    },
    {
      "cell_type": "code",
      "source": [
        "# origin 열 데이터타입 확인\n",
        "df.origin.dtypes"
      ],
      "metadata": {
        "colab": {
          "base_uri": "https://localhost:8080/"
        },
        "id": "w-Yi8pe0bwk5",
        "outputId": "391bca8f-5990-41b7-e3e8-aeac9991ba79"
      },
      "execution_count": null,
      "outputs": [
        {
          "output_type": "execute_result",
          "data": {
            "text/plain": [
              "dtype('int64')"
            ]
          },
          "metadata": {},
          "execution_count": 187
        }
      ]
    },
    {
      "cell_type": "code",
      "source": [
        "# origin 열의 유니크 값 확인 : 빈도순으로 정렬\n",
        "df.origin.unique()"
      ],
      "metadata": {
        "colab": {
          "base_uri": "https://localhost:8080/"
        },
        "id": "Iu97ChEOb1Fr",
        "outputId": "3ab77ad8-9b16-4697-ed0a-2868f29103d6"
      },
      "execution_count": null,
      "outputs": [
        {
          "output_type": "execute_result",
          "data": {
            "text/plain": [
              "array([1, 3, 2])"
            ]
          },
          "metadata": {},
          "execution_count": 188
        }
      ]
    },
    {
      "cell_type": "code",
      "source": [
        "# 값 카운트\n",
        "df.origin.value_counts()"
      ],
      "metadata": {
        "colab": {
          "base_uri": "https://localhost:8080/"
        },
        "id": "vCm4t-iwc1cg",
        "outputId": "e0fa2cd8-7744-4355-b052-099cc850ac62"
      },
      "execution_count": null,
      "outputs": [
        {
          "output_type": "execute_result",
          "data": {
            "text/plain": [
              "1    249\n",
              "3     79\n",
              "2     70\n",
              "Name: origin, dtype: int64"
            ]
          },
          "metadata": {},
          "execution_count": 189
        }
      ]
    },
    {
      "cell_type": "code",
      "source": [
        "#데이터 명 변경\n",
        "df.origin.replace({1:'USA', 2:'EU', 3: 'JAPAN'}, inplace=True)\n",
        "df.origin.unique()"
      ],
      "metadata": {
        "colab": {
          "base_uri": "https://localhost:8080/"
        },
        "id": "wis_PvaYdJJc",
        "outputId": "385e72ce-001d-463c-a3e0-5e9179f5006f"
      },
      "execution_count": null,
      "outputs": [
        {
          "output_type": "execute_result",
          "data": {
            "text/plain": [
              "array(['USA', 'JAPAN', 'EU'], dtype=object)"
            ]
          },
          "metadata": {},
          "execution_count": 190
        }
      ]
    },
    {
      "cell_type": "code",
      "source": [
        "# origin 열 범주형 데이터로 변경\n",
        "df.origin = df.origin.astype('category')\n",
        "df.origin.dtypes"
      ],
      "metadata": {
        "colab": {
          "base_uri": "https://localhost:8080/"
        },
        "id": "PlUcSpZASyAN",
        "outputId": "b35bf312-30a6-46e7-aa14-535e9eeb1ad5"
      },
      "execution_count": null,
      "outputs": [
        {
          "output_type": "execute_result",
          "data": {
            "text/plain": [
              "CategoricalDtype(categories=['EU', 'JAPAN', 'USA'], ordered=False)"
            ]
          },
          "metadata": {},
          "execution_count": 191
        }
      ]
    },
    {
      "cell_type": "code",
      "source": [
        "# model year 열 데이터타입 확인\n",
        "df['model year'].dtypes"
      ],
      "metadata": {
        "colab": {
          "base_uri": "https://localhost:8080/"
        },
        "id": "3Gcu-rDKcKgi",
        "outputId": "851ecb7e-dd7c-4331-c688-33aa7d718ce4"
      },
      "execution_count": null,
      "outputs": [
        {
          "output_type": "execute_result",
          "data": {
            "text/plain": [
              "dtype('int64')"
            ]
          },
          "metadata": {},
          "execution_count": 192
        }
      ]
    },
    {
      "cell_type": "code",
      "source": [
        "df['model year'].unique()"
      ],
      "metadata": {
        "colab": {
          "base_uri": "https://localhost:8080/"
        },
        "id": "kDC8wMbfb-r-",
        "outputId": "42ffba78-c2a4-4712-8377-1d35ac652e61"
      },
      "execution_count": null,
      "outputs": [
        {
          "output_type": "execute_result",
          "data": {
            "text/plain": [
              "array([70, 71, 72, 73, 74, 75, 76, 77, 78, 79, 80, 81, 82])"
            ]
          },
          "metadata": {},
          "execution_count": 193
        }
      ]
    },
    {
      "cell_type": "code",
      "source": [
        "df['model year'] = df['model year'].astype('category')\n",
        "df['model year'].dtypes"
      ],
      "metadata": {
        "colab": {
          "base_uri": "https://localhost:8080/"
        },
        "id": "OhFjI3j9apR5",
        "outputId": "fc5ae34d-50c5-4244-c12a-856282a0f089"
      },
      "execution_count": null,
      "outputs": [
        {
          "output_type": "execute_result",
          "data": {
            "text/plain": [
              "CategoricalDtype(categories=[70, 71, 72, 73, 74, 75, 76, 77, 78, 79, 80, 81, 82], ordered=False)"
            ]
          },
          "metadata": {},
          "execution_count": 194
        }
      ]
    },
    {
      "cell_type": "markdown",
      "source": [
        "## 범주형(category) 데이터 처리"
      ],
      "metadata": {
        "id": "7S4D-3UUgctK"
      }
    },
    {
      "cell_type": "markdown",
      "source": [
        "### 구간 분할\n",
        "* 연속형 데이터를 그대로 사용하기 보다는 일정한 구간(bin)으로 나눠서 분석하는 것이 효율적인 경우가 있다. 이를 구간분할(binning) 이라고 하고 pandas의 cut 함수를 사용"
      ],
      "metadata": {
        "id": "XG27P250h4Pt"
      }
    },
    {
      "cell_type": "markdown",
      "source": [
        "* numpy의 histogram() 함수"
      ],
      "metadata": {
        "id": "SpYFSSBUiRBO"
      }
    },
    {
      "cell_type": "code",
      "source": [
        "# horsepower 열의 NaN 삭제\n",
        "df.dropna(subset=['horsepower'], inplace=True)\n",
        "df.horsepower.isna().sum()"
      ],
      "metadata": {
        "colab": {
          "base_uri": "https://localhost:8080/"
        },
        "id": "Xv2jvWnAaSla",
        "outputId": "50f74a9c-5255-41df-9496-9f076e50cc06"
      },
      "execution_count": null,
      "outputs": [
        {
          "output_type": "execute_result",
          "data": {
            "text/plain": [
              "0"
            ]
          },
          "metadata": {},
          "execution_count": 45
        }
      ]
    },
    {
      "cell_type": "markdown",
      "source": [
        "* np.histogram 함수 사용해 horsepower 열을 bins 옵션으로 3개로 분리 실행"
      ],
      "metadata": {
        "id": "M3pNr6Boiesy"
      }
    },
    {
      "cell_type": "code",
      "source": [
        "import numpy as np\n",
        "np.histogram(df.horsepower, bins=3)"
      ],
      "metadata": {
        "colab": {
          "base_uri": "https://localhost:8080/"
        },
        "id": "A71S5DajnvKQ",
        "outputId": "3a4b2e02-fa85-44f7-ca87-6759a6b2e76b"
      },
      "execution_count": null,
      "outputs": [
        {
          "output_type": "execute_result",
          "data": {
            "text/plain": [
              "(array([257, 103,  32]),\n",
              " array([ 46.        , 107.33333333, 168.66666667, 230.        ]))"
            ]
          },
          "metadata": {},
          "execution_count": 44
        }
      ]
    },
    {
      "cell_type": "code",
      "source": [
        "# bins : 구간 분할 개수 \n",
        "count, bin_dividers = np.histogram(df.horsepower, bins=3)"
      ],
      "metadata": {
        "id": "lrW5BsW9gg_7"
      },
      "execution_count": null,
      "outputs": []
    },
    {
      "cell_type": "code",
      "source": [
        "count"
      ],
      "metadata": {
        "colab": {
          "base_uri": "https://localhost:8080/"
        },
        "id": "5AK-joykjBeJ",
        "outputId": "7820c682-f6fa-43f3-80a1-f11bb7d1a080"
      },
      "execution_count": null,
      "outputs": [
        {
          "output_type": "execute_result",
          "data": {
            "text/plain": [
              "array([257, 103,  32])"
            ]
          },
          "metadata": {},
          "execution_count": 47
        }
      ]
    },
    {
      "cell_type": "code",
      "source": [
        "bin_dividers"
      ],
      "metadata": {
        "colab": {
          "base_uri": "https://localhost:8080/"
        },
        "id": "wJ3X9q5BkH3X",
        "outputId": "f4e7918a-8735-43fc-b293-13e328af07c1"
      },
      "execution_count": null,
      "outputs": [
        {
          "output_type": "execute_result",
          "data": {
            "text/plain": [
              "array([ 46.        , 107.33333333, 168.66666667, 230.        ])"
            ]
          },
          "metadata": {},
          "execution_count": 48
        }
      ]
    },
    {
      "cell_type": "code",
      "source": [
        "print(df.horsepower.min())\n",
        "print(df.horsepower.max())"
      ],
      "metadata": {
        "colab": {
          "base_uri": "https://localhost:8080/"
        },
        "id": "pXNJ6xMNjBoC",
        "outputId": "a1864bae-e82d-4358-d310-b825dd6f5bd4"
      },
      "execution_count": null,
      "outputs": [
        {
          "output_type": "stream",
          "name": "stdout",
          "text": [
            "46.0\n",
            "230.0\n"
          ]
        }
      ]
    },
    {
      "cell_type": "code",
      "source": [
        "# 3개의 bin에 이름 지정\n",
        "bin_names = ['저출력', '보통출력', '고출력']"
      ],
      "metadata": {
        "id": "SHMFrRn-pmJF"
      },
      "execution_count": null,
      "outputs": []
    },
    {
      "cell_type": "code",
      "source": [
        "# pd.cut 함수로 각 데이터를 3개의 bin에 할당\n",
        "df['hp_bin'] = pd.cut(x=df.horsepower, \n",
        "                      bins = bin_dividers, #bins : 경계값 옵션\n",
        "                      labels= bin_names, #labels : bin에 이름 붙이기                \n",
        "                      include_lowest=True) #include_lowest : 첫 경계값 포함 옵션"
      ],
      "metadata": {
        "id": "M458VDa1pmMq"
      },
      "execution_count": null,
      "outputs": []
    },
    {
      "cell_type": "code",
      "source": [
        "# hp_bin 열 확인\n",
        "df"
      ],
      "metadata": {
        "colab": {
          "base_uri": "https://localhost:8080/",
          "height": 424
        },
        "id": "mRxor5oopmQh",
        "outputId": "634209e8-97d4-4ff1-ae2f-865014038883"
      },
      "execution_count": null,
      "outputs": [
        {
          "output_type": "execute_result",
          "data": {
            "text/plain": [
              "      mpg  cylinders  displacement  horsepower  weight  acceleration  \\\n",
              "0    18.0          8         307.0       130.0  3504.0          12.0   \n",
              "1    15.0          8         350.0       165.0  3693.0          11.5   \n",
              "2    18.0          8         318.0       150.0  3436.0          11.0   \n",
              "3    16.0          8         304.0       150.0  3433.0          12.0   \n",
              "4    17.0          8         302.0       140.0  3449.0          10.5   \n",
              "..    ...        ...           ...         ...     ...           ...   \n",
              "393  27.0          4         140.0        86.0  2790.0          15.6   \n",
              "394  44.0          4          97.0        52.0  2130.0          24.6   \n",
              "395  32.0          4         135.0        84.0  2295.0          11.6   \n",
              "396  28.0          4         120.0        79.0  2625.0          18.6   \n",
              "397  31.0          4         119.0        82.0  2720.0          19.4   \n",
              "\n",
              "     model year  origin                       name hp_bin  \n",
              "0            70       1  chevrolet chevelle malibu   보통출력  \n",
              "1            70       1          buick skylark 320   보통출력  \n",
              "2            70       1         plymouth satellite   보통출력  \n",
              "3            70       1              amc rebel sst   보통출력  \n",
              "4            70       1                ford torino   보통출력  \n",
              "..          ...     ...                        ...    ...  \n",
              "393          82       1            ford mustang gl    저출력  \n",
              "394          82       2                  vw pickup    저출력  \n",
              "395          82       1              dodge rampage    저출력  \n",
              "396          82       1                ford ranger    저출력  \n",
              "397          82       1                 chevy s-10    저출력  \n",
              "\n",
              "[392 rows x 10 columns]"
            ],
            "text/html": [
              "\n",
              "  <div id=\"df-cc2239b8-57c5-4429-ade6-caf9f58ff6f3\">\n",
              "    <div class=\"colab-df-container\">\n",
              "      <div>\n",
              "<style scoped>\n",
              "    .dataframe tbody tr th:only-of-type {\n",
              "        vertical-align: middle;\n",
              "    }\n",
              "\n",
              "    .dataframe tbody tr th {\n",
              "        vertical-align: top;\n",
              "    }\n",
              "\n",
              "    .dataframe thead th {\n",
              "        text-align: right;\n",
              "    }\n",
              "</style>\n",
              "<table border=\"1\" class=\"dataframe\">\n",
              "  <thead>\n",
              "    <tr style=\"text-align: right;\">\n",
              "      <th></th>\n",
              "      <th>mpg</th>\n",
              "      <th>cylinders</th>\n",
              "      <th>displacement</th>\n",
              "      <th>horsepower</th>\n",
              "      <th>weight</th>\n",
              "      <th>acceleration</th>\n",
              "      <th>model year</th>\n",
              "      <th>origin</th>\n",
              "      <th>name</th>\n",
              "      <th>hp_bin</th>\n",
              "    </tr>\n",
              "  </thead>\n",
              "  <tbody>\n",
              "    <tr>\n",
              "      <th>0</th>\n",
              "      <td>18.0</td>\n",
              "      <td>8</td>\n",
              "      <td>307.0</td>\n",
              "      <td>130.0</td>\n",
              "      <td>3504.0</td>\n",
              "      <td>12.0</td>\n",
              "      <td>70</td>\n",
              "      <td>1</td>\n",
              "      <td>chevrolet chevelle malibu</td>\n",
              "      <td>보통출력</td>\n",
              "    </tr>\n",
              "    <tr>\n",
              "      <th>1</th>\n",
              "      <td>15.0</td>\n",
              "      <td>8</td>\n",
              "      <td>350.0</td>\n",
              "      <td>165.0</td>\n",
              "      <td>3693.0</td>\n",
              "      <td>11.5</td>\n",
              "      <td>70</td>\n",
              "      <td>1</td>\n",
              "      <td>buick skylark 320</td>\n",
              "      <td>보통출력</td>\n",
              "    </tr>\n",
              "    <tr>\n",
              "      <th>2</th>\n",
              "      <td>18.0</td>\n",
              "      <td>8</td>\n",
              "      <td>318.0</td>\n",
              "      <td>150.0</td>\n",
              "      <td>3436.0</td>\n",
              "      <td>11.0</td>\n",
              "      <td>70</td>\n",
              "      <td>1</td>\n",
              "      <td>plymouth satellite</td>\n",
              "      <td>보통출력</td>\n",
              "    </tr>\n",
              "    <tr>\n",
              "      <th>3</th>\n",
              "      <td>16.0</td>\n",
              "      <td>8</td>\n",
              "      <td>304.0</td>\n",
              "      <td>150.0</td>\n",
              "      <td>3433.0</td>\n",
              "      <td>12.0</td>\n",
              "      <td>70</td>\n",
              "      <td>1</td>\n",
              "      <td>amc rebel sst</td>\n",
              "      <td>보통출력</td>\n",
              "    </tr>\n",
              "    <tr>\n",
              "      <th>4</th>\n",
              "      <td>17.0</td>\n",
              "      <td>8</td>\n",
              "      <td>302.0</td>\n",
              "      <td>140.0</td>\n",
              "      <td>3449.0</td>\n",
              "      <td>10.5</td>\n",
              "      <td>70</td>\n",
              "      <td>1</td>\n",
              "      <td>ford torino</td>\n",
              "      <td>보통출력</td>\n",
              "    </tr>\n",
              "    <tr>\n",
              "      <th>...</th>\n",
              "      <td>...</td>\n",
              "      <td>...</td>\n",
              "      <td>...</td>\n",
              "      <td>...</td>\n",
              "      <td>...</td>\n",
              "      <td>...</td>\n",
              "      <td>...</td>\n",
              "      <td>...</td>\n",
              "      <td>...</td>\n",
              "      <td>...</td>\n",
              "    </tr>\n",
              "    <tr>\n",
              "      <th>393</th>\n",
              "      <td>27.0</td>\n",
              "      <td>4</td>\n",
              "      <td>140.0</td>\n",
              "      <td>86.0</td>\n",
              "      <td>2790.0</td>\n",
              "      <td>15.6</td>\n",
              "      <td>82</td>\n",
              "      <td>1</td>\n",
              "      <td>ford mustang gl</td>\n",
              "      <td>저출력</td>\n",
              "    </tr>\n",
              "    <tr>\n",
              "      <th>394</th>\n",
              "      <td>44.0</td>\n",
              "      <td>4</td>\n",
              "      <td>97.0</td>\n",
              "      <td>52.0</td>\n",
              "      <td>2130.0</td>\n",
              "      <td>24.6</td>\n",
              "      <td>82</td>\n",
              "      <td>2</td>\n",
              "      <td>vw pickup</td>\n",
              "      <td>저출력</td>\n",
              "    </tr>\n",
              "    <tr>\n",
              "      <th>395</th>\n",
              "      <td>32.0</td>\n",
              "      <td>4</td>\n",
              "      <td>135.0</td>\n",
              "      <td>84.0</td>\n",
              "      <td>2295.0</td>\n",
              "      <td>11.6</td>\n",
              "      <td>82</td>\n",
              "      <td>1</td>\n",
              "      <td>dodge rampage</td>\n",
              "      <td>저출력</td>\n",
              "    </tr>\n",
              "    <tr>\n",
              "      <th>396</th>\n",
              "      <td>28.0</td>\n",
              "      <td>4</td>\n",
              "      <td>120.0</td>\n",
              "      <td>79.0</td>\n",
              "      <td>2625.0</td>\n",
              "      <td>18.6</td>\n",
              "      <td>82</td>\n",
              "      <td>1</td>\n",
              "      <td>ford ranger</td>\n",
              "      <td>저출력</td>\n",
              "    </tr>\n",
              "    <tr>\n",
              "      <th>397</th>\n",
              "      <td>31.0</td>\n",
              "      <td>4</td>\n",
              "      <td>119.0</td>\n",
              "      <td>82.0</td>\n",
              "      <td>2720.0</td>\n",
              "      <td>19.4</td>\n",
              "      <td>82</td>\n",
              "      <td>1</td>\n",
              "      <td>chevy s-10</td>\n",
              "      <td>저출력</td>\n",
              "    </tr>\n",
              "  </tbody>\n",
              "</table>\n",
              "<p>392 rows × 10 columns</p>\n",
              "</div>\n",
              "      <button class=\"colab-df-convert\" onclick=\"convertToInteractive('df-cc2239b8-57c5-4429-ade6-caf9f58ff6f3')\"\n",
              "              title=\"Convert this dataframe to an interactive table.\"\n",
              "              style=\"display:none;\">\n",
              "        \n",
              "  <svg xmlns=\"http://www.w3.org/2000/svg\" height=\"24px\"viewBox=\"0 0 24 24\"\n",
              "       width=\"24px\">\n",
              "    <path d=\"M0 0h24v24H0V0z\" fill=\"none\"/>\n",
              "    <path d=\"M18.56 5.44l.94 2.06.94-2.06 2.06-.94-2.06-.94-.94-2.06-.94 2.06-2.06.94zm-11 1L8.5 8.5l.94-2.06 2.06-.94-2.06-.94L8.5 2.5l-.94 2.06-2.06.94zm10 10l.94 2.06.94-2.06 2.06-.94-2.06-.94-.94-2.06-.94 2.06-2.06.94z\"/><path d=\"M17.41 7.96l-1.37-1.37c-.4-.4-.92-.59-1.43-.59-.52 0-1.04.2-1.43.59L10.3 9.45l-7.72 7.72c-.78.78-.78 2.05 0 2.83L4 21.41c.39.39.9.59 1.41.59.51 0 1.02-.2 1.41-.59l7.78-7.78 2.81-2.81c.8-.78.8-2.07 0-2.86zM5.41 20L4 18.59l7.72-7.72 1.47 1.35L5.41 20z\"/>\n",
              "  </svg>\n",
              "      </button>\n",
              "      \n",
              "  <style>\n",
              "    .colab-df-container {\n",
              "      display:flex;\n",
              "      flex-wrap:wrap;\n",
              "      gap: 12px;\n",
              "    }\n",
              "\n",
              "    .colab-df-convert {\n",
              "      background-color: #E8F0FE;\n",
              "      border: none;\n",
              "      border-radius: 50%;\n",
              "      cursor: pointer;\n",
              "      display: none;\n",
              "      fill: #1967D2;\n",
              "      height: 32px;\n",
              "      padding: 0 0 0 0;\n",
              "      width: 32px;\n",
              "    }\n",
              "\n",
              "    .colab-df-convert:hover {\n",
              "      background-color: #E2EBFA;\n",
              "      box-shadow: 0px 1px 2px rgba(60, 64, 67, 0.3), 0px 1px 3px 1px rgba(60, 64, 67, 0.15);\n",
              "      fill: #174EA6;\n",
              "    }\n",
              "\n",
              "    [theme=dark] .colab-df-convert {\n",
              "      background-color: #3B4455;\n",
              "      fill: #D2E3FC;\n",
              "    }\n",
              "\n",
              "    [theme=dark] .colab-df-convert:hover {\n",
              "      background-color: #434B5C;\n",
              "      box-shadow: 0px 1px 3px 1px rgba(0, 0, 0, 0.15);\n",
              "      filter: drop-shadow(0px 1px 2px rgba(0, 0, 0, 0.3));\n",
              "      fill: #FFFFFF;\n",
              "    }\n",
              "  </style>\n",
              "\n",
              "      <script>\n",
              "        const buttonEl =\n",
              "          document.querySelector('#df-cc2239b8-57c5-4429-ade6-caf9f58ff6f3 button.colab-df-convert');\n",
              "        buttonEl.style.display =\n",
              "          google.colab.kernel.accessAllowed ? 'block' : 'none';\n",
              "\n",
              "        async function convertToInteractive(key) {\n",
              "          const element = document.querySelector('#df-cc2239b8-57c5-4429-ade6-caf9f58ff6f3');\n",
              "          const dataTable =\n",
              "            await google.colab.kernel.invokeFunction('convertToInteractive',\n",
              "                                                     [key], {});\n",
              "          if (!dataTable) return;\n",
              "\n",
              "          const docLinkHtml = 'Like what you see? Visit the ' +\n",
              "            '<a target=\"_blank\" href=https://colab.research.google.com/notebooks/data_table.ipynb>data table notebook</a>'\n",
              "            + ' to learn more about interactive tables.';\n",
              "          element.innerHTML = '';\n",
              "          dataTable['output_type'] = 'display_data';\n",
              "          await google.colab.output.renderOutput(dataTable, element);\n",
              "          const docLink = document.createElement('div');\n",
              "          docLink.innerHTML = docLinkHtml;\n",
              "          element.appendChild(docLink);\n",
              "        }\n",
              "      </script>\n",
              "    </div>\n",
              "  </div>\n",
              "  "
            ]
          },
          "metadata": {},
          "execution_count": 61
        }
      ]
    },
    {
      "cell_type": "markdown",
      "source": [
        "### 더미 변수\n"
      ],
      "metadata": {
        "id": "85w-pC6lxEFf"
      }
    },
    {
      "cell_type": "markdown",
      "source": [
        "* 앞에서 변경한 범주형 데이터는 머신러닝 알고리즘에 바로 사용할 수 없음\n",
        "* 컴퓨터가 인식 가능한 값으로 변환 필요\n",
        "* 이럴 때 숫자 0 또는 1로 표현되는 더미 변수(dummy variable)를 사용\n",
        "* 0, 1은 수의 크고 작음을 나타내는 것이 아니라 어떤 특성(feature) 여부만 표시"
      ],
      "metadata": {
        "id": "lvzby2RexHu4"
      }
    },
    {
      "cell_type": "code",
      "source": [
        "# hp_bin 열의 범주형 데이터를 더미 변수로 변환\n",
        "pd.get_dummies(df.hp_bin)"
      ],
      "metadata": {
        "colab": {
          "base_uri": "https://localhost:8080/",
          "height": 424
        },
        "id": "y3MV4sfVpmTo",
        "outputId": "27a14286-2768-41d0-82cf-d69ae491c87d"
      },
      "execution_count": null,
      "outputs": [
        {
          "output_type": "execute_result",
          "data": {
            "text/plain": [
              "     저출력  보통출력  고출력\n",
              "0      0     1    0\n",
              "1      0     1    0\n",
              "2      0     1    0\n",
              "3      0     1    0\n",
              "4      0     1    0\n",
              "..   ...   ...  ...\n",
              "393    1     0    0\n",
              "394    1     0    0\n",
              "395    1     0    0\n",
              "396    1     0    0\n",
              "397    1     0    0\n",
              "\n",
              "[392 rows x 3 columns]"
            ],
            "text/html": [
              "\n",
              "  <div id=\"df-09d82744-de1e-4a98-9d21-7fa1119122f1\">\n",
              "    <div class=\"colab-df-container\">\n",
              "      <div>\n",
              "<style scoped>\n",
              "    .dataframe tbody tr th:only-of-type {\n",
              "        vertical-align: middle;\n",
              "    }\n",
              "\n",
              "    .dataframe tbody tr th {\n",
              "        vertical-align: top;\n",
              "    }\n",
              "\n",
              "    .dataframe thead th {\n",
              "        text-align: right;\n",
              "    }\n",
              "</style>\n",
              "<table border=\"1\" class=\"dataframe\">\n",
              "  <thead>\n",
              "    <tr style=\"text-align: right;\">\n",
              "      <th></th>\n",
              "      <th>저출력</th>\n",
              "      <th>보통출력</th>\n",
              "      <th>고출력</th>\n",
              "    </tr>\n",
              "  </thead>\n",
              "  <tbody>\n",
              "    <tr>\n",
              "      <th>0</th>\n",
              "      <td>0</td>\n",
              "      <td>1</td>\n",
              "      <td>0</td>\n",
              "    </tr>\n",
              "    <tr>\n",
              "      <th>1</th>\n",
              "      <td>0</td>\n",
              "      <td>1</td>\n",
              "      <td>0</td>\n",
              "    </tr>\n",
              "    <tr>\n",
              "      <th>2</th>\n",
              "      <td>0</td>\n",
              "      <td>1</td>\n",
              "      <td>0</td>\n",
              "    </tr>\n",
              "    <tr>\n",
              "      <th>3</th>\n",
              "      <td>0</td>\n",
              "      <td>1</td>\n",
              "      <td>0</td>\n",
              "    </tr>\n",
              "    <tr>\n",
              "      <th>4</th>\n",
              "      <td>0</td>\n",
              "      <td>1</td>\n",
              "      <td>0</td>\n",
              "    </tr>\n",
              "    <tr>\n",
              "      <th>...</th>\n",
              "      <td>...</td>\n",
              "      <td>...</td>\n",
              "      <td>...</td>\n",
              "    </tr>\n",
              "    <tr>\n",
              "      <th>393</th>\n",
              "      <td>1</td>\n",
              "      <td>0</td>\n",
              "      <td>0</td>\n",
              "    </tr>\n",
              "    <tr>\n",
              "      <th>394</th>\n",
              "      <td>1</td>\n",
              "      <td>0</td>\n",
              "      <td>0</td>\n",
              "    </tr>\n",
              "    <tr>\n",
              "      <th>395</th>\n",
              "      <td>1</td>\n",
              "      <td>0</td>\n",
              "      <td>0</td>\n",
              "    </tr>\n",
              "    <tr>\n",
              "      <th>396</th>\n",
              "      <td>1</td>\n",
              "      <td>0</td>\n",
              "      <td>0</td>\n",
              "    </tr>\n",
              "    <tr>\n",
              "      <th>397</th>\n",
              "      <td>1</td>\n",
              "      <td>0</td>\n",
              "      <td>0</td>\n",
              "    </tr>\n",
              "  </tbody>\n",
              "</table>\n",
              "<p>392 rows × 3 columns</p>\n",
              "</div>\n",
              "      <button class=\"colab-df-convert\" onclick=\"convertToInteractive('df-09d82744-de1e-4a98-9d21-7fa1119122f1')\"\n",
              "              title=\"Convert this dataframe to an interactive table.\"\n",
              "              style=\"display:none;\">\n",
              "        \n",
              "  <svg xmlns=\"http://www.w3.org/2000/svg\" height=\"24px\"viewBox=\"0 0 24 24\"\n",
              "       width=\"24px\">\n",
              "    <path d=\"M0 0h24v24H0V0z\" fill=\"none\"/>\n",
              "    <path d=\"M18.56 5.44l.94 2.06.94-2.06 2.06-.94-2.06-.94-.94-2.06-.94 2.06-2.06.94zm-11 1L8.5 8.5l.94-2.06 2.06-.94-2.06-.94L8.5 2.5l-.94 2.06-2.06.94zm10 10l.94 2.06.94-2.06 2.06-.94-2.06-.94-.94-2.06-.94 2.06-2.06.94z\"/><path d=\"M17.41 7.96l-1.37-1.37c-.4-.4-.92-.59-1.43-.59-.52 0-1.04.2-1.43.59L10.3 9.45l-7.72 7.72c-.78.78-.78 2.05 0 2.83L4 21.41c.39.39.9.59 1.41.59.51 0 1.02-.2 1.41-.59l7.78-7.78 2.81-2.81c.8-.78.8-2.07 0-2.86zM5.41 20L4 18.59l7.72-7.72 1.47 1.35L5.41 20z\"/>\n",
              "  </svg>\n",
              "      </button>\n",
              "      \n",
              "  <style>\n",
              "    .colab-df-container {\n",
              "      display:flex;\n",
              "      flex-wrap:wrap;\n",
              "      gap: 12px;\n",
              "    }\n",
              "\n",
              "    .colab-df-convert {\n",
              "      background-color: #E8F0FE;\n",
              "      border: none;\n",
              "      border-radius: 50%;\n",
              "      cursor: pointer;\n",
              "      display: none;\n",
              "      fill: #1967D2;\n",
              "      height: 32px;\n",
              "      padding: 0 0 0 0;\n",
              "      width: 32px;\n",
              "    }\n",
              "\n",
              "    .colab-df-convert:hover {\n",
              "      background-color: #E2EBFA;\n",
              "      box-shadow: 0px 1px 2px rgba(60, 64, 67, 0.3), 0px 1px 3px 1px rgba(60, 64, 67, 0.15);\n",
              "      fill: #174EA6;\n",
              "    }\n",
              "\n",
              "    [theme=dark] .colab-df-convert {\n",
              "      background-color: #3B4455;\n",
              "      fill: #D2E3FC;\n",
              "    }\n",
              "\n",
              "    [theme=dark] .colab-df-convert:hover {\n",
              "      background-color: #434B5C;\n",
              "      box-shadow: 0px 1px 3px 1px rgba(0, 0, 0, 0.15);\n",
              "      filter: drop-shadow(0px 1px 2px rgba(0, 0, 0, 0.3));\n",
              "      fill: #FFFFFF;\n",
              "    }\n",
              "  </style>\n",
              "\n",
              "      <script>\n",
              "        const buttonEl =\n",
              "          document.querySelector('#df-09d82744-de1e-4a98-9d21-7fa1119122f1 button.colab-df-convert');\n",
              "        buttonEl.style.display =\n",
              "          google.colab.kernel.accessAllowed ? 'block' : 'none';\n",
              "\n",
              "        async function convertToInteractive(key) {\n",
              "          const element = document.querySelector('#df-09d82744-de1e-4a98-9d21-7fa1119122f1');\n",
              "          const dataTable =\n",
              "            await google.colab.kernel.invokeFunction('convertToInteractive',\n",
              "                                                     [key], {});\n",
              "          if (!dataTable) return;\n",
              "\n",
              "          const docLinkHtml = 'Like what you see? Visit the ' +\n",
              "            '<a target=\"_blank\" href=https://colab.research.google.com/notebooks/data_table.ipynb>data table notebook</a>'\n",
              "            + ' to learn more about interactive tables.';\n",
              "          element.innerHTML = '';\n",
              "          dataTable['output_type'] = 'display_data';\n",
              "          await google.colab.output.renderOutput(dataTable, element);\n",
              "          const docLink = document.createElement('div');\n",
              "          docLink.innerHTML = docLinkHtml;\n",
              "          element.appendChild(docLink);\n",
              "        }\n",
              "      </script>\n",
              "    </div>\n",
              "  </div>\n",
              "  "
            ]
          },
          "metadata": {},
          "execution_count": 56
        }
      ]
    },
    {
      "cell_type": "markdown",
      "source": [
        "## 정규화"
      ],
      "metadata": {
        "id": "Ge42I12_yma1"
      }
    },
    {
      "cell_type": "markdown",
      "source": [
        "* 각 변수(열)에 들어 있는 숫자 데이터의 상대적 크기 차이 때문에 머신러닝(회귀) 분석 결과가 달라짐 -> 숫자 데이터의 상대적인 크기 차이 제거 필요\n",
        "* 각 열에 속하는 데이터 값을 동일한 크기 기준으로 나눈 비율로 나타내는 것이 정규화 \n",
        "* 정규화 과정을 거친 데이터의 범위는 0에서 1 또는 -1에서 1"
      ],
      "metadata": {
        "id": "FbtMAOODyocw"
      }
    },
    {
      "cell_type": "markdown",
      "source": [
        "#### 정규화 방법\n",
        "1. 각 변수의 데이터를 해당 열의 최대값으로 나누는 방법 \n",
        "  *  horsepower 열의 최대값은 230인데 최대값을 정규화하면 1 \n",
        "2. 각 변수의 데이터 중 최대값과 최소값을 뺀 값으로 나누는 방법 \n",
        "  * (최대값-데이터) / (최대값-최소값) 계산하면 최대값은 1, 최소값은 0"
      ],
      "metadata": {
        "id": "qwdg_1CJzKjg"
      }
    },
    {
      "cell_type": "code",
      "source": [
        "hp_max = df.horsepower.max()\n",
        "hp_min = df.horsepower.min()"
      ],
      "metadata": {
        "id": "HOlEFnM9ghCj"
      },
      "execution_count": null,
      "outputs": []
    },
    {
      "cell_type": "code",
      "source": [
        "print((df.horsepower/ hp_max).max())\n",
        "print((df.horsepower/ hp_max).min())"
      ],
      "metadata": {
        "colab": {
          "base_uri": "https://localhost:8080/"
        },
        "id": "iG2i0hxcgPZ5",
        "outputId": "a2993465-582c-408f-9572-c262046b1209"
      },
      "execution_count": null,
      "outputs": [
        {
          "output_type": "stream",
          "name": "stdout",
          "text": [
            "1.0\n",
            "0.2\n"
          ]
        }
      ]
    },
    {
      "cell_type": "code",
      "source": [
        "(hp_max - df.horsepower) / (hp_max - hp_min)"
      ],
      "metadata": {
        "colab": {
          "base_uri": "https://localhost:8080/"
        },
        "id": "Fsu03bLJaSpp",
        "outputId": "c689a751-6766-42c0-b15b-f940b45da36b"
      },
      "execution_count": null,
      "outputs": [
        {
          "output_type": "execute_result",
          "data": {
            "text/plain": [
              "0      0.543478\n",
              "1      0.353261\n",
              "2      0.434783\n",
              "3      0.434783\n",
              "4      0.489130\n",
              "         ...   \n",
              "393    0.782609\n",
              "394    0.967391\n",
              "395    0.793478\n",
              "396    0.820652\n",
              "397    0.804348\n",
              "Name: horsepower, Length: 398, dtype: float64"
            ]
          },
          "metadata": {},
          "execution_count": 228
        }
      ]
    },
    {
      "cell_type": "code",
      "source": [
        "print(((hp_max - df.horsepower) / (hp_max - hp_min)).max())\n",
        "print(((hp_max - df.horsepower) / (hp_max - hp_min)).min())"
      ],
      "metadata": {
        "colab": {
          "base_uri": "https://localhost:8080/"
        },
        "id": "p6T56fBK0UFi",
        "outputId": "0d447706-0338-4563-8838-85aae40a83f2"
      },
      "execution_count": null,
      "outputs": [
        {
          "output_type": "stream",
          "name": "stdout",
          "text": [
            "1.0\n",
            "0.0\n"
          ]
        }
      ]
    },
    {
      "cell_type": "markdown",
      "source": [
        "# 시계열 데이터"
      ],
      "metadata": {
        "id": "Nk9hBsJG2HoY"
      }
    },
    {
      "cell_type": "markdown",
      "source": [
        "* 판다스는 주식, 환율 등 금융 데이터를 다루기 위해 개발\n",
        "* 시계열(time series) 데이터를 다루는 여러가지 유용한 기능 제공\n",
        "* 시계열 데이터를 데이터프레임의 행 인덱스로 사용하면 시간으로 기록된 데이터 분석에 매우 편리\n",
        "* 판다스 시간 표시 방식 중 시계열 데이터 표현에 자주 이용되는 두가지 유형\n",
        " * 특정한 시점을 기록하는 Timestamp\n",
        " * 두 시점 사이의 일정한 기간을 나타내는 Period"
      ],
      "metadata": {
        "id": "tB9wr7wZ2Lzn"
      }
    },
    {
      "cell_type": "markdown",
      "source": [
        "#### 다른 자료형을 시계열 객체로 변환"
      ],
      "metadata": {
        "id": "1ZwHcL2H3X7q"
      }
    },
    {
      "cell_type": "markdown",
      "source": [
        "* 문자열을 Timestamp로 변환\n",
        " * 판다스 to_datetime() 함수는 다른 자료형을 판다스 Timestamp를 나타내는 datetime64 자료형으로 변환"
      ],
      "metadata": {
        "id": "yWLNaXhg3doS"
      }
    },
    {
      "cell_type": "code",
      "source": [
        "# stock-data.csv 파일 불러오기\n",
        "df = pd.read_csv('/content/drive/MyDrive/ Encore Prac/stock-data.csv')\n",
        "df.head(5)"
      ],
      "metadata": {
        "colab": {
          "base_uri": "https://localhost:8080/",
          "height": 206
        },
        "id": "eFgvhKZV0UJN",
        "outputId": "438c384e-ccad-45cc-c49f-1f60dc1e8b3f"
      },
      "execution_count": null,
      "outputs": [
        {
          "output_type": "execute_result",
          "data": {
            "text/plain": [
              "         Date  Close  Start   High    Low  Volume\n",
              "0  2018-07-02  10100  10850  10900  10000  137977\n",
              "1  2018-06-29  10700  10550  10900   9990  170253\n",
              "2  2018-06-28  10400  10900  10950  10150  155769\n",
              "3  2018-06-27  10900  10800  11050  10500  133548\n",
              "4  2018-06-26  10800  10900  11000  10700   63039"
            ],
            "text/html": [
              "\n",
              "  <div id=\"df-a4cc340d-fef3-410e-bafc-2040c16b5035\">\n",
              "    <div class=\"colab-df-container\">\n",
              "      <div>\n",
              "<style scoped>\n",
              "    .dataframe tbody tr th:only-of-type {\n",
              "        vertical-align: middle;\n",
              "    }\n",
              "\n",
              "    .dataframe tbody tr th {\n",
              "        vertical-align: top;\n",
              "    }\n",
              "\n",
              "    .dataframe thead th {\n",
              "        text-align: right;\n",
              "    }\n",
              "</style>\n",
              "<table border=\"1\" class=\"dataframe\">\n",
              "  <thead>\n",
              "    <tr style=\"text-align: right;\">\n",
              "      <th></th>\n",
              "      <th>Date</th>\n",
              "      <th>Close</th>\n",
              "      <th>Start</th>\n",
              "      <th>High</th>\n",
              "      <th>Low</th>\n",
              "      <th>Volume</th>\n",
              "    </tr>\n",
              "  </thead>\n",
              "  <tbody>\n",
              "    <tr>\n",
              "      <th>0</th>\n",
              "      <td>2018-07-02</td>\n",
              "      <td>10100</td>\n",
              "      <td>10850</td>\n",
              "      <td>10900</td>\n",
              "      <td>10000</td>\n",
              "      <td>137977</td>\n",
              "    </tr>\n",
              "    <tr>\n",
              "      <th>1</th>\n",
              "      <td>2018-06-29</td>\n",
              "      <td>10700</td>\n",
              "      <td>10550</td>\n",
              "      <td>10900</td>\n",
              "      <td>9990</td>\n",
              "      <td>170253</td>\n",
              "    </tr>\n",
              "    <tr>\n",
              "      <th>2</th>\n",
              "      <td>2018-06-28</td>\n",
              "      <td>10400</td>\n",
              "      <td>10900</td>\n",
              "      <td>10950</td>\n",
              "      <td>10150</td>\n",
              "      <td>155769</td>\n",
              "    </tr>\n",
              "    <tr>\n",
              "      <th>3</th>\n",
              "      <td>2018-06-27</td>\n",
              "      <td>10900</td>\n",
              "      <td>10800</td>\n",
              "      <td>11050</td>\n",
              "      <td>10500</td>\n",
              "      <td>133548</td>\n",
              "    </tr>\n",
              "    <tr>\n",
              "      <th>4</th>\n",
              "      <td>2018-06-26</td>\n",
              "      <td>10800</td>\n",
              "      <td>10900</td>\n",
              "      <td>11000</td>\n",
              "      <td>10700</td>\n",
              "      <td>63039</td>\n",
              "    </tr>\n",
              "  </tbody>\n",
              "</table>\n",
              "</div>\n",
              "      <button class=\"colab-df-convert\" onclick=\"convertToInteractive('df-a4cc340d-fef3-410e-bafc-2040c16b5035')\"\n",
              "              title=\"Convert this dataframe to an interactive table.\"\n",
              "              style=\"display:none;\">\n",
              "        \n",
              "  <svg xmlns=\"http://www.w3.org/2000/svg\" height=\"24px\"viewBox=\"0 0 24 24\"\n",
              "       width=\"24px\">\n",
              "    <path d=\"M0 0h24v24H0V0z\" fill=\"none\"/>\n",
              "    <path d=\"M18.56 5.44l.94 2.06.94-2.06 2.06-.94-2.06-.94-.94-2.06-.94 2.06-2.06.94zm-11 1L8.5 8.5l.94-2.06 2.06-.94-2.06-.94L8.5 2.5l-.94 2.06-2.06.94zm10 10l.94 2.06.94-2.06 2.06-.94-2.06-.94-.94-2.06-.94 2.06-2.06.94z\"/><path d=\"M17.41 7.96l-1.37-1.37c-.4-.4-.92-.59-1.43-.59-.52 0-1.04.2-1.43.59L10.3 9.45l-7.72 7.72c-.78.78-.78 2.05 0 2.83L4 21.41c.39.39.9.59 1.41.59.51 0 1.02-.2 1.41-.59l7.78-7.78 2.81-2.81c.8-.78.8-2.07 0-2.86zM5.41 20L4 18.59l7.72-7.72 1.47 1.35L5.41 20z\"/>\n",
              "  </svg>\n",
              "      </button>\n",
              "      \n",
              "  <style>\n",
              "    .colab-df-container {\n",
              "      display:flex;\n",
              "      flex-wrap:wrap;\n",
              "      gap: 12px;\n",
              "    }\n",
              "\n",
              "    .colab-df-convert {\n",
              "      background-color: #E8F0FE;\n",
              "      border: none;\n",
              "      border-radius: 50%;\n",
              "      cursor: pointer;\n",
              "      display: none;\n",
              "      fill: #1967D2;\n",
              "      height: 32px;\n",
              "      padding: 0 0 0 0;\n",
              "      width: 32px;\n",
              "    }\n",
              "\n",
              "    .colab-df-convert:hover {\n",
              "      background-color: #E2EBFA;\n",
              "      box-shadow: 0px 1px 2px rgba(60, 64, 67, 0.3), 0px 1px 3px 1px rgba(60, 64, 67, 0.15);\n",
              "      fill: #174EA6;\n",
              "    }\n",
              "\n",
              "    [theme=dark] .colab-df-convert {\n",
              "      background-color: #3B4455;\n",
              "      fill: #D2E3FC;\n",
              "    }\n",
              "\n",
              "    [theme=dark] .colab-df-convert:hover {\n",
              "      background-color: #434B5C;\n",
              "      box-shadow: 0px 1px 3px 1px rgba(0, 0, 0, 0.15);\n",
              "      filter: drop-shadow(0px 1px 2px rgba(0, 0, 0, 0.3));\n",
              "      fill: #FFFFFF;\n",
              "    }\n",
              "  </style>\n",
              "\n",
              "      <script>\n",
              "        const buttonEl =\n",
              "          document.querySelector('#df-a4cc340d-fef3-410e-bafc-2040c16b5035 button.colab-df-convert');\n",
              "        buttonEl.style.display =\n",
              "          google.colab.kernel.accessAllowed ? 'block' : 'none';\n",
              "\n",
              "        async function convertToInteractive(key) {\n",
              "          const element = document.querySelector('#df-a4cc340d-fef3-410e-bafc-2040c16b5035');\n",
              "          const dataTable =\n",
              "            await google.colab.kernel.invokeFunction('convertToInteractive',\n",
              "                                                     [key], {});\n",
              "          if (!dataTable) return;\n",
              "\n",
              "          const docLinkHtml = 'Like what you see? Visit the ' +\n",
              "            '<a target=\"_blank\" href=https://colab.research.google.com/notebooks/data_table.ipynb>data table notebook</a>'\n",
              "            + ' to learn more about interactive tables.';\n",
              "          element.innerHTML = '';\n",
              "          dataTable['output_type'] = 'display_data';\n",
              "          await google.colab.output.renderOutput(dataTable, element);\n",
              "          const docLink = document.createElement('div');\n",
              "          docLink.innerHTML = docLinkHtml;\n",
              "          element.appendChild(docLink);\n",
              "        }\n",
              "      </script>\n",
              "    </div>\n",
              "  </div>\n",
              "  "
            ]
          },
          "metadata": {},
          "execution_count": 22
        }
      ]
    },
    {
      "cell_type": "code",
      "source": [
        "# Date 열 데이터 및 타입 확인\n",
        "df.Date"
      ],
      "metadata": {
        "colab": {
          "base_uri": "https://localhost:8080/"
        },
        "id": "Vvx_a8KL2HNo",
        "outputId": "69352e4f-9902-47fd-a865-fd3ab1d93371"
      },
      "execution_count": null,
      "outputs": [
        {
          "output_type": "execute_result",
          "data": {
            "text/plain": [
              "0     2018-07-02\n",
              "1     2018-06-29\n",
              "2     2018-06-28\n",
              "3     2018-06-27\n",
              "4     2018-06-26\n",
              "5     2018-06-25\n",
              "6     2018-06-22\n",
              "7     2018-06-21\n",
              "8     2018-06-20\n",
              "9     2018-06-19\n",
              "10    2018-06-18\n",
              "11    2018-06-15\n",
              "12    2018-06-14\n",
              "13    2018-06-12\n",
              "14    2018-06-11\n",
              "15    2018-06-08\n",
              "16    2018-06-07\n",
              "17    2018-06-05\n",
              "18    2018-06-04\n",
              "19    2018-06-01\n",
              "Name: Date, dtype: object"
            ]
          },
          "metadata": {},
          "execution_count": 23
        }
      ]
    },
    {
      "cell_type": "code",
      "source": [
        "df.dtypes"
      ],
      "metadata": {
        "colab": {
          "base_uri": "https://localhost:8080/"
        },
        "id": "3OBchvFa2HQ-",
        "outputId": "bbb2ab38-4baf-4c70-b863-a84a73856ba3"
      },
      "execution_count": null,
      "outputs": [
        {
          "output_type": "execute_result",
          "data": {
            "text/plain": [
              "Date      object\n",
              "Close      int64\n",
              "Start      int64\n",
              "High       int64\n",
              "Low        int64\n",
              "Volume     int64\n",
              "dtype: object"
            ]
          },
          "metadata": {},
          "execution_count": 26
        }
      ]
    },
    {
      "cell_type": "code",
      "source": [
        "# Date열을 Timestamp 객체로 변경해서 new_Date 열에 저장\n",
        "df['new_Date'] = pd.to_datetime(df.Date) "
      ],
      "metadata": {
        "id": "O9VYrHHT2HVC"
      },
      "execution_count": null,
      "outputs": []
    },
    {
      "cell_type": "code",
      "source": [
        "df.new_Date"
      ],
      "metadata": {
        "colab": {
          "base_uri": "https://localhost:8080/"
        },
        "id": "cYm5hnfb4jpc",
        "outputId": "ffd830f5-38b0-47e7-80e2-5a4004fddf29"
      },
      "execution_count": null,
      "outputs": [
        {
          "output_type": "execute_result",
          "data": {
            "text/plain": [
              "0    2018-07-02\n",
              "1    2018-06-29\n",
              "2    2018-06-28\n",
              "3    2018-06-27\n",
              "4    2018-06-26\n",
              "5    2018-06-25\n",
              "6    2018-06-22\n",
              "7    2018-06-21\n",
              "8    2018-06-20\n",
              "9    2018-06-19\n",
              "10   2018-06-18\n",
              "11   2018-06-15\n",
              "12   2018-06-14\n",
              "13   2018-06-12\n",
              "14   2018-06-11\n",
              "15   2018-06-08\n",
              "16   2018-06-07\n",
              "17   2018-06-05\n",
              "18   2018-06-04\n",
              "19   2018-06-01\n",
              "Name: new_Date, dtype: datetime64[ns]"
            ]
          },
          "metadata": {},
          "execution_count": 331
        }
      ]
    },
    {
      "cell_type": "code",
      "source": [
        "df.new_Date[0]"
      ],
      "metadata": {
        "colab": {
          "base_uri": "https://localhost:8080/"
        },
        "id": "bHy79wQR4jvo",
        "outputId": "1a751b05-f146-459c-c774-e3a1b7fe1a04"
      },
      "execution_count": null,
      "outputs": [
        {
          "output_type": "execute_result",
          "data": {
            "text/plain": [
              "Timestamp('2018-07-02 00:00:00')"
            ]
          },
          "metadata": {},
          "execution_count": 296
        }
      ]
    },
    {
      "cell_type": "code",
      "source": [
        "type(df.new_Date[0])"
      ],
      "metadata": {
        "colab": {
          "base_uri": "https://localhost:8080/"
        },
        "id": "jIlFhLGN5hpp",
        "outputId": "1e0d58c8-eb60-4e6b-87fa-43971b132bf1"
      },
      "execution_count": null,
      "outputs": [
        {
          "output_type": "execute_result",
          "data": {
            "text/plain": [
              "pandas._libs.tslibs.timestamps.Timestamp"
            ]
          },
          "metadata": {},
          "execution_count": 297
        }
      ]
    },
    {
      "cell_type": "code",
      "source": [
        "# index를 new_Date로 변경\n",
        "df.set_index('new_Date', inplace=True)"
      ],
      "metadata": {
        "id": "eGgypHt05hsY"
      },
      "execution_count": null,
      "outputs": []
    },
    {
      "cell_type": "code",
      "source": [
        "# Date 열 삭제\n",
        "df.drop('Date', axis=1)"
      ],
      "metadata": {
        "colab": {
          "base_uri": "https://localhost:8080/",
          "height": 676
        },
        "id": "tIV9h0gG6SV4",
        "outputId": "6725b823-fd4d-4750-fa91-f48ce45e23c8"
      },
      "execution_count": null,
      "outputs": [
        {
          "output_type": "execute_result",
          "data": {
            "text/plain": [
              "    Close  Start   High    Low  Volume   new_Date\n",
              "0   10100  10850  10900  10000  137977 2018-07-02\n",
              "1   10700  10550  10900   9990  170253 2018-06-29\n",
              "2   10400  10900  10950  10150  155769 2018-06-28\n",
              "3   10900  10800  11050  10500  133548 2018-06-27\n",
              "4   10800  10900  11000  10700   63039 2018-06-26\n",
              "5   11150  11400  11450  11000   55519 2018-06-25\n",
              "6   11300  11250  11450  10750  134805 2018-06-22\n",
              "7   11200  11350  11750  11200  133002 2018-06-21\n",
              "8   11550  11200  11600  10900  308596 2018-06-20\n",
              "9   11300  11850  11950  11300  180656 2018-06-19\n",
              "10  12000  13400  13400  12000  309787 2018-06-18\n",
              "11  13400  13600  13600  12900  201376 2018-06-15\n",
              "12  13450  13200  13700  13150  347451 2018-06-14\n",
              "13  13200  12200  13300  12050  558148 2018-06-12\n",
              "14  11950  12000  12250  11950   62293 2018-06-11\n",
              "15  11950  11950  12200  11800   59258 2018-06-08\n",
              "16  11950  12200  12300  11900   49088 2018-06-07\n",
              "17  12150  11800  12250  11800   42485 2018-06-05\n",
              "18  11900  11900  12200  11700   25171 2018-06-04\n",
              "19  11900  11800  12100  11750   32062 2018-06-01"
            ],
            "text/html": [
              "\n",
              "  <div id=\"df-6de346b3-eb29-4e2d-afed-5a4e83da9176\">\n",
              "    <div class=\"colab-df-container\">\n",
              "      <div>\n",
              "<style scoped>\n",
              "    .dataframe tbody tr th:only-of-type {\n",
              "        vertical-align: middle;\n",
              "    }\n",
              "\n",
              "    .dataframe tbody tr th {\n",
              "        vertical-align: top;\n",
              "    }\n",
              "\n",
              "    .dataframe thead th {\n",
              "        text-align: right;\n",
              "    }\n",
              "</style>\n",
              "<table border=\"1\" class=\"dataframe\">\n",
              "  <thead>\n",
              "    <tr style=\"text-align: right;\">\n",
              "      <th></th>\n",
              "      <th>Close</th>\n",
              "      <th>Start</th>\n",
              "      <th>High</th>\n",
              "      <th>Low</th>\n",
              "      <th>Volume</th>\n",
              "      <th>new_Date</th>\n",
              "    </tr>\n",
              "  </thead>\n",
              "  <tbody>\n",
              "    <tr>\n",
              "      <th>0</th>\n",
              "      <td>10100</td>\n",
              "      <td>10850</td>\n",
              "      <td>10900</td>\n",
              "      <td>10000</td>\n",
              "      <td>137977</td>\n",
              "      <td>2018-07-02</td>\n",
              "    </tr>\n",
              "    <tr>\n",
              "      <th>1</th>\n",
              "      <td>10700</td>\n",
              "      <td>10550</td>\n",
              "      <td>10900</td>\n",
              "      <td>9990</td>\n",
              "      <td>170253</td>\n",
              "      <td>2018-06-29</td>\n",
              "    </tr>\n",
              "    <tr>\n",
              "      <th>2</th>\n",
              "      <td>10400</td>\n",
              "      <td>10900</td>\n",
              "      <td>10950</td>\n",
              "      <td>10150</td>\n",
              "      <td>155769</td>\n",
              "      <td>2018-06-28</td>\n",
              "    </tr>\n",
              "    <tr>\n",
              "      <th>3</th>\n",
              "      <td>10900</td>\n",
              "      <td>10800</td>\n",
              "      <td>11050</td>\n",
              "      <td>10500</td>\n",
              "      <td>133548</td>\n",
              "      <td>2018-06-27</td>\n",
              "    </tr>\n",
              "    <tr>\n",
              "      <th>4</th>\n",
              "      <td>10800</td>\n",
              "      <td>10900</td>\n",
              "      <td>11000</td>\n",
              "      <td>10700</td>\n",
              "      <td>63039</td>\n",
              "      <td>2018-06-26</td>\n",
              "    </tr>\n",
              "    <tr>\n",
              "      <th>5</th>\n",
              "      <td>11150</td>\n",
              "      <td>11400</td>\n",
              "      <td>11450</td>\n",
              "      <td>11000</td>\n",
              "      <td>55519</td>\n",
              "      <td>2018-06-25</td>\n",
              "    </tr>\n",
              "    <tr>\n",
              "      <th>6</th>\n",
              "      <td>11300</td>\n",
              "      <td>11250</td>\n",
              "      <td>11450</td>\n",
              "      <td>10750</td>\n",
              "      <td>134805</td>\n",
              "      <td>2018-06-22</td>\n",
              "    </tr>\n",
              "    <tr>\n",
              "      <th>7</th>\n",
              "      <td>11200</td>\n",
              "      <td>11350</td>\n",
              "      <td>11750</td>\n",
              "      <td>11200</td>\n",
              "      <td>133002</td>\n",
              "      <td>2018-06-21</td>\n",
              "    </tr>\n",
              "    <tr>\n",
              "      <th>8</th>\n",
              "      <td>11550</td>\n",
              "      <td>11200</td>\n",
              "      <td>11600</td>\n",
              "      <td>10900</td>\n",
              "      <td>308596</td>\n",
              "      <td>2018-06-20</td>\n",
              "    </tr>\n",
              "    <tr>\n",
              "      <th>9</th>\n",
              "      <td>11300</td>\n",
              "      <td>11850</td>\n",
              "      <td>11950</td>\n",
              "      <td>11300</td>\n",
              "      <td>180656</td>\n",
              "      <td>2018-06-19</td>\n",
              "    </tr>\n",
              "    <tr>\n",
              "      <th>10</th>\n",
              "      <td>12000</td>\n",
              "      <td>13400</td>\n",
              "      <td>13400</td>\n",
              "      <td>12000</td>\n",
              "      <td>309787</td>\n",
              "      <td>2018-06-18</td>\n",
              "    </tr>\n",
              "    <tr>\n",
              "      <th>11</th>\n",
              "      <td>13400</td>\n",
              "      <td>13600</td>\n",
              "      <td>13600</td>\n",
              "      <td>12900</td>\n",
              "      <td>201376</td>\n",
              "      <td>2018-06-15</td>\n",
              "    </tr>\n",
              "    <tr>\n",
              "      <th>12</th>\n",
              "      <td>13450</td>\n",
              "      <td>13200</td>\n",
              "      <td>13700</td>\n",
              "      <td>13150</td>\n",
              "      <td>347451</td>\n",
              "      <td>2018-06-14</td>\n",
              "    </tr>\n",
              "    <tr>\n",
              "      <th>13</th>\n",
              "      <td>13200</td>\n",
              "      <td>12200</td>\n",
              "      <td>13300</td>\n",
              "      <td>12050</td>\n",
              "      <td>558148</td>\n",
              "      <td>2018-06-12</td>\n",
              "    </tr>\n",
              "    <tr>\n",
              "      <th>14</th>\n",
              "      <td>11950</td>\n",
              "      <td>12000</td>\n",
              "      <td>12250</td>\n",
              "      <td>11950</td>\n",
              "      <td>62293</td>\n",
              "      <td>2018-06-11</td>\n",
              "    </tr>\n",
              "    <tr>\n",
              "      <th>15</th>\n",
              "      <td>11950</td>\n",
              "      <td>11950</td>\n",
              "      <td>12200</td>\n",
              "      <td>11800</td>\n",
              "      <td>59258</td>\n",
              "      <td>2018-06-08</td>\n",
              "    </tr>\n",
              "    <tr>\n",
              "      <th>16</th>\n",
              "      <td>11950</td>\n",
              "      <td>12200</td>\n",
              "      <td>12300</td>\n",
              "      <td>11900</td>\n",
              "      <td>49088</td>\n",
              "      <td>2018-06-07</td>\n",
              "    </tr>\n",
              "    <tr>\n",
              "      <th>17</th>\n",
              "      <td>12150</td>\n",
              "      <td>11800</td>\n",
              "      <td>12250</td>\n",
              "      <td>11800</td>\n",
              "      <td>42485</td>\n",
              "      <td>2018-06-05</td>\n",
              "    </tr>\n",
              "    <tr>\n",
              "      <th>18</th>\n",
              "      <td>11900</td>\n",
              "      <td>11900</td>\n",
              "      <td>12200</td>\n",
              "      <td>11700</td>\n",
              "      <td>25171</td>\n",
              "      <td>2018-06-04</td>\n",
              "    </tr>\n",
              "    <tr>\n",
              "      <th>19</th>\n",
              "      <td>11900</td>\n",
              "      <td>11800</td>\n",
              "      <td>12100</td>\n",
              "      <td>11750</td>\n",
              "      <td>32062</td>\n",
              "      <td>2018-06-01</td>\n",
              "    </tr>\n",
              "  </tbody>\n",
              "</table>\n",
              "</div>\n",
              "      <button class=\"colab-df-convert\" onclick=\"convertToInteractive('df-6de346b3-eb29-4e2d-afed-5a4e83da9176')\"\n",
              "              title=\"Convert this dataframe to an interactive table.\"\n",
              "              style=\"display:none;\">\n",
              "        \n",
              "  <svg xmlns=\"http://www.w3.org/2000/svg\" height=\"24px\"viewBox=\"0 0 24 24\"\n",
              "       width=\"24px\">\n",
              "    <path d=\"M0 0h24v24H0V0z\" fill=\"none\"/>\n",
              "    <path d=\"M18.56 5.44l.94 2.06.94-2.06 2.06-.94-2.06-.94-.94-2.06-.94 2.06-2.06.94zm-11 1L8.5 8.5l.94-2.06 2.06-.94-2.06-.94L8.5 2.5l-.94 2.06-2.06.94zm10 10l.94 2.06.94-2.06 2.06-.94-2.06-.94-.94-2.06-.94 2.06-2.06.94z\"/><path d=\"M17.41 7.96l-1.37-1.37c-.4-.4-.92-.59-1.43-.59-.52 0-1.04.2-1.43.59L10.3 9.45l-7.72 7.72c-.78.78-.78 2.05 0 2.83L4 21.41c.39.39.9.59 1.41.59.51 0 1.02-.2 1.41-.59l7.78-7.78 2.81-2.81c.8-.78.8-2.07 0-2.86zM5.41 20L4 18.59l7.72-7.72 1.47 1.35L5.41 20z\"/>\n",
              "  </svg>\n",
              "      </button>\n",
              "      \n",
              "  <style>\n",
              "    .colab-df-container {\n",
              "      display:flex;\n",
              "      flex-wrap:wrap;\n",
              "      gap: 12px;\n",
              "    }\n",
              "\n",
              "    .colab-df-convert {\n",
              "      background-color: #E8F0FE;\n",
              "      border: none;\n",
              "      border-radius: 50%;\n",
              "      cursor: pointer;\n",
              "      display: none;\n",
              "      fill: #1967D2;\n",
              "      height: 32px;\n",
              "      padding: 0 0 0 0;\n",
              "      width: 32px;\n",
              "    }\n",
              "\n",
              "    .colab-df-convert:hover {\n",
              "      background-color: #E2EBFA;\n",
              "      box-shadow: 0px 1px 2px rgba(60, 64, 67, 0.3), 0px 1px 3px 1px rgba(60, 64, 67, 0.15);\n",
              "      fill: #174EA6;\n",
              "    }\n",
              "\n",
              "    [theme=dark] .colab-df-convert {\n",
              "      background-color: #3B4455;\n",
              "      fill: #D2E3FC;\n",
              "    }\n",
              "\n",
              "    [theme=dark] .colab-df-convert:hover {\n",
              "      background-color: #434B5C;\n",
              "      box-shadow: 0px 1px 3px 1px rgba(0, 0, 0, 0.15);\n",
              "      filter: drop-shadow(0px 1px 2px rgba(0, 0, 0, 0.3));\n",
              "      fill: #FFFFFF;\n",
              "    }\n",
              "  </style>\n",
              "\n",
              "      <script>\n",
              "        const buttonEl =\n",
              "          document.querySelector('#df-6de346b3-eb29-4e2d-afed-5a4e83da9176 button.colab-df-convert');\n",
              "        buttonEl.style.display =\n",
              "          google.colab.kernel.accessAllowed ? 'block' : 'none';\n",
              "\n",
              "        async function convertToInteractive(key) {\n",
              "          const element = document.querySelector('#df-6de346b3-eb29-4e2d-afed-5a4e83da9176');\n",
              "          const dataTable =\n",
              "            await google.colab.kernel.invokeFunction('convertToInteractive',\n",
              "                                                     [key], {});\n",
              "          if (!dataTable) return;\n",
              "\n",
              "          const docLinkHtml = 'Like what you see? Visit the ' +\n",
              "            '<a target=\"_blank\" href=https://colab.research.google.com/notebooks/data_table.ipynb>data table notebook</a>'\n",
              "            + ' to learn more about interactive tables.';\n",
              "          element.innerHTML = '';\n",
              "          dataTable['output_type'] = 'display_data';\n",
              "          await google.colab.output.renderOutput(dataTable, element);\n",
              "          const docLink = document.createElement('div');\n",
              "          docLink.innerHTML = docLinkHtml;\n",
              "          element.appendChild(docLink);\n",
              "        }\n",
              "      </script>\n",
              "    </div>\n",
              "  </div>\n",
              "  "
            ]
          },
          "metadata": {},
          "execution_count": 332
        }
      ]
    },
    {
      "cell_type": "code",
      "source": [
        "df.index"
      ],
      "metadata": {
        "colab": {
          "base_uri": "https://localhost:8080/"
        },
        "id": "7TNvTQBQ6Tl-",
        "outputId": "a375c8ba-f33f-4fc0-9bcd-717c3c4daeae"
      },
      "execution_count": null,
      "outputs": [
        {
          "output_type": "execute_result",
          "data": {
            "text/plain": [
              "DatetimeIndex(['2018-07-02', '2018-06-29', '2018-06-28', '2018-06-27',\n",
              "               '2018-06-26', '2018-06-25', '2018-06-22', '2018-06-21',\n",
              "               '2018-06-20', '2018-06-19', '2018-06-18', '2018-06-15',\n",
              "               '2018-06-14', '2018-06-12', '2018-06-11', '2018-06-08',\n",
              "               '2018-06-07', '2018-06-05', '2018-06-04', '2018-06-01'],\n",
              "              dtype='datetime64[ns]', name='new_Date', freq=None)"
            ]
          },
          "metadata": {},
          "execution_count": 300
        }
      ]
    },
    {
      "cell_type": "markdown",
      "source": [
        "* Timestamp를 Period로 변환\n",
        " * 판다스 to_period는 일정한 기간을 나타내는 Period 객체로 Timestamp 객체를 변환할 수 있음\n",
        " * freq 옵션에 기준이 되는 기간 설정"
      ],
      "metadata": {
        "id": "WkywptJd-sNc"
      }
    },
    {
      "cell_type": "markdown",
      "source": [
        "![image.png](data:image/png;base64,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)"
      ],
      "metadata": {
        "id": "HIDbfElzBs3h"
      }
    },
    {
      "cell_type": "code",
      "source": [
        "#문자열 데이터(시리즈객체)를 판다스 Timestamp로 변환\n",
        "dates = ['2019-01-01', '2020-03-01', '2021-06-01']\n",
        "ts_dates = pd.to_datetime(dates)\n",
        "ts_dates"
      ],
      "metadata": {
        "colab": {
          "base_uri": "https://localhost:8080/"
        },
        "id": "sayaZQKp6SY3",
        "outputId": "f6db303a-6221-4b54-e27c-fd552fb3b45a"
      },
      "execution_count": null,
      "outputs": [
        {
          "output_type": "execute_result",
          "data": {
            "text/plain": [
              "DatetimeIndex(['2019-01-01', '2020-03-01', '2021-06-01'], dtype='datetime64[ns]', freq=None)"
            ]
          },
          "metadata": {},
          "execution_count": 301
        }
      ]
    },
    {
      "cell_type": "code",
      "source": [
        "#Timestamp를 Period로 변환\n",
        "pr_day = ts_dates.to_period(freq='D') #day 옵션(년+월+일)\n",
        "print(pr_day)\n",
        "pr_month = ts_dates.to_period(freq='M') #month 옵션(년+월)\n",
        "print(pr_month)\n",
        "pr_year = ts_dates.to_period(freq='A') #year 옵션(년)\n",
        "print(pr_year)"
      ],
      "metadata": {
        "colab": {
          "base_uri": "https://localhost:8080/"
        },
        "id": "gQB1jQnV-GgG",
        "outputId": "7221d78b-4c7f-4ea6-eebd-c0f97c390798"
      },
      "execution_count": null,
      "outputs": [
        {
          "output_type": "stream",
          "name": "stdout",
          "text": [
            "PeriodIndex(['2019-01-01', '2020-03-01', '2021-06-01'], dtype='period[D]')\n",
            "PeriodIndex(['2019-01', '2020-03', '2021-06'], dtype='period[M]')\n",
            "PeriodIndex(['2019', '2020', '2021'], dtype='period[A-DEC]')\n"
          ]
        }
      ]
    },
    {
      "cell_type": "markdown",
      "source": [
        "#### 시계열 데이터 만들기"
      ],
      "metadata": {
        "id": "d7YqKQIBB8yZ"
      }
    },
    {
      "cell_type": "markdown",
      "source": [
        "* Timestamp 배열은 여러 개의 날짜가 들어 있는 배열 형태의 시계열 데이터 생성\n",
        "* data_range \n",
        " * (start: 날짜 범위의 시작, end: 날짜 범위의 끝, periods: 생성할 타임스템프의 개수, freq : 시간 간격, tz: timezone(Asia/Seoul)"
      ],
      "metadata": {
        "id": "1CmAivkVCA-y"
      }
    },
    {
      "cell_type": "code",
      "source": [
        "# 2022-01-01 부터 월의 첫날짜를 한달 간격으로 6개 생성\n",
        "pd.date_range(start='2022-01-01', periods=6, freq='MS', tz='Asia/Seoul') "
      ],
      "metadata": {
        "colab": {
          "base_uri": "https://localhost:8080/"
        },
        "id": "cIu6eTZD-Gis",
        "outputId": "f8ac1e66-b8c9-4806-cb7a-28c1e1c3c687"
      },
      "execution_count": null,
      "outputs": [
        {
          "output_type": "execute_result",
          "data": {
            "text/plain": [
              "DatetimeIndex(['2022-01-01 00:00:00+09:00', '2022-02-01 00:00:00+09:00',\n",
              "               '2022-03-01 00:00:00+09:00', '2022-04-01 00:00:00+09:00',\n",
              "               '2022-05-01 00:00:00+09:00', '2022-06-01 00:00:00+09:00'],\n",
              "              dtype='datetime64[ns, Asia/Seoul]', freq='MS')"
            ]
          },
          "metadata": {},
          "execution_count": 303
        }
      ]
    },
    {
      "cell_type": "code",
      "source": [
        "# 한달 간격으로 각 달의 마지막 날짜를 6개 생성\n",
        "pd.date_range(start='2022-01-01', periods=6, freq='M') "
      ],
      "metadata": {
        "colab": {
          "base_uri": "https://localhost:8080/"
        },
        "id": "pvZk_J1P_8Ff",
        "outputId": "7d633fdb-9ace-46fd-814a-ab7b9a38efbf"
      },
      "execution_count": null,
      "outputs": [
        {
          "output_type": "execute_result",
          "data": {
            "text/plain": [
              "DatetimeIndex(['2022-01-31', '2022-02-28', '2022-03-31', '2022-04-30',\n",
              "               '2022-05-31', '2022-06-30'],\n",
              "              dtype='datetime64[ns]', freq='M')"
            ]
          },
          "metadata": {},
          "execution_count": 304
        }
      ]
    },
    {
      "cell_type": "code",
      "source": [
        "# 분기(3개월) 간격, 월의 마지막 날짜를 6개 생성\n",
        "pd.date_range(start='2022-01-01', periods=6, freq='3M')  #freq='3M': 해당 날짜를 기준으로 분기 길이를 자유롭게 조정가능"
      ],
      "metadata": {
        "colab": {
          "base_uri": "https://localhost:8080/"
        },
        "id": "SQauG68V_8PP",
        "outputId": "9d23e888-c633-4587-9b44-d45c794a45af"
      },
      "execution_count": null,
      "outputs": [
        {
          "output_type": "execute_result",
          "data": {
            "text/plain": [
              "DatetimeIndex(['2022-01-31', '2022-04-30', '2022-07-31', '2022-10-31',\n",
              "               '2023-01-31', '2023-04-30'],\n",
              "              dtype='datetime64[ns]', freq='3M')"
            ]
          },
          "metadata": {},
          "execution_count": 305
        }
      ]
    },
    {
      "cell_type": "code",
      "source": [
        "pd.date_range(start='2022-01-01', periods=6, freq='Q') # freq='Q': 정해져 있는 분기말 날짜 "
      ],
      "metadata": {
        "colab": {
          "base_uri": "https://localhost:8080/"
        },
        "id": "413h0qVt_8Sw",
        "outputId": "6d9310e5-43ed-4d6e-e2e5-753caea8fdc2"
      },
      "execution_count": null,
      "outputs": [
        {
          "output_type": "execute_result",
          "data": {
            "text/plain": [
              "DatetimeIndex(['2022-03-31', '2022-06-30', '2022-09-30', '2022-12-31',\n",
              "               '2023-03-31', '2023-06-30'],\n",
              "              dtype='datetime64[ns]', freq='Q-DEC')"
            ]
          },
          "metadata": {},
          "execution_count": 306
        }
      ]
    },
    {
      "cell_type": "markdown",
      "source": [
        "* period_range() : 여러 개의 기간이 들어 있는 시계열 데이터 생성"
      ],
      "metadata": {
        "id": "IQQruaXIFWzh"
      }
    },
    {
      "cell_type": "code",
      "source": [
        "#period 배열 만들기 \n",
        "# 2022-01-01부터 한달 길이 객체 3개 생성\n",
        "pd.period_range(start='2022-01-01', periods=3, freq='M') "
      ],
      "metadata": {
        "colab": {
          "base_uri": "https://localhost:8080/"
        },
        "id": "FL_-IpEv5hwh",
        "outputId": "a42cabb5-947f-4835-b3f9-6214912adbd8"
      },
      "execution_count": null,
      "outputs": [
        {
          "output_type": "execute_result",
          "data": {
            "text/plain": [
              "PeriodIndex(['2022-01', '2022-02', '2022-03'], dtype='period[M]')"
            ]
          },
          "metadata": {},
          "execution_count": 307
        }
      ]
    },
    {
      "cell_type": "code",
      "source": [
        "# 2022-01-01부터 2시간 길이 객체 3개 생성\n",
        "pd.period_range(start='2022-01-01', periods=3, freq='2H')"
      ],
      "metadata": {
        "colab": {
          "base_uri": "https://localhost:8080/"
        },
        "id": "pe1EtOt3Fc9o",
        "outputId": "b29c6841-2e85-4575-80af-c3b6ed7cadd0"
      },
      "execution_count": null,
      "outputs": [
        {
          "output_type": "execute_result",
          "data": {
            "text/plain": [
              "PeriodIndex(['2022-01-01 00:00', '2022-01-01 02:00', '2022-01-01 04:00'], dtype='period[2H]')"
            ]
          },
          "metadata": {},
          "execution_count": 308
        }
      ]
    },
    {
      "cell_type": "markdown",
      "source": [
        "#### 날짜 데이터 분리"
      ],
      "metadata": {
        "id": "pruw8YDiY6YA"
      }
    },
    {
      "cell_type": "code",
      "source": [
        "# df의 인덱스 초기화 후 확인\n",
        "df = df.reset_index()\n",
        "df.head(3)"
      ],
      "metadata": {
        "colab": {
          "base_uri": "https://localhost:8080/",
          "height": 143
        },
        "id": "ZXw9J_POFdAk",
        "outputId": "e7481d71-ae29-46d7-f2b4-c5dfb9f1ce47"
      },
      "execution_count": null,
      "outputs": [
        {
          "output_type": "execute_result",
          "data": {
            "text/plain": [
              "   level_0  index   new_Date        Date  Close  Start   High    Low  Volume  \\\n",
              "0        0      0 2018-07-02  2018-07-02  10100  10850  10900  10000  137977   \n",
              "1        1      1 2018-06-29  2018-06-29  10700  10550  10900   9990  170253   \n",
              "2        2      2 2018-06-28  2018-06-28  10400  10900  10950  10150  155769   \n",
              "\n",
              "   year  month  day  \n",
              "0  2018      7    2  \n",
              "1  2018      6   29  \n",
              "2  2018      6   28  "
            ],
            "text/html": [
              "\n",
              "  <div id=\"df-fc68609d-cf2d-4e03-9693-d9c5ef7041f1\">\n",
              "    <div class=\"colab-df-container\">\n",
              "      <div>\n",
              "<style scoped>\n",
              "    .dataframe tbody tr th:only-of-type {\n",
              "        vertical-align: middle;\n",
              "    }\n",
              "\n",
              "    .dataframe tbody tr th {\n",
              "        vertical-align: top;\n",
              "    }\n",
              "\n",
              "    .dataframe thead th {\n",
              "        text-align: right;\n",
              "    }\n",
              "</style>\n",
              "<table border=\"1\" class=\"dataframe\">\n",
              "  <thead>\n",
              "    <tr style=\"text-align: right;\">\n",
              "      <th></th>\n",
              "      <th>level_0</th>\n",
              "      <th>index</th>\n",
              "      <th>new_Date</th>\n",
              "      <th>Date</th>\n",
              "      <th>Close</th>\n",
              "      <th>Start</th>\n",
              "      <th>High</th>\n",
              "      <th>Low</th>\n",
              "      <th>Volume</th>\n",
              "      <th>year</th>\n",
              "      <th>month</th>\n",
              "      <th>day</th>\n",
              "    </tr>\n",
              "  </thead>\n",
              "  <tbody>\n",
              "    <tr>\n",
              "      <th>0</th>\n",
              "      <td>0</td>\n",
              "      <td>0</td>\n",
              "      <td>2018-07-02</td>\n",
              "      <td>2018-07-02</td>\n",
              "      <td>10100</td>\n",
              "      <td>10850</td>\n",
              "      <td>10900</td>\n",
              "      <td>10000</td>\n",
              "      <td>137977</td>\n",
              "      <td>2018</td>\n",
              "      <td>7</td>\n",
              "      <td>2</td>\n",
              "    </tr>\n",
              "    <tr>\n",
              "      <th>1</th>\n",
              "      <td>1</td>\n",
              "      <td>1</td>\n",
              "      <td>2018-06-29</td>\n",
              "      <td>2018-06-29</td>\n",
              "      <td>10700</td>\n",
              "      <td>10550</td>\n",
              "      <td>10900</td>\n",
              "      <td>9990</td>\n",
              "      <td>170253</td>\n",
              "      <td>2018</td>\n",
              "      <td>6</td>\n",
              "      <td>29</td>\n",
              "    </tr>\n",
              "    <tr>\n",
              "      <th>2</th>\n",
              "      <td>2</td>\n",
              "      <td>2</td>\n",
              "      <td>2018-06-28</td>\n",
              "      <td>2018-06-28</td>\n",
              "      <td>10400</td>\n",
              "      <td>10900</td>\n",
              "      <td>10950</td>\n",
              "      <td>10150</td>\n",
              "      <td>155769</td>\n",
              "      <td>2018</td>\n",
              "      <td>6</td>\n",
              "      <td>28</td>\n",
              "    </tr>\n",
              "  </tbody>\n",
              "</table>\n",
              "</div>\n",
              "      <button class=\"colab-df-convert\" onclick=\"convertToInteractive('df-fc68609d-cf2d-4e03-9693-d9c5ef7041f1')\"\n",
              "              title=\"Convert this dataframe to an interactive table.\"\n",
              "              style=\"display:none;\">\n",
              "        \n",
              "  <svg xmlns=\"http://www.w3.org/2000/svg\" height=\"24px\"viewBox=\"0 0 24 24\"\n",
              "       width=\"24px\">\n",
              "    <path d=\"M0 0h24v24H0V0z\" fill=\"none\"/>\n",
              "    <path d=\"M18.56 5.44l.94 2.06.94-2.06 2.06-.94-2.06-.94-.94-2.06-.94 2.06-2.06.94zm-11 1L8.5 8.5l.94-2.06 2.06-.94-2.06-.94L8.5 2.5l-.94 2.06-2.06.94zm10 10l.94 2.06.94-2.06 2.06-.94-2.06-.94-.94-2.06-.94 2.06-2.06.94z\"/><path d=\"M17.41 7.96l-1.37-1.37c-.4-.4-.92-.59-1.43-.59-.52 0-1.04.2-1.43.59L10.3 9.45l-7.72 7.72c-.78.78-.78 2.05 0 2.83L4 21.41c.39.39.9.59 1.41.59.51 0 1.02-.2 1.41-.59l7.78-7.78 2.81-2.81c.8-.78.8-2.07 0-2.86zM5.41 20L4 18.59l7.72-7.72 1.47 1.35L5.41 20z\"/>\n",
              "  </svg>\n",
              "      </button>\n",
              "      \n",
              "  <style>\n",
              "    .colab-df-container {\n",
              "      display:flex;\n",
              "      flex-wrap:wrap;\n",
              "      gap: 12px;\n",
              "    }\n",
              "\n",
              "    .colab-df-convert {\n",
              "      background-color: #E8F0FE;\n",
              "      border: none;\n",
              "      border-radius: 50%;\n",
              "      cursor: pointer;\n",
              "      display: none;\n",
              "      fill: #1967D2;\n",
              "      height: 32px;\n",
              "      padding: 0 0 0 0;\n",
              "      width: 32px;\n",
              "    }\n",
              "\n",
              "    .colab-df-convert:hover {\n",
              "      background-color: #E2EBFA;\n",
              "      box-shadow: 0px 1px 2px rgba(60, 64, 67, 0.3), 0px 1px 3px 1px rgba(60, 64, 67, 0.15);\n",
              "      fill: #174EA6;\n",
              "    }\n",
              "\n",
              "    [theme=dark] .colab-df-convert {\n",
              "      background-color: #3B4455;\n",
              "      fill: #D2E3FC;\n",
              "    }\n",
              "\n",
              "    [theme=dark] .colab-df-convert:hover {\n",
              "      background-color: #434B5C;\n",
              "      box-shadow: 0px 1px 3px 1px rgba(0, 0, 0, 0.15);\n",
              "      filter: drop-shadow(0px 1px 2px rgba(0, 0, 0, 0.3));\n",
              "      fill: #FFFFFF;\n",
              "    }\n",
              "  </style>\n",
              "\n",
              "      <script>\n",
              "        const buttonEl =\n",
              "          document.querySelector('#df-fc68609d-cf2d-4e03-9693-d9c5ef7041f1 button.colab-df-convert');\n",
              "        buttonEl.style.display =\n",
              "          google.colab.kernel.accessAllowed ? 'block' : 'none';\n",
              "\n",
              "        async function convertToInteractive(key) {\n",
              "          const element = document.querySelector('#df-fc68609d-cf2d-4e03-9693-d9c5ef7041f1');\n",
              "          const dataTable =\n",
              "            await google.colab.kernel.invokeFunction('convertToInteractive',\n",
              "                                                     [key], {});\n",
              "          if (!dataTable) return;\n",
              "\n",
              "          const docLinkHtml = 'Like what you see? Visit the ' +\n",
              "            '<a target=\"_blank\" href=https://colab.research.google.com/notebooks/data_table.ipynb>data table notebook</a>'\n",
              "            + ' to learn more about interactive tables.';\n",
              "          element.innerHTML = '';\n",
              "          dataTable['output_type'] = 'display_data';\n",
              "          await google.colab.output.renderOutput(dataTable, element);\n",
              "          const docLink = document.createElement('div');\n",
              "          docLink.innerHTML = docLinkHtml;\n",
              "          element.appendChild(docLink);\n",
              "        }\n",
              "      </script>\n",
              "    </div>\n",
              "  </div>\n",
              "  "
            ]
          },
          "metadata": {},
          "execution_count": 328
        }
      ]
    },
    {
      "cell_type": "code",
      "source": [
        "# Timestamp객체의 연, 월, 일 각각 추축해서 새로운 열 생성\n",
        "df['year'] = df['new_Date'].dt.year\n",
        "df['month'] = df['new_Date'].dt.month\n",
        "df['day'] = df['new_Date'].dt.day"
      ],
      "metadata": {
        "id": "GWR_2qCxGUxT"
      },
      "execution_count": null,
      "outputs": []
    },
    {
      "cell_type": "code",
      "source": [
        "df.head(4)"
      ],
      "metadata": {
        "colab": {
          "base_uri": "https://localhost:8080/",
          "height": 175
        },
        "id": "CZERsDUJYr-R",
        "outputId": "e1b48636-384d-4d10-e9b2-ed4d16a53481"
      },
      "execution_count": null,
      "outputs": [
        {
          "output_type": "execute_result",
          "data": {
            "text/plain": [
              "         Date  Close  Start   High    Low  Volume   new_Date  year  month  day\n",
              "0  2018-07-02  10100  10850  10900  10000  137977 2018-07-02  2018      7    2\n",
              "1  2018-06-29  10700  10550  10900   9990  170253 2018-06-29  2018      6   29\n",
              "2  2018-06-28  10400  10900  10950  10150  155769 2018-06-28  2018      6   28\n",
              "3  2018-06-27  10900  10800  11050  10500  133548 2018-06-27  2018      6   27"
            ],
            "text/html": [
              "\n",
              "  <div id=\"df-a71e9d93-44c4-4dde-8908-14afd5b38ddb\">\n",
              "    <div class=\"colab-df-container\">\n",
              "      <div>\n",
              "<style scoped>\n",
              "    .dataframe tbody tr th:only-of-type {\n",
              "        vertical-align: middle;\n",
              "    }\n",
              "\n",
              "    .dataframe tbody tr th {\n",
              "        vertical-align: top;\n",
              "    }\n",
              "\n",
              "    .dataframe thead th {\n",
              "        text-align: right;\n",
              "    }\n",
              "</style>\n",
              "<table border=\"1\" class=\"dataframe\">\n",
              "  <thead>\n",
              "    <tr style=\"text-align: right;\">\n",
              "      <th></th>\n",
              "      <th>Date</th>\n",
              "      <th>Close</th>\n",
              "      <th>Start</th>\n",
              "      <th>High</th>\n",
              "      <th>Low</th>\n",
              "      <th>Volume</th>\n",
              "      <th>new_Date</th>\n",
              "      <th>year</th>\n",
              "      <th>month</th>\n",
              "      <th>day</th>\n",
              "    </tr>\n",
              "  </thead>\n",
              "  <tbody>\n",
              "    <tr>\n",
              "      <th>0</th>\n",
              "      <td>2018-07-02</td>\n",
              "      <td>10100</td>\n",
              "      <td>10850</td>\n",
              "      <td>10900</td>\n",
              "      <td>10000</td>\n",
              "      <td>137977</td>\n",
              "      <td>2018-07-02</td>\n",
              "      <td>2018</td>\n",
              "      <td>7</td>\n",
              "      <td>2</td>\n",
              "    </tr>\n",
              "    <tr>\n",
              "      <th>1</th>\n",
              "      <td>2018-06-29</td>\n",
              "      <td>10700</td>\n",
              "      <td>10550</td>\n",
              "      <td>10900</td>\n",
              "      <td>9990</td>\n",
              "      <td>170253</td>\n",
              "      <td>2018-06-29</td>\n",
              "      <td>2018</td>\n",
              "      <td>6</td>\n",
              "      <td>29</td>\n",
              "    </tr>\n",
              "    <tr>\n",
              "      <th>2</th>\n",
              "      <td>2018-06-28</td>\n",
              "      <td>10400</td>\n",
              "      <td>10900</td>\n",
              "      <td>10950</td>\n",
              "      <td>10150</td>\n",
              "      <td>155769</td>\n",
              "      <td>2018-06-28</td>\n",
              "      <td>2018</td>\n",
              "      <td>6</td>\n",
              "      <td>28</td>\n",
              "    </tr>\n",
              "    <tr>\n",
              "      <th>3</th>\n",
              "      <td>2018-06-27</td>\n",
              "      <td>10900</td>\n",
              "      <td>10800</td>\n",
              "      <td>11050</td>\n",
              "      <td>10500</td>\n",
              "      <td>133548</td>\n",
              "      <td>2018-06-27</td>\n",
              "      <td>2018</td>\n",
              "      <td>6</td>\n",
              "      <td>27</td>\n",
              "    </tr>\n",
              "  </tbody>\n",
              "</table>\n",
              "</div>\n",
              "      <button class=\"colab-df-convert\" onclick=\"convertToInteractive('df-a71e9d93-44c4-4dde-8908-14afd5b38ddb')\"\n",
              "              title=\"Convert this dataframe to an interactive table.\"\n",
              "              style=\"display:none;\">\n",
              "        \n",
              "  <svg xmlns=\"http://www.w3.org/2000/svg\" height=\"24px\"viewBox=\"0 0 24 24\"\n",
              "       width=\"24px\">\n",
              "    <path d=\"M0 0h24v24H0V0z\" fill=\"none\"/>\n",
              "    <path d=\"M18.56 5.44l.94 2.06.94-2.06 2.06-.94-2.06-.94-.94-2.06-.94 2.06-2.06.94zm-11 1L8.5 8.5l.94-2.06 2.06-.94-2.06-.94L8.5 2.5l-.94 2.06-2.06.94zm10 10l.94 2.06.94-2.06 2.06-.94-2.06-.94-.94-2.06-.94 2.06-2.06.94z\"/><path d=\"M17.41 7.96l-1.37-1.37c-.4-.4-.92-.59-1.43-.59-.52 0-1.04.2-1.43.59L10.3 9.45l-7.72 7.72c-.78.78-.78 2.05 0 2.83L4 21.41c.39.39.9.59 1.41.59.51 0 1.02-.2 1.41-.59l7.78-7.78 2.81-2.81c.8-.78.8-2.07 0-2.86zM5.41 20L4 18.59l7.72-7.72 1.47 1.35L5.41 20z\"/>\n",
              "  </svg>\n",
              "      </button>\n",
              "      \n",
              "  <style>\n",
              "    .colab-df-container {\n",
              "      display:flex;\n",
              "      flex-wrap:wrap;\n",
              "      gap: 12px;\n",
              "    }\n",
              "\n",
              "    .colab-df-convert {\n",
              "      background-color: #E8F0FE;\n",
              "      border: none;\n",
              "      border-radius: 50%;\n",
              "      cursor: pointer;\n",
              "      display: none;\n",
              "      fill: #1967D2;\n",
              "      height: 32px;\n",
              "      padding: 0 0 0 0;\n",
              "      width: 32px;\n",
              "    }\n",
              "\n",
              "    .colab-df-convert:hover {\n",
              "      background-color: #E2EBFA;\n",
              "      box-shadow: 0px 1px 2px rgba(60, 64, 67, 0.3), 0px 1px 3px 1px rgba(60, 64, 67, 0.15);\n",
              "      fill: #174EA6;\n",
              "    }\n",
              "\n",
              "    [theme=dark] .colab-df-convert {\n",
              "      background-color: #3B4455;\n",
              "      fill: #D2E3FC;\n",
              "    }\n",
              "\n",
              "    [theme=dark] .colab-df-convert:hover {\n",
              "      background-color: #434B5C;\n",
              "      box-shadow: 0px 1px 3px 1px rgba(0, 0, 0, 0.15);\n",
              "      filter: drop-shadow(0px 1px 2px rgba(0, 0, 0, 0.3));\n",
              "      fill: #FFFFFF;\n",
              "    }\n",
              "  </style>\n",
              "\n",
              "      <script>\n",
              "        const buttonEl =\n",
              "          document.querySelector('#df-a71e9d93-44c4-4dde-8908-14afd5b38ddb button.colab-df-convert');\n",
              "        buttonEl.style.display =\n",
              "          google.colab.kernel.accessAllowed ? 'block' : 'none';\n",
              "\n",
              "        async function convertToInteractive(key) {\n",
              "          const element = document.querySelector('#df-a71e9d93-44c4-4dde-8908-14afd5b38ddb');\n",
              "          const dataTable =\n",
              "            await google.colab.kernel.invokeFunction('convertToInteractive',\n",
              "                                                     [key], {});\n",
              "          if (!dataTable) return;\n",
              "\n",
              "          const docLinkHtml = 'Like what you see? Visit the ' +\n",
              "            '<a target=\"_blank\" href=https://colab.research.google.com/notebooks/data_table.ipynb>data table notebook</a>'\n",
              "            + ' to learn more about interactive tables.';\n",
              "          element.innerHTML = '';\n",
              "          dataTable['output_type'] = 'display_data';\n",
              "          await google.colab.output.renderOutput(dataTable, element);\n",
              "          const docLink = document.createElement('div');\n",
              "          docLink.innerHTML = docLinkHtml;\n",
              "          element.appendChild(docLink);\n",
              "        }\n",
              "      </script>\n",
              "    </div>\n",
              "  </div>\n",
              "  "
            ]
          },
          "metadata": {},
          "execution_count": 334
        }
      ]
    },
    {
      "cell_type": "code",
      "source": [
        "# Timestamp를 Period로 변환하여 년원일 표기 변경하기, freq 옵션 사용\n",
        "df['Date_yr'] = df['new_Date'].dt.to_period(freq='A')\n",
        "df['Date_m'] = df['new_Date'].dt.to_period(freq='M')"
      ],
      "metadata": {
        "id": "cXyvOYNBYsAw"
      },
      "execution_count": null,
      "outputs": []
    },
    {
      "cell_type": "code",
      "source": [
        "# 추출한 날짜 정보 Date_m 열을 데이터 프레임의 행 인덱스로 지정\n",
        "df.set_index('Date_m', inplace=True)\n",
        "df.head(3)"
      ],
      "metadata": {
        "colab": {
          "base_uri": "https://localhost:8080/",
          "height": 175
        },
        "id": "Xyv-dS1FFdDB",
        "outputId": "2b696cd4-b549-4c52-a830-db97876cb519"
      },
      "execution_count": null,
      "outputs": [
        {
          "output_type": "execute_result",
          "data": {
            "text/plain": [
              "               Date  Close  Start   High    Low  Volume   new_Date  year  \\\n",
              "Date_m                                                                     \n",
              "2018-07  2018-07-02  10100  10850  10900  10000  137977 2018-07-02  2018   \n",
              "2018-06  2018-06-29  10700  10550  10900   9990  170253 2018-06-29  2018   \n",
              "2018-06  2018-06-28  10400  10900  10950  10150  155769 2018-06-28  2018   \n",
              "\n",
              "         month  day Date_yr  \n",
              "Date_m                       \n",
              "2018-07      7    2    2018  \n",
              "2018-06      6   29    2018  \n",
              "2018-06      6   28    2018  "
            ],
            "text/html": [
              "\n",
              "  <div id=\"df-d463b893-ccd3-4b4a-b7c5-35731c99956f\">\n",
              "    <div class=\"colab-df-container\">\n",
              "      <div>\n",
              "<style scoped>\n",
              "    .dataframe tbody tr th:only-of-type {\n",
              "        vertical-align: middle;\n",
              "    }\n",
              "\n",
              "    .dataframe tbody tr th {\n",
              "        vertical-align: top;\n",
              "    }\n",
              "\n",
              "    .dataframe thead th {\n",
              "        text-align: right;\n",
              "    }\n",
              "</style>\n",
              "<table border=\"1\" class=\"dataframe\">\n",
              "  <thead>\n",
              "    <tr style=\"text-align: right;\">\n",
              "      <th></th>\n",
              "      <th>Date</th>\n",
              "      <th>Close</th>\n",
              "      <th>Start</th>\n",
              "      <th>High</th>\n",
              "      <th>Low</th>\n",
              "      <th>Volume</th>\n",
              "      <th>new_Date</th>\n",
              "      <th>year</th>\n",
              "      <th>month</th>\n",
              "      <th>day</th>\n",
              "      <th>Date_yr</th>\n",
              "    </tr>\n",
              "    <tr>\n",
              "      <th>Date_m</th>\n",
              "      <th></th>\n",
              "      <th></th>\n",
              "      <th></th>\n",
              "      <th></th>\n",
              "      <th></th>\n",
              "      <th></th>\n",
              "      <th></th>\n",
              "      <th></th>\n",
              "      <th></th>\n",
              "      <th></th>\n",
              "      <th></th>\n",
              "    </tr>\n",
              "  </thead>\n",
              "  <tbody>\n",
              "    <tr>\n",
              "      <th>2018-07</th>\n",
              "      <td>2018-07-02</td>\n",
              "      <td>10100</td>\n",
              "      <td>10850</td>\n",
              "      <td>10900</td>\n",
              "      <td>10000</td>\n",
              "      <td>137977</td>\n",
              "      <td>2018-07-02</td>\n",
              "      <td>2018</td>\n",
              "      <td>7</td>\n",
              "      <td>2</td>\n",
              "      <td>2018</td>\n",
              "    </tr>\n",
              "    <tr>\n",
              "      <th>2018-06</th>\n",
              "      <td>2018-06-29</td>\n",
              "      <td>10700</td>\n",
              "      <td>10550</td>\n",
              "      <td>10900</td>\n",
              "      <td>9990</td>\n",
              "      <td>170253</td>\n",
              "      <td>2018-06-29</td>\n",
              "      <td>2018</td>\n",
              "      <td>6</td>\n",
              "      <td>29</td>\n",
              "      <td>2018</td>\n",
              "    </tr>\n",
              "    <tr>\n",
              "      <th>2018-06</th>\n",
              "      <td>2018-06-28</td>\n",
              "      <td>10400</td>\n",
              "      <td>10900</td>\n",
              "      <td>10950</td>\n",
              "      <td>10150</td>\n",
              "      <td>155769</td>\n",
              "      <td>2018-06-28</td>\n",
              "      <td>2018</td>\n",
              "      <td>6</td>\n",
              "      <td>28</td>\n",
              "      <td>2018</td>\n",
              "    </tr>\n",
              "  </tbody>\n",
              "</table>\n",
              "</div>\n",
              "      <button class=\"colab-df-convert\" onclick=\"convertToInteractive('df-d463b893-ccd3-4b4a-b7c5-35731c99956f')\"\n",
              "              title=\"Convert this dataframe to an interactive table.\"\n",
              "              style=\"display:none;\">\n",
              "        \n",
              "  <svg xmlns=\"http://www.w3.org/2000/svg\" height=\"24px\"viewBox=\"0 0 24 24\"\n",
              "       width=\"24px\">\n",
              "    <path d=\"M0 0h24v24H0V0z\" fill=\"none\"/>\n",
              "    <path d=\"M18.56 5.44l.94 2.06.94-2.06 2.06-.94-2.06-.94-.94-2.06-.94 2.06-2.06.94zm-11 1L8.5 8.5l.94-2.06 2.06-.94-2.06-.94L8.5 2.5l-.94 2.06-2.06.94zm10 10l.94 2.06.94-2.06 2.06-.94-2.06-.94-.94-2.06-.94 2.06-2.06.94z\"/><path d=\"M17.41 7.96l-1.37-1.37c-.4-.4-.92-.59-1.43-.59-.52 0-1.04.2-1.43.59L10.3 9.45l-7.72 7.72c-.78.78-.78 2.05 0 2.83L4 21.41c.39.39.9.59 1.41.59.51 0 1.02-.2 1.41-.59l7.78-7.78 2.81-2.81c.8-.78.8-2.07 0-2.86zM5.41 20L4 18.59l7.72-7.72 1.47 1.35L5.41 20z\"/>\n",
              "  </svg>\n",
              "      </button>\n",
              "      \n",
              "  <style>\n",
              "    .colab-df-container {\n",
              "      display:flex;\n",
              "      flex-wrap:wrap;\n",
              "      gap: 12px;\n",
              "    }\n",
              "\n",
              "    .colab-df-convert {\n",
              "      background-color: #E8F0FE;\n",
              "      border: none;\n",
              "      border-radius: 50%;\n",
              "      cursor: pointer;\n",
              "      display: none;\n",
              "      fill: #1967D2;\n",
              "      height: 32px;\n",
              "      padding: 0 0 0 0;\n",
              "      width: 32px;\n",
              "    }\n",
              "\n",
              "    .colab-df-convert:hover {\n",
              "      background-color: #E2EBFA;\n",
              "      box-shadow: 0px 1px 2px rgba(60, 64, 67, 0.3), 0px 1px 3px 1px rgba(60, 64, 67, 0.15);\n",
              "      fill: #174EA6;\n",
              "    }\n",
              "\n",
              "    [theme=dark] .colab-df-convert {\n",
              "      background-color: #3B4455;\n",
              "      fill: #D2E3FC;\n",
              "    }\n",
              "\n",
              "    [theme=dark] .colab-df-convert:hover {\n",
              "      background-color: #434B5C;\n",
              "      box-shadow: 0px 1px 3px 1px rgba(0, 0, 0, 0.15);\n",
              "      filter: drop-shadow(0px 1px 2px rgba(0, 0, 0, 0.3));\n",
              "      fill: #FFFFFF;\n",
              "    }\n",
              "  </style>\n",
              "\n",
              "      <script>\n",
              "        const buttonEl =\n",
              "          document.querySelector('#df-d463b893-ccd3-4b4a-b7c5-35731c99956f button.colab-df-convert');\n",
              "        buttonEl.style.display =\n",
              "          google.colab.kernel.accessAllowed ? 'block' : 'none';\n",
              "\n",
              "        async function convertToInteractive(key) {\n",
              "          const element = document.querySelector('#df-d463b893-ccd3-4b4a-b7c5-35731c99956f');\n",
              "          const dataTable =\n",
              "            await google.colab.kernel.invokeFunction('convertToInteractive',\n",
              "                                                     [key], {});\n",
              "          if (!dataTable) return;\n",
              "\n",
              "          const docLinkHtml = 'Like what you see? Visit the ' +\n",
              "            '<a target=\"_blank\" href=https://colab.research.google.com/notebooks/data_table.ipynb>data table notebook</a>'\n",
              "            + ' to learn more about interactive tables.';\n",
              "          element.innerHTML = '';\n",
              "          dataTable['output_type'] = 'display_data';\n",
              "          await google.colab.output.renderOutput(dataTable, element);\n",
              "          const docLink = document.createElement('div');\n",
              "          docLink.innerHTML = docLinkHtml;\n",
              "          element.appendChild(docLink);\n",
              "        }\n",
              "      </script>\n",
              "    </div>\n",
              "  </div>\n",
              "  "
            ]
          },
          "metadata": {},
          "execution_count": 345
        }
      ]
    },
    {
      "cell_type": "markdown",
      "source": [
        "#### 날짜 인덱스 활용\n",
        "* Timestamp 열 > 행 인덱스 DatatimeIndex 속성\n",
        "* Period 열 > 행 인덱스 PeriodIndex 속성\n",
        "* 시계열 데이터 인덱싱과 슬라이싱은 날짜 인덱스 사용"
      ],
      "metadata": {
        "id": "vXvWlgNdc1Yw"
      }
    },
    {
      "cell_type": "code",
      "source": [
        "# stock-data.csv 파일 불러오기\n",
        "df = pd.read_csv('/content/drive/MyDrive/ Encore Prac/stock-data.csv')\n",
        "# Date열을 Timestamp 객체로 변경해서 new_Date 열에 저장\n",
        "df['new_Date'] = pd.to_datetime(df.Date)\n",
        "df.set_index('new_Date', inplace=True)\n",
        "df.drop('Date', axis=1, inplace=True)"
      ],
      "metadata": {
        "id": "TGVQWenjcQiw"
      },
      "execution_count": null,
      "outputs": []
    },
    {
      "cell_type": "code",
      "source": [
        "# 2018년 데이터 인덱싱\n",
        "df.loc['2018'].head(3)"
      ],
      "metadata": {
        "colab": {
          "base_uri": "https://localhost:8080/",
          "height": 175
        },
        "id": "LRiQ1zi3fTva",
        "outputId": "2ce68731-8224-4cbe-b581-8a7644fc2245"
      },
      "execution_count": null,
      "outputs": [
        {
          "output_type": "execute_result",
          "data": {
            "text/plain": [
              "            Close  Start   High    Low  Volume\n",
              "new_Date                                      \n",
              "2018-07-02  10100  10850  10900  10000  137977\n",
              "2018-06-29  10700  10550  10900   9990  170253\n",
              "2018-06-28  10400  10900  10950  10150  155769"
            ],
            "text/html": [
              "\n",
              "  <div id=\"df-8214f670-d251-4fd3-ab37-2cbcb1fd6925\">\n",
              "    <div class=\"colab-df-container\">\n",
              "      <div>\n",
              "<style scoped>\n",
              "    .dataframe tbody tr th:only-of-type {\n",
              "        vertical-align: middle;\n",
              "    }\n",
              "\n",
              "    .dataframe tbody tr th {\n",
              "        vertical-align: top;\n",
              "    }\n",
              "\n",
              "    .dataframe thead th {\n",
              "        text-align: right;\n",
              "    }\n",
              "</style>\n",
              "<table border=\"1\" class=\"dataframe\">\n",
              "  <thead>\n",
              "    <tr style=\"text-align: right;\">\n",
              "      <th></th>\n",
              "      <th>Close</th>\n",
              "      <th>Start</th>\n",
              "      <th>High</th>\n",
              "      <th>Low</th>\n",
              "      <th>Volume</th>\n",
              "    </tr>\n",
              "    <tr>\n",
              "      <th>new_Date</th>\n",
              "      <th></th>\n",
              "      <th></th>\n",
              "      <th></th>\n",
              "      <th></th>\n",
              "      <th></th>\n",
              "    </tr>\n",
              "  </thead>\n",
              "  <tbody>\n",
              "    <tr>\n",
              "      <th>2018-07-02</th>\n",
              "      <td>10100</td>\n",
              "      <td>10850</td>\n",
              "      <td>10900</td>\n",
              "      <td>10000</td>\n",
              "      <td>137977</td>\n",
              "    </tr>\n",
              "    <tr>\n",
              "      <th>2018-06-29</th>\n",
              "      <td>10700</td>\n",
              "      <td>10550</td>\n",
              "      <td>10900</td>\n",
              "      <td>9990</td>\n",
              "      <td>170253</td>\n",
              "    </tr>\n",
              "    <tr>\n",
              "      <th>2018-06-28</th>\n",
              "      <td>10400</td>\n",
              "      <td>10900</td>\n",
              "      <td>10950</td>\n",
              "      <td>10150</td>\n",
              "      <td>155769</td>\n",
              "    </tr>\n",
              "  </tbody>\n",
              "</table>\n",
              "</div>\n",
              "      <button class=\"colab-df-convert\" onclick=\"convertToInteractive('df-8214f670-d251-4fd3-ab37-2cbcb1fd6925')\"\n",
              "              title=\"Convert this dataframe to an interactive table.\"\n",
              "              style=\"display:none;\">\n",
              "        \n",
              "  <svg xmlns=\"http://www.w3.org/2000/svg\" height=\"24px\"viewBox=\"0 0 24 24\"\n",
              "       width=\"24px\">\n",
              "    <path d=\"M0 0h24v24H0V0z\" fill=\"none\"/>\n",
              "    <path d=\"M18.56 5.44l.94 2.06.94-2.06 2.06-.94-2.06-.94-.94-2.06-.94 2.06-2.06.94zm-11 1L8.5 8.5l.94-2.06 2.06-.94-2.06-.94L8.5 2.5l-.94 2.06-2.06.94zm10 10l.94 2.06.94-2.06 2.06-.94-2.06-.94-.94-2.06-.94 2.06-2.06.94z\"/><path d=\"M17.41 7.96l-1.37-1.37c-.4-.4-.92-.59-1.43-.59-.52 0-1.04.2-1.43.59L10.3 9.45l-7.72 7.72c-.78.78-.78 2.05 0 2.83L4 21.41c.39.39.9.59 1.41.59.51 0 1.02-.2 1.41-.59l7.78-7.78 2.81-2.81c.8-.78.8-2.07 0-2.86zM5.41 20L4 18.59l7.72-7.72 1.47 1.35L5.41 20z\"/>\n",
              "  </svg>\n",
              "      </button>\n",
              "      \n",
              "  <style>\n",
              "    .colab-df-container {\n",
              "      display:flex;\n",
              "      flex-wrap:wrap;\n",
              "      gap: 12px;\n",
              "    }\n",
              "\n",
              "    .colab-df-convert {\n",
              "      background-color: #E8F0FE;\n",
              "      border: none;\n",
              "      border-radius: 50%;\n",
              "      cursor: pointer;\n",
              "      display: none;\n",
              "      fill: #1967D2;\n",
              "      height: 32px;\n",
              "      padding: 0 0 0 0;\n",
              "      width: 32px;\n",
              "    }\n",
              "\n",
              "    .colab-df-convert:hover {\n",
              "      background-color: #E2EBFA;\n",
              "      box-shadow: 0px 1px 2px rgba(60, 64, 67, 0.3), 0px 1px 3px 1px rgba(60, 64, 67, 0.15);\n",
              "      fill: #174EA6;\n",
              "    }\n",
              "\n",
              "    [theme=dark] .colab-df-convert {\n",
              "      background-color: #3B4455;\n",
              "      fill: #D2E3FC;\n",
              "    }\n",
              "\n",
              "    [theme=dark] .colab-df-convert:hover {\n",
              "      background-color: #434B5C;\n",
              "      box-shadow: 0px 1px 3px 1px rgba(0, 0, 0, 0.15);\n",
              "      filter: drop-shadow(0px 1px 2px rgba(0, 0, 0, 0.3));\n",
              "      fill: #FFFFFF;\n",
              "    }\n",
              "  </style>\n",
              "\n",
              "      <script>\n",
              "        const buttonEl =\n",
              "          document.querySelector('#df-8214f670-d251-4fd3-ab37-2cbcb1fd6925 button.colab-df-convert');\n",
              "        buttonEl.style.display =\n",
              "          google.colab.kernel.accessAllowed ? 'block' : 'none';\n",
              "\n",
              "        async function convertToInteractive(key) {\n",
              "          const element = document.querySelector('#df-8214f670-d251-4fd3-ab37-2cbcb1fd6925');\n",
              "          const dataTable =\n",
              "            await google.colab.kernel.invokeFunction('convertToInteractive',\n",
              "                                                     [key], {});\n",
              "          if (!dataTable) return;\n",
              "\n",
              "          const docLinkHtml = 'Like what you see? Visit the ' +\n",
              "            '<a target=\"_blank\" href=https://colab.research.google.com/notebooks/data_table.ipynb>data table notebook</a>'\n",
              "            + ' to learn more about interactive tables.';\n",
              "          element.innerHTML = '';\n",
              "          dataTable['output_type'] = 'display_data';\n",
              "          await google.colab.output.renderOutput(dataTable, element);\n",
              "          const docLink = document.createElement('div');\n",
              "          docLink.innerHTML = docLinkHtml;\n",
              "          element.appendChild(docLink);\n",
              "        }\n",
              "      </script>\n",
              "    </div>\n",
              "  </div>\n",
              "  "
            ]
          },
          "metadata": {},
          "execution_count": 400
        }
      ]
    },
    {
      "cell_type": "code",
      "source": [
        "# 2018년 6월 데이터 인덱싱\n",
        "df.loc['2018-06'].head(3)\n",
        "df['2018-06'].head(3)  #열 지정 방식으로도 인덱싱 가능"
      ],
      "metadata": {
        "colab": {
          "base_uri": "https://localhost:8080/",
          "height": 231
        },
        "id": "Njx1xbZUcQqF",
        "outputId": "f48952d5-7490-46a8-a007-40fc0f646279"
      },
      "execution_count": null,
      "outputs": [
        {
          "output_type": "stream",
          "name": "stderr",
          "text": [
            "/usr/local/lib/python3.7/dist-packages/ipykernel_launcher.py:2: FutureWarning: Indexing a DataFrame with a datetimelike index using a single string to slice the rows, like `frame[string]`, is deprecated and will be removed in a future version. Use `frame.loc[string]` instead.\n",
            "  \n"
          ]
        },
        {
          "output_type": "execute_result",
          "data": {
            "text/plain": [
              "            Close  Start   High    Low  Volume\n",
              "new_Date                                      \n",
              "2018-06-29  10700  10550  10900   9990  170253\n",
              "2018-06-28  10400  10900  10950  10150  155769\n",
              "2018-06-27  10900  10800  11050  10500  133548"
            ],
            "text/html": [
              "\n",
              "  <div id=\"df-808f2e45-e967-48c4-9298-fcb70378ea09\">\n",
              "    <div class=\"colab-df-container\">\n",
              "      <div>\n",
              "<style scoped>\n",
              "    .dataframe tbody tr th:only-of-type {\n",
              "        vertical-align: middle;\n",
              "    }\n",
              "\n",
              "    .dataframe tbody tr th {\n",
              "        vertical-align: top;\n",
              "    }\n",
              "\n",
              "    .dataframe thead th {\n",
              "        text-align: right;\n",
              "    }\n",
              "</style>\n",
              "<table border=\"1\" class=\"dataframe\">\n",
              "  <thead>\n",
              "    <tr style=\"text-align: right;\">\n",
              "      <th></th>\n",
              "      <th>Close</th>\n",
              "      <th>Start</th>\n",
              "      <th>High</th>\n",
              "      <th>Low</th>\n",
              "      <th>Volume</th>\n",
              "    </tr>\n",
              "    <tr>\n",
              "      <th>new_Date</th>\n",
              "      <th></th>\n",
              "      <th></th>\n",
              "      <th></th>\n",
              "      <th></th>\n",
              "      <th></th>\n",
              "    </tr>\n",
              "  </thead>\n",
              "  <tbody>\n",
              "    <tr>\n",
              "      <th>2018-06-29</th>\n",
              "      <td>10700</td>\n",
              "      <td>10550</td>\n",
              "      <td>10900</td>\n",
              "      <td>9990</td>\n",
              "      <td>170253</td>\n",
              "    </tr>\n",
              "    <tr>\n",
              "      <th>2018-06-28</th>\n",
              "      <td>10400</td>\n",
              "      <td>10900</td>\n",
              "      <td>10950</td>\n",
              "      <td>10150</td>\n",
              "      <td>155769</td>\n",
              "    </tr>\n",
              "    <tr>\n",
              "      <th>2018-06-27</th>\n",
              "      <td>10900</td>\n",
              "      <td>10800</td>\n",
              "      <td>11050</td>\n",
              "      <td>10500</td>\n",
              "      <td>133548</td>\n",
              "    </tr>\n",
              "  </tbody>\n",
              "</table>\n",
              "</div>\n",
              "      <button class=\"colab-df-convert\" onclick=\"convertToInteractive('df-808f2e45-e967-48c4-9298-fcb70378ea09')\"\n",
              "              title=\"Convert this dataframe to an interactive table.\"\n",
              "              style=\"display:none;\">\n",
              "        \n",
              "  <svg xmlns=\"http://www.w3.org/2000/svg\" height=\"24px\"viewBox=\"0 0 24 24\"\n",
              "       width=\"24px\">\n",
              "    <path d=\"M0 0h24v24H0V0z\" fill=\"none\"/>\n",
              "    <path d=\"M18.56 5.44l.94 2.06.94-2.06 2.06-.94-2.06-.94-.94-2.06-.94 2.06-2.06.94zm-11 1L8.5 8.5l.94-2.06 2.06-.94-2.06-.94L8.5 2.5l-.94 2.06-2.06.94zm10 10l.94 2.06.94-2.06 2.06-.94-2.06-.94-.94-2.06-.94 2.06-2.06.94z\"/><path d=\"M17.41 7.96l-1.37-1.37c-.4-.4-.92-.59-1.43-.59-.52 0-1.04.2-1.43.59L10.3 9.45l-7.72 7.72c-.78.78-.78 2.05 0 2.83L4 21.41c.39.39.9.59 1.41.59.51 0 1.02-.2 1.41-.59l7.78-7.78 2.81-2.81c.8-.78.8-2.07 0-2.86zM5.41 20L4 18.59l7.72-7.72 1.47 1.35L5.41 20z\"/>\n",
              "  </svg>\n",
              "      </button>\n",
              "      \n",
              "  <style>\n",
              "    .colab-df-container {\n",
              "      display:flex;\n",
              "      flex-wrap:wrap;\n",
              "      gap: 12px;\n",
              "    }\n",
              "\n",
              "    .colab-df-convert {\n",
              "      background-color: #E8F0FE;\n",
              "      border: none;\n",
              "      border-radius: 50%;\n",
              "      cursor: pointer;\n",
              "      display: none;\n",
              "      fill: #1967D2;\n",
              "      height: 32px;\n",
              "      padding: 0 0 0 0;\n",
              "      width: 32px;\n",
              "    }\n",
              "\n",
              "    .colab-df-convert:hover {\n",
              "      background-color: #E2EBFA;\n",
              "      box-shadow: 0px 1px 2px rgba(60, 64, 67, 0.3), 0px 1px 3px 1px rgba(60, 64, 67, 0.15);\n",
              "      fill: #174EA6;\n",
              "    }\n",
              "\n",
              "    [theme=dark] .colab-df-convert {\n",
              "      background-color: #3B4455;\n",
              "      fill: #D2E3FC;\n",
              "    }\n",
              "\n",
              "    [theme=dark] .colab-df-convert:hover {\n",
              "      background-color: #434B5C;\n",
              "      box-shadow: 0px 1px 3px 1px rgba(0, 0, 0, 0.15);\n",
              "      filter: drop-shadow(0px 1px 2px rgba(0, 0, 0, 0.3));\n",
              "      fill: #FFFFFF;\n",
              "    }\n",
              "  </style>\n",
              "\n",
              "      <script>\n",
              "        const buttonEl =\n",
              "          document.querySelector('#df-808f2e45-e967-48c4-9298-fcb70378ea09 button.colab-df-convert');\n",
              "        buttonEl.style.display =\n",
              "          google.colab.kernel.accessAllowed ? 'block' : 'none';\n",
              "\n",
              "        async function convertToInteractive(key) {\n",
              "          const element = document.querySelector('#df-808f2e45-e967-48c4-9298-fcb70378ea09');\n",
              "          const dataTable =\n",
              "            await google.colab.kernel.invokeFunction('convertToInteractive',\n",
              "                                                     [key], {});\n",
              "          if (!dataTable) return;\n",
              "\n",
              "          const docLinkHtml = 'Like what you see? Visit the ' +\n",
              "            '<a target=\"_blank\" href=https://colab.research.google.com/notebooks/data_table.ipynb>data table notebook</a>'\n",
              "            + ' to learn more about interactive tables.';\n",
              "          element.innerHTML = '';\n",
              "          dataTable['output_type'] = 'display_data';\n",
              "          await google.colab.output.renderOutput(dataTable, element);\n",
              "          const docLink = document.createElement('div');\n",
              "          docLink.innerHTML = docLinkHtml;\n",
              "          element.appendChild(docLink);\n",
              "        }\n",
              "      </script>\n",
              "    </div>\n",
              "  </div>\n",
              "  "
            ]
          },
          "metadata": {},
          "execution_count": 401
        }
      ]
    },
    {
      "cell_type": "code",
      "source": [
        "# 2018년 6월의 Start, High 열 데이터 인덱싱\n",
        "df.loc['2018-06', ['Start', 'High']].head(3)"
      ],
      "metadata": {
        "colab": {
          "base_uri": "https://localhost:8080/",
          "height": 175
        },
        "id": "ZyLo-8fdcQt6",
        "outputId": "890f8a15-02b0-4c78-a89b-83f9f40ab8b2"
      },
      "execution_count": null,
      "outputs": [
        {
          "output_type": "execute_result",
          "data": {
            "text/plain": [
              "            Start   High\n",
              "new_Date                \n",
              "2018-06-29  10550  10900\n",
              "2018-06-28  10900  10950\n",
              "2018-06-27  10800  11050"
            ],
            "text/html": [
              "\n",
              "  <div id=\"df-90f25d7e-f07d-4d91-ad16-cef8ce806f44\">\n",
              "    <div class=\"colab-df-container\">\n",
              "      <div>\n",
              "<style scoped>\n",
              "    .dataframe tbody tr th:only-of-type {\n",
              "        vertical-align: middle;\n",
              "    }\n",
              "\n",
              "    .dataframe tbody tr th {\n",
              "        vertical-align: top;\n",
              "    }\n",
              "\n",
              "    .dataframe thead th {\n",
              "        text-align: right;\n",
              "    }\n",
              "</style>\n",
              "<table border=\"1\" class=\"dataframe\">\n",
              "  <thead>\n",
              "    <tr style=\"text-align: right;\">\n",
              "      <th></th>\n",
              "      <th>Start</th>\n",
              "      <th>High</th>\n",
              "    </tr>\n",
              "    <tr>\n",
              "      <th>new_Date</th>\n",
              "      <th></th>\n",
              "      <th></th>\n",
              "    </tr>\n",
              "  </thead>\n",
              "  <tbody>\n",
              "    <tr>\n",
              "      <th>2018-06-29</th>\n",
              "      <td>10550</td>\n",
              "      <td>10900</td>\n",
              "    </tr>\n",
              "    <tr>\n",
              "      <th>2018-06-28</th>\n",
              "      <td>10900</td>\n",
              "      <td>10950</td>\n",
              "    </tr>\n",
              "    <tr>\n",
              "      <th>2018-06-27</th>\n",
              "      <td>10800</td>\n",
              "      <td>11050</td>\n",
              "    </tr>\n",
              "  </tbody>\n",
              "</table>\n",
              "</div>\n",
              "      <button class=\"colab-df-convert\" onclick=\"convertToInteractive('df-90f25d7e-f07d-4d91-ad16-cef8ce806f44')\"\n",
              "              title=\"Convert this dataframe to an interactive table.\"\n",
              "              style=\"display:none;\">\n",
              "        \n",
              "  <svg xmlns=\"http://www.w3.org/2000/svg\" height=\"24px\"viewBox=\"0 0 24 24\"\n",
              "       width=\"24px\">\n",
              "    <path d=\"M0 0h24v24H0V0z\" fill=\"none\"/>\n",
              "    <path d=\"M18.56 5.44l.94 2.06.94-2.06 2.06-.94-2.06-.94-.94-2.06-.94 2.06-2.06.94zm-11 1L8.5 8.5l.94-2.06 2.06-.94-2.06-.94L8.5 2.5l-.94 2.06-2.06.94zm10 10l.94 2.06.94-2.06 2.06-.94-2.06-.94-.94-2.06-.94 2.06-2.06.94z\"/><path d=\"M17.41 7.96l-1.37-1.37c-.4-.4-.92-.59-1.43-.59-.52 0-1.04.2-1.43.59L10.3 9.45l-7.72 7.72c-.78.78-.78 2.05 0 2.83L4 21.41c.39.39.9.59 1.41.59.51 0 1.02-.2 1.41-.59l7.78-7.78 2.81-2.81c.8-.78.8-2.07 0-2.86zM5.41 20L4 18.59l7.72-7.72 1.47 1.35L5.41 20z\"/>\n",
              "  </svg>\n",
              "      </button>\n",
              "      \n",
              "  <style>\n",
              "    .colab-df-container {\n",
              "      display:flex;\n",
              "      flex-wrap:wrap;\n",
              "      gap: 12px;\n",
              "    }\n",
              "\n",
              "    .colab-df-convert {\n",
              "      background-color: #E8F0FE;\n",
              "      border: none;\n",
              "      border-radius: 50%;\n",
              "      cursor: pointer;\n",
              "      display: none;\n",
              "      fill: #1967D2;\n",
              "      height: 32px;\n",
              "      padding: 0 0 0 0;\n",
              "      width: 32px;\n",
              "    }\n",
              "\n",
              "    .colab-df-convert:hover {\n",
              "      background-color: #E2EBFA;\n",
              "      box-shadow: 0px 1px 2px rgba(60, 64, 67, 0.3), 0px 1px 3px 1px rgba(60, 64, 67, 0.15);\n",
              "      fill: #174EA6;\n",
              "    }\n",
              "\n",
              "    [theme=dark] .colab-df-convert {\n",
              "      background-color: #3B4455;\n",
              "      fill: #D2E3FC;\n",
              "    }\n",
              "\n",
              "    [theme=dark] .colab-df-convert:hover {\n",
              "      background-color: #434B5C;\n",
              "      box-shadow: 0px 1px 3px 1px rgba(0, 0, 0, 0.15);\n",
              "      filter: drop-shadow(0px 1px 2px rgba(0, 0, 0, 0.3));\n",
              "      fill: #FFFFFF;\n",
              "    }\n",
              "  </style>\n",
              "\n",
              "      <script>\n",
              "        const buttonEl =\n",
              "          document.querySelector('#df-90f25d7e-f07d-4d91-ad16-cef8ce806f44 button.colab-df-convert');\n",
              "        buttonEl.style.display =\n",
              "          google.colab.kernel.accessAllowed ? 'block' : 'none';\n",
              "\n",
              "        async function convertToInteractive(key) {\n",
              "          const element = document.querySelector('#df-90f25d7e-f07d-4d91-ad16-cef8ce806f44');\n",
              "          const dataTable =\n",
              "            await google.colab.kernel.invokeFunction('convertToInteractive',\n",
              "                                                     [key], {});\n",
              "          if (!dataTable) return;\n",
              "\n",
              "          const docLinkHtml = 'Like what you see? Visit the ' +\n",
              "            '<a target=\"_blank\" href=https://colab.research.google.com/notebooks/data_table.ipynb>data table notebook</a>'\n",
              "            + ' to learn more about interactive tables.';\n",
              "          element.innerHTML = '';\n",
              "          dataTable['output_type'] = 'display_data';\n",
              "          await google.colab.output.renderOutput(dataTable, element);\n",
              "          const docLink = document.createElement('div');\n",
              "          docLink.innerHTML = docLinkHtml;\n",
              "          element.appendChild(docLink);\n",
              "        }\n",
              "      </script>\n",
              "    </div>\n",
              "  </div>\n",
              "  "
            ]
          },
          "metadata": {},
          "execution_count": 402
        }
      ]
    },
    {
      "cell_type": "code",
      "source": [
        "df.loc['2018-06-15']"
      ],
      "metadata": {
        "colab": {
          "base_uri": "https://localhost:8080/",
          "height": 112
        },
        "id": "cy2dDRp0cQvU",
        "outputId": "94c3fa31-23f1-49e9-c688-b5ad8c50daa6"
      },
      "execution_count": null,
      "outputs": [
        {
          "output_type": "execute_result",
          "data": {
            "text/plain": [
              "            Close  Start   High    Low  Volume\n",
              "new_Date                                      \n",
              "2018-06-15  13400  13600  13600  12900  201376"
            ],
            "text/html": [
              "\n",
              "  <div id=\"df-ef8a4a4f-eb28-4570-9ef4-e07abb20787b\">\n",
              "    <div class=\"colab-df-container\">\n",
              "      <div>\n",
              "<style scoped>\n",
              "    .dataframe tbody tr th:only-of-type {\n",
              "        vertical-align: middle;\n",
              "    }\n",
              "\n",
              "    .dataframe tbody tr th {\n",
              "        vertical-align: top;\n",
              "    }\n",
              "\n",
              "    .dataframe thead th {\n",
              "        text-align: right;\n",
              "    }\n",
              "</style>\n",
              "<table border=\"1\" class=\"dataframe\">\n",
              "  <thead>\n",
              "    <tr style=\"text-align: right;\">\n",
              "      <th></th>\n",
              "      <th>Close</th>\n",
              "      <th>Start</th>\n",
              "      <th>High</th>\n",
              "      <th>Low</th>\n",
              "      <th>Volume</th>\n",
              "    </tr>\n",
              "    <tr>\n",
              "      <th>new_Date</th>\n",
              "      <th></th>\n",
              "      <th></th>\n",
              "      <th></th>\n",
              "      <th></th>\n",
              "      <th></th>\n",
              "    </tr>\n",
              "  </thead>\n",
              "  <tbody>\n",
              "    <tr>\n",
              "      <th>2018-06-15</th>\n",
              "      <td>13400</td>\n",
              "      <td>13600</td>\n",
              "      <td>13600</td>\n",
              "      <td>12900</td>\n",
              "      <td>201376</td>\n",
              "    </tr>\n",
              "  </tbody>\n",
              "</table>\n",
              "</div>\n",
              "      <button class=\"colab-df-convert\" onclick=\"convertToInteractive('df-ef8a4a4f-eb28-4570-9ef4-e07abb20787b')\"\n",
              "              title=\"Convert this dataframe to an interactive table.\"\n",
              "              style=\"display:none;\">\n",
              "        \n",
              "  <svg xmlns=\"http://www.w3.org/2000/svg\" height=\"24px\"viewBox=\"0 0 24 24\"\n",
              "       width=\"24px\">\n",
              "    <path d=\"M0 0h24v24H0V0z\" fill=\"none\"/>\n",
              "    <path d=\"M18.56 5.44l.94 2.06.94-2.06 2.06-.94-2.06-.94-.94-2.06-.94 2.06-2.06.94zm-11 1L8.5 8.5l.94-2.06 2.06-.94-2.06-.94L8.5 2.5l-.94 2.06-2.06.94zm10 10l.94 2.06.94-2.06 2.06-.94-2.06-.94-.94-2.06-.94 2.06-2.06.94z\"/><path d=\"M17.41 7.96l-1.37-1.37c-.4-.4-.92-.59-1.43-.59-.52 0-1.04.2-1.43.59L10.3 9.45l-7.72 7.72c-.78.78-.78 2.05 0 2.83L4 21.41c.39.39.9.59 1.41.59.51 0 1.02-.2 1.41-.59l7.78-7.78 2.81-2.81c.8-.78.8-2.07 0-2.86zM5.41 20L4 18.59l7.72-7.72 1.47 1.35L5.41 20z\"/>\n",
              "  </svg>\n",
              "      </button>\n",
              "      \n",
              "  <style>\n",
              "    .colab-df-container {\n",
              "      display:flex;\n",
              "      flex-wrap:wrap;\n",
              "      gap: 12px;\n",
              "    }\n",
              "\n",
              "    .colab-df-convert {\n",
              "      background-color: #E8F0FE;\n",
              "      border: none;\n",
              "      border-radius: 50%;\n",
              "      cursor: pointer;\n",
              "      display: none;\n",
              "      fill: #1967D2;\n",
              "      height: 32px;\n",
              "      padding: 0 0 0 0;\n",
              "      width: 32px;\n",
              "    }\n",
              "\n",
              "    .colab-df-convert:hover {\n",
              "      background-color: #E2EBFA;\n",
              "      box-shadow: 0px 1px 2px rgba(60, 64, 67, 0.3), 0px 1px 3px 1px rgba(60, 64, 67, 0.15);\n",
              "      fill: #174EA6;\n",
              "    }\n",
              "\n",
              "    [theme=dark] .colab-df-convert {\n",
              "      background-color: #3B4455;\n",
              "      fill: #D2E3FC;\n",
              "    }\n",
              "\n",
              "    [theme=dark] .colab-df-convert:hover {\n",
              "      background-color: #434B5C;\n",
              "      box-shadow: 0px 1px 3px 1px rgba(0, 0, 0, 0.15);\n",
              "      filter: drop-shadow(0px 1px 2px rgba(0, 0, 0, 0.3));\n",
              "      fill: #FFFFFF;\n",
              "    }\n",
              "  </style>\n",
              "\n",
              "      <script>\n",
              "        const buttonEl =\n",
              "          document.querySelector('#df-ef8a4a4f-eb28-4570-9ef4-e07abb20787b button.colab-df-convert');\n",
              "        buttonEl.style.display =\n",
              "          google.colab.kernel.accessAllowed ? 'block' : 'none';\n",
              "\n",
              "        async function convertToInteractive(key) {\n",
              "          const element = document.querySelector('#df-ef8a4a4f-eb28-4570-9ef4-e07abb20787b');\n",
              "          const dataTable =\n",
              "            await google.colab.kernel.invokeFunction('convertToInteractive',\n",
              "                                                     [key], {});\n",
              "          if (!dataTable) return;\n",
              "\n",
              "          const docLinkHtml = 'Like what you see? Visit the ' +\n",
              "            '<a target=\"_blank\" href=https://colab.research.google.com/notebooks/data_table.ipynb>data table notebook</a>'\n",
              "            + ' to learn more about interactive tables.';\n",
              "          element.innerHTML = '';\n",
              "          dataTable['output_type'] = 'display_data';\n",
              "          await google.colab.output.renderOutput(dataTable, element);\n",
              "          const docLink = document.createElement('div');\n",
              "          docLink.innerHTML = docLinkHtml;\n",
              "          element.appendChild(docLink);\n",
              "        }\n",
              "      </script>\n",
              "    </div>\n",
              "  </div>\n",
              "  "
            ]
          },
          "metadata": {},
          "execution_count": 407
        }
      ]
    },
    {
      "cell_type": "code",
      "source": [
        "# 데이터 정렬 후 구간 인덱싱\n",
        "df.sort_index().loc['2018-06-20': '2018-06-25']"
      ],
      "metadata": {
        "colab": {
          "base_uri": "https://localhost:8080/",
          "height": 206
        },
        "id": "Hf_bspR9cQxD",
        "outputId": "ce4c7161-483c-43ce-93fd-b4109aa85a09"
      },
      "execution_count": null,
      "outputs": [
        {
          "output_type": "execute_result",
          "data": {
            "text/plain": [
              "            Close  Start   High    Low  Volume\n",
              "new_Date                                      \n",
              "2018-06-20  11550  11200  11600  10900  308596\n",
              "2018-06-21  11200  11350  11750  11200  133002\n",
              "2018-06-22  11300  11250  11450  10750  134805\n",
              "2018-06-25  11150  11400  11450  11000   55519"
            ],
            "text/html": [
              "\n",
              "  <div id=\"df-b2255e62-3cef-4be2-9d4d-4900922884e2\">\n",
              "    <div class=\"colab-df-container\">\n",
              "      <div>\n",
              "<style scoped>\n",
              "    .dataframe tbody tr th:only-of-type {\n",
              "        vertical-align: middle;\n",
              "    }\n",
              "\n",
              "    .dataframe tbody tr th {\n",
              "        vertical-align: top;\n",
              "    }\n",
              "\n",
              "    .dataframe thead th {\n",
              "        text-align: right;\n",
              "    }\n",
              "</style>\n",
              "<table border=\"1\" class=\"dataframe\">\n",
              "  <thead>\n",
              "    <tr style=\"text-align: right;\">\n",
              "      <th></th>\n",
              "      <th>Close</th>\n",
              "      <th>Start</th>\n",
              "      <th>High</th>\n",
              "      <th>Low</th>\n",
              "      <th>Volume</th>\n",
              "    </tr>\n",
              "    <tr>\n",
              "      <th>new_Date</th>\n",
              "      <th></th>\n",
              "      <th></th>\n",
              "      <th></th>\n",
              "      <th></th>\n",
              "      <th></th>\n",
              "    </tr>\n",
              "  </thead>\n",
              "  <tbody>\n",
              "    <tr>\n",
              "      <th>2018-06-20</th>\n",
              "      <td>11550</td>\n",
              "      <td>11200</td>\n",
              "      <td>11600</td>\n",
              "      <td>10900</td>\n",
              "      <td>308596</td>\n",
              "    </tr>\n",
              "    <tr>\n",
              "      <th>2018-06-21</th>\n",
              "      <td>11200</td>\n",
              "      <td>11350</td>\n",
              "      <td>11750</td>\n",
              "      <td>11200</td>\n",
              "      <td>133002</td>\n",
              "    </tr>\n",
              "    <tr>\n",
              "      <th>2018-06-22</th>\n",
              "      <td>11300</td>\n",
              "      <td>11250</td>\n",
              "      <td>11450</td>\n",
              "      <td>10750</td>\n",
              "      <td>134805</td>\n",
              "    </tr>\n",
              "    <tr>\n",
              "      <th>2018-06-25</th>\n",
              "      <td>11150</td>\n",
              "      <td>11400</td>\n",
              "      <td>11450</td>\n",
              "      <td>11000</td>\n",
              "      <td>55519</td>\n",
              "    </tr>\n",
              "  </tbody>\n",
              "</table>\n",
              "</div>\n",
              "      <button class=\"colab-df-convert\" onclick=\"convertToInteractive('df-b2255e62-3cef-4be2-9d4d-4900922884e2')\"\n",
              "              title=\"Convert this dataframe to an interactive table.\"\n",
              "              style=\"display:none;\">\n",
              "        \n",
              "  <svg xmlns=\"http://www.w3.org/2000/svg\" height=\"24px\"viewBox=\"0 0 24 24\"\n",
              "       width=\"24px\">\n",
              "    <path d=\"M0 0h24v24H0V0z\" fill=\"none\"/>\n",
              "    <path d=\"M18.56 5.44l.94 2.06.94-2.06 2.06-.94-2.06-.94-.94-2.06-.94 2.06-2.06.94zm-11 1L8.5 8.5l.94-2.06 2.06-.94-2.06-.94L8.5 2.5l-.94 2.06-2.06.94zm10 10l.94 2.06.94-2.06 2.06-.94-2.06-.94-.94-2.06-.94 2.06-2.06.94z\"/><path d=\"M17.41 7.96l-1.37-1.37c-.4-.4-.92-.59-1.43-.59-.52 0-1.04.2-1.43.59L10.3 9.45l-7.72 7.72c-.78.78-.78 2.05 0 2.83L4 21.41c.39.39.9.59 1.41.59.51 0 1.02-.2 1.41-.59l7.78-7.78 2.81-2.81c.8-.78.8-2.07 0-2.86zM5.41 20L4 18.59l7.72-7.72 1.47 1.35L5.41 20z\"/>\n",
              "  </svg>\n",
              "      </button>\n",
              "      \n",
              "  <style>\n",
              "    .colab-df-container {\n",
              "      display:flex;\n",
              "      flex-wrap:wrap;\n",
              "      gap: 12px;\n",
              "    }\n",
              "\n",
              "    .colab-df-convert {\n",
              "      background-color: #E8F0FE;\n",
              "      border: none;\n",
              "      border-radius: 50%;\n",
              "      cursor: pointer;\n",
              "      display: none;\n",
              "      fill: #1967D2;\n",
              "      height: 32px;\n",
              "      padding: 0 0 0 0;\n",
              "      width: 32px;\n",
              "    }\n",
              "\n",
              "    .colab-df-convert:hover {\n",
              "      background-color: #E2EBFA;\n",
              "      box-shadow: 0px 1px 2px rgba(60, 64, 67, 0.3), 0px 1px 3px 1px rgba(60, 64, 67, 0.15);\n",
              "      fill: #174EA6;\n",
              "    }\n",
              "\n",
              "    [theme=dark] .colab-df-convert {\n",
              "      background-color: #3B4455;\n",
              "      fill: #D2E3FC;\n",
              "    }\n",
              "\n",
              "    [theme=dark] .colab-df-convert:hover {\n",
              "      background-color: #434B5C;\n",
              "      box-shadow: 0px 1px 3px 1px rgba(0, 0, 0, 0.15);\n",
              "      filter: drop-shadow(0px 1px 2px rgba(0, 0, 0, 0.3));\n",
              "      fill: #FFFFFF;\n",
              "    }\n",
              "  </style>\n",
              "\n",
              "      <script>\n",
              "        const buttonEl =\n",
              "          document.querySelector('#df-b2255e62-3cef-4be2-9d4d-4900922884e2 button.colab-df-convert');\n",
              "        buttonEl.style.display =\n",
              "          google.colab.kernel.accessAllowed ? 'block' : 'none';\n",
              "\n",
              "        async function convertToInteractive(key) {\n",
              "          const element = document.querySelector('#df-b2255e62-3cef-4be2-9d4d-4900922884e2');\n",
              "          const dataTable =\n",
              "            await google.colab.kernel.invokeFunction('convertToInteractive',\n",
              "                                                     [key], {});\n",
              "          if (!dataTable) return;\n",
              "\n",
              "          const docLinkHtml = 'Like what you see? Visit the ' +\n",
              "            '<a target=\"_blank\" href=https://colab.research.google.com/notebooks/data_table.ipynb>data table notebook</a>'\n",
              "            + ' to learn more about interactive tables.';\n",
              "          element.innerHTML = '';\n",
              "          dataTable['output_type'] = 'display_data';\n",
              "          await google.colab.output.renderOutput(dataTable, element);\n",
              "          const docLink = document.createElement('div');\n",
              "          docLink.innerHTML = docLinkHtml;\n",
              "          element.appendChild(docLink);\n",
              "        }\n",
              "      </script>\n",
              "    </div>\n",
              "  </div>\n",
              "  "
            ]
          },
          "metadata": {},
          "execution_count": 423
        }
      ]
    }
  ]
}